{
 "metadata": {
  "language_info": {
   "codemirror_mode": {
    "name": "ipython",
    "version": 3
   },
   "file_extension": ".py",
   "mimetype": "text/x-python",
   "name": "python",
   "nbconvert_exporter": "python",
   "pygments_lexer": "ipython3",
   "version": "3.8.3-final"
  },
  "orig_nbformat": 2,
  "kernelspec": {
   "name": "python3",
   "display_name": "Python 3"
  }
 },
 "nbformat": 4,
 "nbformat_minor": 2,
 "cells": [
  {
   "cell_type": "code",
   "execution_count": 54,
   "metadata": {},
   "outputs": [],
   "source": [
    "# Import all the packages\n",
    "\n",
    "import pandas as pd\n",
    "import matplotlib.pyplot as plt\n",
    "import scipy.stats as sts\n",
    "import numpy as np\n",
    "import requests\n",
    "import json"
   ]
  },
  {
   "cell_type": "code",
   "execution_count": 55,
   "metadata": {},
   "outputs": [
    {
     "output_type": "execute_result",
     "data": {
      "text/plain": [
       "            county  totalcountconfirmed  totalcountdeaths  newcountconfirmed  \\\n",
       "0      Santa Clara                151.0               6.0                151   \n",
       "1      Santa Clara                183.0               8.0                 32   \n",
       "2      Santa Clara                246.0               8.0                 63   \n",
       "3      Santa Clara                269.0              10.0                 23   \n",
       "4      Santa Clara                284.0              13.0                 15   \n",
       "...            ...                  ...               ...                ...   \n",
       "14400         Yolo               3522.0              63.0                 30   \n",
       "14401         Yolo               3573.0              64.0                 51   \n",
       "14402         Yolo               3606.0              64.0                 33   \n",
       "14403         Yolo               3646.0              64.0                 40   \n",
       "14404         Yolo               3716.0              66.0                 70   \n",
       "\n",
       "       newcountdeaths        date  \n",
       "0                   6  2020-03-18  \n",
       "1                   2  2020-03-19  \n",
       "2                   0  2020-03-20  \n",
       "3                   2  2020-03-21  \n",
       "4                   3  2020-03-22  \n",
       "...               ...         ...  \n",
       "14400               0  2020-11-09  \n",
       "14401               1  2020-11-10  \n",
       "14402               0  2020-11-11  \n",
       "14403               0  2020-11-12  \n",
       "14404               2  2020-11-13  \n",
       "\n",
       "[14405 rows x 6 columns]"
      ],
      "text/html": "<div>\n<style scoped>\n    .dataframe tbody tr th:only-of-type {\n        vertical-align: middle;\n    }\n\n    .dataframe tbody tr th {\n        vertical-align: top;\n    }\n\n    .dataframe thead th {\n        text-align: right;\n    }\n</style>\n<table border=\"1\" class=\"dataframe\">\n  <thead>\n    <tr style=\"text-align: right;\">\n      <th></th>\n      <th>county</th>\n      <th>totalcountconfirmed</th>\n      <th>totalcountdeaths</th>\n      <th>newcountconfirmed</th>\n      <th>newcountdeaths</th>\n      <th>date</th>\n    </tr>\n  </thead>\n  <tbody>\n    <tr>\n      <th>0</th>\n      <td>Santa Clara</td>\n      <td>151.0</td>\n      <td>6.0</td>\n      <td>151</td>\n      <td>6</td>\n      <td>2020-03-18</td>\n    </tr>\n    <tr>\n      <th>1</th>\n      <td>Santa Clara</td>\n      <td>183.0</td>\n      <td>8.0</td>\n      <td>32</td>\n      <td>2</td>\n      <td>2020-03-19</td>\n    </tr>\n    <tr>\n      <th>2</th>\n      <td>Santa Clara</td>\n      <td>246.0</td>\n      <td>8.0</td>\n      <td>63</td>\n      <td>0</td>\n      <td>2020-03-20</td>\n    </tr>\n    <tr>\n      <th>3</th>\n      <td>Santa Clara</td>\n      <td>269.0</td>\n      <td>10.0</td>\n      <td>23</td>\n      <td>2</td>\n      <td>2020-03-21</td>\n    </tr>\n    <tr>\n      <th>4</th>\n      <td>Santa Clara</td>\n      <td>284.0</td>\n      <td>13.0</td>\n      <td>15</td>\n      <td>3</td>\n      <td>2020-03-22</td>\n    </tr>\n    <tr>\n      <th>...</th>\n      <td>...</td>\n      <td>...</td>\n      <td>...</td>\n      <td>...</td>\n      <td>...</td>\n      <td>...</td>\n    </tr>\n    <tr>\n      <th>14400</th>\n      <td>Yolo</td>\n      <td>3522.0</td>\n      <td>63.0</td>\n      <td>30</td>\n      <td>0</td>\n      <td>2020-11-09</td>\n    </tr>\n    <tr>\n      <th>14401</th>\n      <td>Yolo</td>\n      <td>3573.0</td>\n      <td>64.0</td>\n      <td>51</td>\n      <td>1</td>\n      <td>2020-11-10</td>\n    </tr>\n    <tr>\n      <th>14402</th>\n      <td>Yolo</td>\n      <td>3606.0</td>\n      <td>64.0</td>\n      <td>33</td>\n      <td>0</td>\n      <td>2020-11-11</td>\n    </tr>\n    <tr>\n      <th>14403</th>\n      <td>Yolo</td>\n      <td>3646.0</td>\n      <td>64.0</td>\n      <td>40</td>\n      <td>0</td>\n      <td>2020-11-12</td>\n    </tr>\n    <tr>\n      <th>14404</th>\n      <td>Yolo</td>\n      <td>3716.0</td>\n      <td>66.0</td>\n      <td>70</td>\n      <td>2</td>\n      <td>2020-11-13</td>\n    </tr>\n  </tbody>\n</table>\n<p>14405 rows × 6 columns</p>\n</div>"
     },
     "metadata": {},
     "execution_count": 55
    }
   ],
   "source": [
    "# Display the data frame\n",
    "\n",
    "df_by_county = pd.read_csv(\"statewide_cases.csv\")\n",
    "df_by_county\n",
    "#df_by_county[\"date\"].value_counts()"
   ]
  },
  {
   "cell_type": "code",
   "execution_count": 56,
   "metadata": {},
   "outputs": [
    {
     "output_type": "execute_result",
     "data": {
      "text/plain": [
       "                 totalcountconfirmed  totalcountdeaths  newcountconfirmed\n",
       "county                                                                   \n",
       "Alameda                      25515.0             486.0                540\n",
       "Alpine                          12.0               0.0                  3\n",
       "Amador                         397.0              16.0                 29\n",
       "Butte                         3402.0              56.0                122\n",
       "Calaveras                      378.0              21.0                 43\n",
       "Colusa                         598.0               6.0                 36\n",
       "Contra Costa                 20799.0             253.0                558\n",
       "Del Norte                      208.0               1.0                 21\n",
       "El Dorado                     1611.0               4.0                 40\n",
       "Fresno                       33693.0             460.0                743\n",
       "Glenn                          755.0               6.0                 28\n",
       "Humboldt                       638.0              10.0                 19\n",
       "Imperial                     13790.0             348.0                484\n",
       "Inyo                           262.0              16.0                 21\n",
       "Kern                         35431.0             432.0               1633\n",
       "Kings                         9428.0              87.0                336\n",
       "Lake                           770.0              18.0                 27\n",
       "Lassen                         832.0               1.0                 83\n",
       "Los Angeles                 329364.0            7246.0               4493\n",
       "Madera                        5340.0              76.0                308\n",
       "Marin                         7307.0             129.0                491\n",
       "Mariposa                        86.0               2.0                  7\n",
       "Mendocino                     1173.0              22.0                 81\n",
       "Merced                       10185.0             169.0                521\n",
       "Modoc                           63.0               0.0                 11\n",
       "Mono                           448.0               2.0                 91\n",
       "Monterey                     12681.0             107.0                354\n",
       "Napa                          2440.0              17.0                 59\n",
       "Nevada                         798.0               9.0                 39\n",
       "Orange                       63804.0            1522.0               1834\n",
       "Out Of Country                   0.0               0.0                  0\n",
       "Placer                        5122.0              63.0                118\n",
       "Plumas                         125.0               0.0                 11\n",
       "Riverside                    74138.0            1367.0               1402\n",
       "Sacramento                   29787.0             517.0                758\n",
       "San Benito                    1553.0              15.0                 56\n",
       "San Bernardino               71895.0            1097.0               1497\n",
       "San Diego                    62978.0             921.0                661\n",
       "San Francisco                13516.0             153.0                416\n",
       "San Joaquin                  23314.0             501.0                689\n",
       "San Luis Obispo               4960.0              33.0                139\n",
       "San Mateo                    12182.0             168.0                205\n",
       "Santa Barbara                10405.0             131.0                334\n",
       "Santa Clara                  27609.0             444.0                737\n",
       "Santa Cruz                    3343.0              26.0                113\n",
       "Shasta                        2983.0              36.0                158\n",
       "Sierra                          11.0               0.0                  3\n",
       "Siskiyou                       280.0               1.0                 14\n",
       "Solano                        8525.0              79.0                221\n",
       "Sonoma                       10685.0             149.0                195\n",
       "Stanislaus                   18936.0             411.0                737\n",
       "Sutter                        2121.0              12.0                 99\n",
       "Tehama                        1167.0              19.0                 50\n",
       "Trinity                         64.0               0.0                 16\n",
       "Tulare                       18714.0             300.0                642\n",
       "Tuolumne                       427.0               8.0                 74\n",
       "Unassigned                      69.0               2.0                 38\n",
       "Ventura                      16172.0             172.0                298\n",
       "Yolo                          3716.0              66.0                 75\n",
       "Yuba                          1435.0              10.0                 85"
      ],
      "text/html": "<div>\n<style scoped>\n    .dataframe tbody tr th:only-of-type {\n        vertical-align: middle;\n    }\n\n    .dataframe tbody tr th {\n        vertical-align: top;\n    }\n\n    .dataframe thead th {\n        text-align: right;\n    }\n</style>\n<table border=\"1\" class=\"dataframe\">\n  <thead>\n    <tr style=\"text-align: right;\">\n      <th></th>\n      <th>totalcountconfirmed</th>\n      <th>totalcountdeaths</th>\n      <th>newcountconfirmed</th>\n    </tr>\n    <tr>\n      <th>county</th>\n      <th></th>\n      <th></th>\n      <th></th>\n    </tr>\n  </thead>\n  <tbody>\n    <tr>\n      <th>Alameda</th>\n      <td>25515.0</td>\n      <td>486.0</td>\n      <td>540</td>\n    </tr>\n    <tr>\n      <th>Alpine</th>\n      <td>12.0</td>\n      <td>0.0</td>\n      <td>3</td>\n    </tr>\n    <tr>\n      <th>Amador</th>\n      <td>397.0</td>\n      <td>16.0</td>\n      <td>29</td>\n    </tr>\n    <tr>\n      <th>Butte</th>\n      <td>3402.0</td>\n      <td>56.0</td>\n      <td>122</td>\n    </tr>\n    <tr>\n      <th>Calaveras</th>\n      <td>378.0</td>\n      <td>21.0</td>\n      <td>43</td>\n    </tr>\n    <tr>\n      <th>Colusa</th>\n      <td>598.0</td>\n      <td>6.0</td>\n      <td>36</td>\n    </tr>\n    <tr>\n      <th>Contra Costa</th>\n      <td>20799.0</td>\n      <td>253.0</td>\n      <td>558</td>\n    </tr>\n    <tr>\n      <th>Del Norte</th>\n      <td>208.0</td>\n      <td>1.0</td>\n      <td>21</td>\n    </tr>\n    <tr>\n      <th>El Dorado</th>\n      <td>1611.0</td>\n      <td>4.0</td>\n      <td>40</td>\n    </tr>\n    <tr>\n      <th>Fresno</th>\n      <td>33693.0</td>\n      <td>460.0</td>\n      <td>743</td>\n    </tr>\n    <tr>\n      <th>Glenn</th>\n      <td>755.0</td>\n      <td>6.0</td>\n      <td>28</td>\n    </tr>\n    <tr>\n      <th>Humboldt</th>\n      <td>638.0</td>\n      <td>10.0</td>\n      <td>19</td>\n    </tr>\n    <tr>\n      <th>Imperial</th>\n      <td>13790.0</td>\n      <td>348.0</td>\n      <td>484</td>\n    </tr>\n    <tr>\n      <th>Inyo</th>\n      <td>262.0</td>\n      <td>16.0</td>\n      <td>21</td>\n    </tr>\n    <tr>\n      <th>Kern</th>\n      <td>35431.0</td>\n      <td>432.0</td>\n      <td>1633</td>\n    </tr>\n    <tr>\n      <th>Kings</th>\n      <td>9428.0</td>\n      <td>87.0</td>\n      <td>336</td>\n    </tr>\n    <tr>\n      <th>Lake</th>\n      <td>770.0</td>\n      <td>18.0</td>\n      <td>27</td>\n    </tr>\n    <tr>\n      <th>Lassen</th>\n      <td>832.0</td>\n      <td>1.0</td>\n      <td>83</td>\n    </tr>\n    <tr>\n      <th>Los Angeles</th>\n      <td>329364.0</td>\n      <td>7246.0</td>\n      <td>4493</td>\n    </tr>\n    <tr>\n      <th>Madera</th>\n      <td>5340.0</td>\n      <td>76.0</td>\n      <td>308</td>\n    </tr>\n    <tr>\n      <th>Marin</th>\n      <td>7307.0</td>\n      <td>129.0</td>\n      <td>491</td>\n    </tr>\n    <tr>\n      <th>Mariposa</th>\n      <td>86.0</td>\n      <td>2.0</td>\n      <td>7</td>\n    </tr>\n    <tr>\n      <th>Mendocino</th>\n      <td>1173.0</td>\n      <td>22.0</td>\n      <td>81</td>\n    </tr>\n    <tr>\n      <th>Merced</th>\n      <td>10185.0</td>\n      <td>169.0</td>\n      <td>521</td>\n    </tr>\n    <tr>\n      <th>Modoc</th>\n      <td>63.0</td>\n      <td>0.0</td>\n      <td>11</td>\n    </tr>\n    <tr>\n      <th>Mono</th>\n      <td>448.0</td>\n      <td>2.0</td>\n      <td>91</td>\n    </tr>\n    <tr>\n      <th>Monterey</th>\n      <td>12681.0</td>\n      <td>107.0</td>\n      <td>354</td>\n    </tr>\n    <tr>\n      <th>Napa</th>\n      <td>2440.0</td>\n      <td>17.0</td>\n      <td>59</td>\n    </tr>\n    <tr>\n      <th>Nevada</th>\n      <td>798.0</td>\n      <td>9.0</td>\n      <td>39</td>\n    </tr>\n    <tr>\n      <th>Orange</th>\n      <td>63804.0</td>\n      <td>1522.0</td>\n      <td>1834</td>\n    </tr>\n    <tr>\n      <th>Out Of Country</th>\n      <td>0.0</td>\n      <td>0.0</td>\n      <td>0</td>\n    </tr>\n    <tr>\n      <th>Placer</th>\n      <td>5122.0</td>\n      <td>63.0</td>\n      <td>118</td>\n    </tr>\n    <tr>\n      <th>Plumas</th>\n      <td>125.0</td>\n      <td>0.0</td>\n      <td>11</td>\n    </tr>\n    <tr>\n      <th>Riverside</th>\n      <td>74138.0</td>\n      <td>1367.0</td>\n      <td>1402</td>\n    </tr>\n    <tr>\n      <th>Sacramento</th>\n      <td>29787.0</td>\n      <td>517.0</td>\n      <td>758</td>\n    </tr>\n    <tr>\n      <th>San Benito</th>\n      <td>1553.0</td>\n      <td>15.0</td>\n      <td>56</td>\n    </tr>\n    <tr>\n      <th>San Bernardino</th>\n      <td>71895.0</td>\n      <td>1097.0</td>\n      <td>1497</td>\n    </tr>\n    <tr>\n      <th>San Diego</th>\n      <td>62978.0</td>\n      <td>921.0</td>\n      <td>661</td>\n    </tr>\n    <tr>\n      <th>San Francisco</th>\n      <td>13516.0</td>\n      <td>153.0</td>\n      <td>416</td>\n    </tr>\n    <tr>\n      <th>San Joaquin</th>\n      <td>23314.0</td>\n      <td>501.0</td>\n      <td>689</td>\n    </tr>\n    <tr>\n      <th>San Luis Obispo</th>\n      <td>4960.0</td>\n      <td>33.0</td>\n      <td>139</td>\n    </tr>\n    <tr>\n      <th>San Mateo</th>\n      <td>12182.0</td>\n      <td>168.0</td>\n      <td>205</td>\n    </tr>\n    <tr>\n      <th>Santa Barbara</th>\n      <td>10405.0</td>\n      <td>131.0</td>\n      <td>334</td>\n    </tr>\n    <tr>\n      <th>Santa Clara</th>\n      <td>27609.0</td>\n      <td>444.0</td>\n      <td>737</td>\n    </tr>\n    <tr>\n      <th>Santa Cruz</th>\n      <td>3343.0</td>\n      <td>26.0</td>\n      <td>113</td>\n    </tr>\n    <tr>\n      <th>Shasta</th>\n      <td>2983.0</td>\n      <td>36.0</td>\n      <td>158</td>\n    </tr>\n    <tr>\n      <th>Sierra</th>\n      <td>11.0</td>\n      <td>0.0</td>\n      <td>3</td>\n    </tr>\n    <tr>\n      <th>Siskiyou</th>\n      <td>280.0</td>\n      <td>1.0</td>\n      <td>14</td>\n    </tr>\n    <tr>\n      <th>Solano</th>\n      <td>8525.0</td>\n      <td>79.0</td>\n      <td>221</td>\n    </tr>\n    <tr>\n      <th>Sonoma</th>\n      <td>10685.0</td>\n      <td>149.0</td>\n      <td>195</td>\n    </tr>\n    <tr>\n      <th>Stanislaus</th>\n      <td>18936.0</td>\n      <td>411.0</td>\n      <td>737</td>\n    </tr>\n    <tr>\n      <th>Sutter</th>\n      <td>2121.0</td>\n      <td>12.0</td>\n      <td>99</td>\n    </tr>\n    <tr>\n      <th>Tehama</th>\n      <td>1167.0</td>\n      <td>19.0</td>\n      <td>50</td>\n    </tr>\n    <tr>\n      <th>Trinity</th>\n      <td>64.0</td>\n      <td>0.0</td>\n      <td>16</td>\n    </tr>\n    <tr>\n      <th>Tulare</th>\n      <td>18714.0</td>\n      <td>300.0</td>\n      <td>642</td>\n    </tr>\n    <tr>\n      <th>Tuolumne</th>\n      <td>427.0</td>\n      <td>8.0</td>\n      <td>74</td>\n    </tr>\n    <tr>\n      <th>Unassigned</th>\n      <td>69.0</td>\n      <td>2.0</td>\n      <td>38</td>\n    </tr>\n    <tr>\n      <th>Ventura</th>\n      <td>16172.0</td>\n      <td>172.0</td>\n      <td>298</td>\n    </tr>\n    <tr>\n      <th>Yolo</th>\n      <td>3716.0</td>\n      <td>66.0</td>\n      <td>75</td>\n    </tr>\n    <tr>\n      <th>Yuba</th>\n      <td>1435.0</td>\n      <td>10.0</td>\n      <td>85</td>\n    </tr>\n  </tbody>\n</table>\n</div>"
     },
     "metadata": {},
     "execution_count": 56
    }
   ],
   "source": [
    "# Group by on the county name and use .max to show just the totals\n",
    "\n",
    "df_county = df_by_county.groupby([\"county\"]).max()\n",
    "df_county = df_county[[\"totalcountconfirmed\",\"totalcountdeaths\",\"newcountconfirmed\"]]\n",
    "df_county"
   ]
  },
  {
   "cell_type": "code",
   "execution_count": 57,
   "metadata": {},
   "outputs": [
    {
     "output_type": "execute_result",
     "data": {
      "text/plain": [
       "                 totalcountconfirmed  totalcountdeaths  newcountconfirmed\n",
       "county                                                                   \n",
       "Alameda                      25515.0             486.0                540\n",
       "Alpine                          12.0               0.0                  3\n",
       "Amador                         397.0              16.0                 29\n",
       "Butte                         3402.0              56.0                122\n",
       "Calaveras                      378.0              21.0                 43\n",
       "Colusa                         598.0               6.0                 36\n",
       "Contra Costa                 20799.0             253.0                558\n",
       "Del Norte                      208.0               1.0                 21\n",
       "El Dorado                     1611.0               4.0                 40\n",
       "Fresno                       33693.0             460.0                743\n",
       "Glenn                          755.0               6.0                 28\n",
       "Humboldt                       638.0              10.0                 19\n",
       "Imperial                     13790.0             348.0                484\n",
       "Inyo                           262.0              16.0                 21\n",
       "Kern                         35431.0             432.0               1633\n",
       "Kings                         9428.0              87.0                336\n",
       "Lake                           770.0              18.0                 27\n",
       "Lassen                         832.0               1.0                 83\n",
       "Los Angeles                 329364.0            7246.0               4493\n",
       "Madera                        5340.0              76.0                308\n",
       "Marin                         7307.0             129.0                491\n",
       "Mariposa                        86.0               2.0                  7\n",
       "Mendocino                     1173.0              22.0                 81\n",
       "Merced                       10185.0             169.0                521\n",
       "Modoc                           63.0               0.0                 11\n",
       "Mono                           448.0               2.0                 91\n",
       "Monterey                     12681.0             107.0                354\n",
       "Napa                          2440.0              17.0                 59\n",
       "Nevada                         798.0               9.0                 39\n",
       "Orange                       63804.0            1522.0               1834\n",
       "Placer                        5122.0              63.0                118\n",
       "Plumas                         125.0               0.0                 11\n",
       "Riverside                    74138.0            1367.0               1402\n",
       "Sacramento                   29787.0             517.0                758\n",
       "San Benito                    1553.0              15.0                 56\n",
       "San Bernardino               71895.0            1097.0               1497\n",
       "San Diego                    62978.0             921.0                661\n",
       "San Francisco                13516.0             153.0                416\n",
       "San Joaquin                  23314.0             501.0                689\n",
       "San Luis Obispo               4960.0              33.0                139\n",
       "San Mateo                    12182.0             168.0                205\n",
       "Santa Barbara                10405.0             131.0                334\n",
       "Santa Clara                  27609.0             444.0                737\n",
       "Santa Cruz                    3343.0              26.0                113\n",
       "Shasta                        2983.0              36.0                158\n",
       "Sierra                          11.0               0.0                  3\n",
       "Siskiyou                       280.0               1.0                 14\n",
       "Solano                        8525.0              79.0                221\n",
       "Sonoma                       10685.0             149.0                195\n",
       "Stanislaus                   18936.0             411.0                737\n",
       "Sutter                        2121.0              12.0                 99\n",
       "Tehama                        1167.0              19.0                 50\n",
       "Trinity                         64.0               0.0                 16\n",
       "Tulare                       18714.0             300.0                642\n",
       "Tuolumne                       427.0               8.0                 74\n",
       "Ventura                      16172.0             172.0                298\n",
       "Yolo                          3716.0              66.0                 75\n",
       "Yuba                          1435.0              10.0                 85"
      ],
      "text/html": "<div>\n<style scoped>\n    .dataframe tbody tr th:only-of-type {\n        vertical-align: middle;\n    }\n\n    .dataframe tbody tr th {\n        vertical-align: top;\n    }\n\n    .dataframe thead th {\n        text-align: right;\n    }\n</style>\n<table border=\"1\" class=\"dataframe\">\n  <thead>\n    <tr style=\"text-align: right;\">\n      <th></th>\n      <th>totalcountconfirmed</th>\n      <th>totalcountdeaths</th>\n      <th>newcountconfirmed</th>\n    </tr>\n    <tr>\n      <th>county</th>\n      <th></th>\n      <th></th>\n      <th></th>\n    </tr>\n  </thead>\n  <tbody>\n    <tr>\n      <th>Alameda</th>\n      <td>25515.0</td>\n      <td>486.0</td>\n      <td>540</td>\n    </tr>\n    <tr>\n      <th>Alpine</th>\n      <td>12.0</td>\n      <td>0.0</td>\n      <td>3</td>\n    </tr>\n    <tr>\n      <th>Amador</th>\n      <td>397.0</td>\n      <td>16.0</td>\n      <td>29</td>\n    </tr>\n    <tr>\n      <th>Butte</th>\n      <td>3402.0</td>\n      <td>56.0</td>\n      <td>122</td>\n    </tr>\n    <tr>\n      <th>Calaveras</th>\n      <td>378.0</td>\n      <td>21.0</td>\n      <td>43</td>\n    </tr>\n    <tr>\n      <th>Colusa</th>\n      <td>598.0</td>\n      <td>6.0</td>\n      <td>36</td>\n    </tr>\n    <tr>\n      <th>Contra Costa</th>\n      <td>20799.0</td>\n      <td>253.0</td>\n      <td>558</td>\n    </tr>\n    <tr>\n      <th>Del Norte</th>\n      <td>208.0</td>\n      <td>1.0</td>\n      <td>21</td>\n    </tr>\n    <tr>\n      <th>El Dorado</th>\n      <td>1611.0</td>\n      <td>4.0</td>\n      <td>40</td>\n    </tr>\n    <tr>\n      <th>Fresno</th>\n      <td>33693.0</td>\n      <td>460.0</td>\n      <td>743</td>\n    </tr>\n    <tr>\n      <th>Glenn</th>\n      <td>755.0</td>\n      <td>6.0</td>\n      <td>28</td>\n    </tr>\n    <tr>\n      <th>Humboldt</th>\n      <td>638.0</td>\n      <td>10.0</td>\n      <td>19</td>\n    </tr>\n    <tr>\n      <th>Imperial</th>\n      <td>13790.0</td>\n      <td>348.0</td>\n      <td>484</td>\n    </tr>\n    <tr>\n      <th>Inyo</th>\n      <td>262.0</td>\n      <td>16.0</td>\n      <td>21</td>\n    </tr>\n    <tr>\n      <th>Kern</th>\n      <td>35431.0</td>\n      <td>432.0</td>\n      <td>1633</td>\n    </tr>\n    <tr>\n      <th>Kings</th>\n      <td>9428.0</td>\n      <td>87.0</td>\n      <td>336</td>\n    </tr>\n    <tr>\n      <th>Lake</th>\n      <td>770.0</td>\n      <td>18.0</td>\n      <td>27</td>\n    </tr>\n    <tr>\n      <th>Lassen</th>\n      <td>832.0</td>\n      <td>1.0</td>\n      <td>83</td>\n    </tr>\n    <tr>\n      <th>Los Angeles</th>\n      <td>329364.0</td>\n      <td>7246.0</td>\n      <td>4493</td>\n    </tr>\n    <tr>\n      <th>Madera</th>\n      <td>5340.0</td>\n      <td>76.0</td>\n      <td>308</td>\n    </tr>\n    <tr>\n      <th>Marin</th>\n      <td>7307.0</td>\n      <td>129.0</td>\n      <td>491</td>\n    </tr>\n    <tr>\n      <th>Mariposa</th>\n      <td>86.0</td>\n      <td>2.0</td>\n      <td>7</td>\n    </tr>\n    <tr>\n      <th>Mendocino</th>\n      <td>1173.0</td>\n      <td>22.0</td>\n      <td>81</td>\n    </tr>\n    <tr>\n      <th>Merced</th>\n      <td>10185.0</td>\n      <td>169.0</td>\n      <td>521</td>\n    </tr>\n    <tr>\n      <th>Modoc</th>\n      <td>63.0</td>\n      <td>0.0</td>\n      <td>11</td>\n    </tr>\n    <tr>\n      <th>Mono</th>\n      <td>448.0</td>\n      <td>2.0</td>\n      <td>91</td>\n    </tr>\n    <tr>\n      <th>Monterey</th>\n      <td>12681.0</td>\n      <td>107.0</td>\n      <td>354</td>\n    </tr>\n    <tr>\n      <th>Napa</th>\n      <td>2440.0</td>\n      <td>17.0</td>\n      <td>59</td>\n    </tr>\n    <tr>\n      <th>Nevada</th>\n      <td>798.0</td>\n      <td>9.0</td>\n      <td>39</td>\n    </tr>\n    <tr>\n      <th>Orange</th>\n      <td>63804.0</td>\n      <td>1522.0</td>\n      <td>1834</td>\n    </tr>\n    <tr>\n      <th>Placer</th>\n      <td>5122.0</td>\n      <td>63.0</td>\n      <td>118</td>\n    </tr>\n    <tr>\n      <th>Plumas</th>\n      <td>125.0</td>\n      <td>0.0</td>\n      <td>11</td>\n    </tr>\n    <tr>\n      <th>Riverside</th>\n      <td>74138.0</td>\n      <td>1367.0</td>\n      <td>1402</td>\n    </tr>\n    <tr>\n      <th>Sacramento</th>\n      <td>29787.0</td>\n      <td>517.0</td>\n      <td>758</td>\n    </tr>\n    <tr>\n      <th>San Benito</th>\n      <td>1553.0</td>\n      <td>15.0</td>\n      <td>56</td>\n    </tr>\n    <tr>\n      <th>San Bernardino</th>\n      <td>71895.0</td>\n      <td>1097.0</td>\n      <td>1497</td>\n    </tr>\n    <tr>\n      <th>San Diego</th>\n      <td>62978.0</td>\n      <td>921.0</td>\n      <td>661</td>\n    </tr>\n    <tr>\n      <th>San Francisco</th>\n      <td>13516.0</td>\n      <td>153.0</td>\n      <td>416</td>\n    </tr>\n    <tr>\n      <th>San Joaquin</th>\n      <td>23314.0</td>\n      <td>501.0</td>\n      <td>689</td>\n    </tr>\n    <tr>\n      <th>San Luis Obispo</th>\n      <td>4960.0</td>\n      <td>33.0</td>\n      <td>139</td>\n    </tr>\n    <tr>\n      <th>San Mateo</th>\n      <td>12182.0</td>\n      <td>168.0</td>\n      <td>205</td>\n    </tr>\n    <tr>\n      <th>Santa Barbara</th>\n      <td>10405.0</td>\n      <td>131.0</td>\n      <td>334</td>\n    </tr>\n    <tr>\n      <th>Santa Clara</th>\n      <td>27609.0</td>\n      <td>444.0</td>\n      <td>737</td>\n    </tr>\n    <tr>\n      <th>Santa Cruz</th>\n      <td>3343.0</td>\n      <td>26.0</td>\n      <td>113</td>\n    </tr>\n    <tr>\n      <th>Shasta</th>\n      <td>2983.0</td>\n      <td>36.0</td>\n      <td>158</td>\n    </tr>\n    <tr>\n      <th>Sierra</th>\n      <td>11.0</td>\n      <td>0.0</td>\n      <td>3</td>\n    </tr>\n    <tr>\n      <th>Siskiyou</th>\n      <td>280.0</td>\n      <td>1.0</td>\n      <td>14</td>\n    </tr>\n    <tr>\n      <th>Solano</th>\n      <td>8525.0</td>\n      <td>79.0</td>\n      <td>221</td>\n    </tr>\n    <tr>\n      <th>Sonoma</th>\n      <td>10685.0</td>\n      <td>149.0</td>\n      <td>195</td>\n    </tr>\n    <tr>\n      <th>Stanislaus</th>\n      <td>18936.0</td>\n      <td>411.0</td>\n      <td>737</td>\n    </tr>\n    <tr>\n      <th>Sutter</th>\n      <td>2121.0</td>\n      <td>12.0</td>\n      <td>99</td>\n    </tr>\n    <tr>\n      <th>Tehama</th>\n      <td>1167.0</td>\n      <td>19.0</td>\n      <td>50</td>\n    </tr>\n    <tr>\n      <th>Trinity</th>\n      <td>64.0</td>\n      <td>0.0</td>\n      <td>16</td>\n    </tr>\n    <tr>\n      <th>Tulare</th>\n      <td>18714.0</td>\n      <td>300.0</td>\n      <td>642</td>\n    </tr>\n    <tr>\n      <th>Tuolumne</th>\n      <td>427.0</td>\n      <td>8.0</td>\n      <td>74</td>\n    </tr>\n    <tr>\n      <th>Ventura</th>\n      <td>16172.0</td>\n      <td>172.0</td>\n      <td>298</td>\n    </tr>\n    <tr>\n      <th>Yolo</th>\n      <td>3716.0</td>\n      <td>66.0</td>\n      <td>75</td>\n    </tr>\n    <tr>\n      <th>Yuba</th>\n      <td>1435.0</td>\n      <td>10.0</td>\n      <td>85</td>\n    </tr>\n  </tbody>\n</table>\n</div>"
     },
     "metadata": {},
     "execution_count": 57
    }
   ],
   "source": [
    "# Drop the rows that say 'Unassigned' and 'Out of country'\n",
    "\n",
    "county_df = df_county.drop([\"Out Of Country\", \"Unassigned\"])\n",
    "county_df"
   ]
  },
  {
   "cell_type": "code",
   "execution_count": 78,
   "metadata": {},
   "outputs": [],
   "source": [
    "# Create a line plot to show the total confirmed cases\n",
    "\n",
    "x_values = np.arange(len(county_df[\"totalcountconfirmed\"]))\n",
    "y_values = county_df[\"totalcountconfirmed\"]\n",
    "plt.plot(x_values, y_values)\n",
    "plt.show()"
   ]
  },
  {
   "cell_type": "code",
   "execution_count": 73,
   "metadata": {},
   "outputs": [],
   "source": [
    "# Create a line plot to show the total confirmed deaths\n",
    "\n",
    "x_values = np.arange(len(county_df[\"totalcountdeaths\"]))\n",
    "y_values = county_df[\"totalcountdeaths\"]\n",
    "plt.plot(x_values, y_values)\n",
    "plt.show()"
   ]
  },
  {
   "cell_type": "code",
   "execution_count": 74,
   "metadata": {},
   "outputs": [],
   "source": [
    "# Create a line plot to show the new counts\n",
    "\n",
    "x_values = np.arange(len(county_df[\"newcountconfirmed\"]))\n",
    "y_values = county_df[\"newcountconfirmed\"]\n",
    "plt.plot(x_values, y_values)\n",
    "plt.show()"
   ]
  },
  {
   "cell_type": "code",
   "execution_count": 79,
   "metadata": {},
   "outputs": [],
   "source": [
    "# Create a bar chart to show the total confirmed cases\n",
    "\n",
    "x_axis = np.arange(len(county_df[\"totalcountconfirmed\"]))\n",
    "y_axis = county_df[\"totalcountconfirmed\"]\n",
    "plt.bar(x_axis, y_axis)\n",
    "plt.show()"
   ]
  },
  {
   "cell_type": "code",
   "execution_count": 80,
   "metadata": {},
   "outputs": [],
   "source": [
    "# Create a bar chart to show the total confirmed deaths\n",
    "\n",
    "x_axis = np.arange(len(county_df[\"totalcountdeaths\"]))\n",
    "y_axis = county_df[\"totalcountdeaths\"]\n",
    "plt.bar(x_axis, y_axis)\n",
    "plt.show()"
   ]
  },
  {
   "cell_type": "code",
   "execution_count": 81,
   "metadata": {},
   "outputs": [],
   "source": [
    "# Create a bar chart to show the new confirmed cases\n",
    "\n",
    "x_axis = np.arange(len(county_df[\"newcountconfirmed\"]))\n",
    "y_axis = county_df[\"newcountconfirmed\"]\n",
    "plt.bar(x_axis, y_axis)\n",
    "plt.show()"
   ]
  },
  {
   "cell_type": "code",
   "execution_count": 90,
   "metadata": {},
   "outputs": [],
   "source": [
    "# Create a pie chart to show the total confirmed cases\n",
    "\n",
    "#labels = [county_df[\"county\"]]\n",
    "sizes = [county_df[\"totalcountconfirmed\"]]\n",
    "plt.pie(sizes, autopct=\"%1.1f%%\", shadow=True, startangle=140)\n",
    "plt.show()"
   ]
  },
  {
   "cell_type": "code",
   "execution_count": 93,
   "metadata": {},
   "outputs": [],
   "source": [
    "# Create a pie chart to show the total confirmed deaths\n",
    "\n",
    "#labels = [county_df[\"county\"]]\n",
    "sizes = [county_df[\"totalcountdeaths\"]]\n",
    "plt.pie(sizes, autopct=\"%1.1f%%\", shadow=True, startangle=140)\n",
    "plt.show()"
   ]
  },
  {
   "cell_type": "code",
   "execution_count": 92,
   "metadata": {},
   "outputs": [],
   "source": [
    "# Create a pie chart to show the total confirmed cases\n",
    "\n",
    "#labels = [county_df[\"county\"]]\n",
    "sizes = [county_df[\"newcountconfirmed\"]]\n",
    "plt.pie(sizes, autopct=\"%1.1f%%\", shadow=True, startangle=140)\n",
    "plt.show()"
   ]
  },
  {
   "cell_type": "code",
   "execution_count": null,
   "metadata": {},
   "outputs": [],
   "source": []
  }
 ]
}