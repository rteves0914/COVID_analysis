{
 "cells": [
  {
   "cell_type": "code",
   "execution_count": null,
   "metadata": {},
   "outputs": [],
   "source": [
    "# Import all the packages\n",
    "\n",
    "#%matplotlib inline\n",
    "import pandas as pd\n",
    "import matplotlib.pyplot as plt\n",
    "import scipy.stats as sts\n",
    "import numpy as np\n",
    "import requests\n",
    "import json"
   ]
  },
  {
   "cell_type": "code",
   "execution_count": null,
   "metadata": {},
   "outputs": [],
   "source": [
    "# Display the data frame\n",
    "\n",
    "df_by_county = pd.read_csv(\"statewide_cases.csv\")\n",
    "df_by_county"
   ]
  },
  {
   "cell_type": "code",
   "execution_count": null,
   "metadata": {},
   "outputs": [],
   "source": [
    "# Group by on the county name and use .max to show just the totals\n",
    "# The \"newcountconfirmed\" column shows the highest single day cases that the county has experienced\n",
    "\n",
    "df_county = df_by_county.groupby([\"county\"]).max()\n",
    "df_county = df_county[[\"totalcountconfirmed\",\"totalcountdeaths\",\"newcountconfirmed\"]]\n",
    "df_county"
   ]
  },
  {
   "cell_type": "code",
   "execution_count": null,
   "metadata": {},
   "outputs": [],
   "source": [
    "# Drop the rows that say 'Unassigned' and 'Out of country'\n",
    "\n",
    "county_df = df_county.drop([\"Out Of Country\", \"Unassigned\"])\n",
    "county_df = county_df.reset_index()\n",
    "county_df"
   ]
  },
  {
   "cell_type": "code",
   "execution_count": null,
   "metadata": {},
   "outputs": [],
   "source": [
    "# Use the describe to show initial data of the data frame\n",
    "\n",
    "county_df.describe()"
   ]
  },
  {
   "cell_type": "code",
   "execution_count": null,
   "metadata": {},
   "outputs": [],
   "source": [
    "# Create a data frame that shows the total number of cases for each county in the first seven days\n",
    "# Again drop the rows that say unassigned and out of country\n",
    "\n",
    "first_seven_df = df_by_county.loc[(df_by_county[\"date\"] == \"2020-03-18\") | (df_by_county[\"date\"] == \"2020-03-19\") | (df_by_county[\"date\"] == \"2020-03-20\") | (df_by_county[\"date\"] == \"2020-03-21\") | (df_by_county[\"date\"] == \"2020-03-22\") | (df_by_county[\"date\"] == \"2020-03-23\") | (df_by_county[\"date\"] == \"2020-03-24\")]\n",
    "first_seven_df = first_seven_df.groupby([\"county\"]).sum()\n",
    "first_seven_df = first_seven_df[[\"newcountconfirmed\"]]\n",
    "first_seven_df = first_seven_df.rename(columns={\"newcountconfirmed\":\"Total cases over first 7 days\"})\n",
    "first_seven = first_seven_df.drop([\"Unassigned\"])\n",
    "first_seven.head()"
   ]
  },
  {
   "cell_type": "code",
   "execution_count": null,
   "metadata": {},
   "outputs": [],
   "source": [
    "# Create a data frame that shows the total number of cases for each county in the last seven days\n",
    "# Again drop the rows that say unassigned and out of country\n",
    "\n",
    "last_seven_df = df_by_county.loc[(df_by_county[\"date\"] == \"2020-11-07\") | (df_by_county[\"date\"] == \"2020-11-08\") | (df_by_county[\"date\"] == \"2020-11-09\") | (df_by_county[\"date\"] == \"2020-11-10\") | (df_by_county[\"date\"] == \"2020-11-11\") | (df_by_county[\"date\"] == \"2020-11-12\") | (df_by_county[\"date\"] == \"2020-11-13\")]\n",
    "last_seven_df = last_seven_df.groupby([\"county\"]).sum()\n",
    "last_seven_df = last_seven_df[[\"newcountconfirmed\"]]\n",
    "last_seven_df = last_seven_df.rename(columns={\"newcountconfirmed\":\"Total cases over last 7 days\"})\n",
    "last_seven = last_seven_df.drop([\"Out Of Country\", \"Unassigned\"])\n",
    "last_seven.head()"
   ]
  },
  {
   "cell_type": "code",
   "execution_count": null,
   "metadata": {},
   "outputs": [],
   "source": [
    "# Merge the two previous tables together on the index 'county' to show the differences in first 7 days and last 7 days\n",
    "\n",
    "merge_seven_days = pd.merge(first_seven, last_seven, left_index=True, right_index=True)\n",
    "merge_seven_days"
   ]
  },
  {
   "cell_type": "code",
   "execution_count": null,
   "metadata": {},
   "outputs": [],
   "source": [
    "# Use group by on the county data frame by date to show total cases changing over each day\n",
    "\n",
    "per_day = df_by_county.groupby([\"date\"]).sum()\n",
    "per_day"
   ]
  },
  {
   "cell_type": "code",
   "execution_count": null,
   "metadata": {},
   "outputs": [],
   "source": [
    "# Create a line plot to show the total confirmed cases\n",
    "\n",
    "x_values = np.arange(len(county_df[\"totalcountconfirmed\"]))\n",
    "y_values = county_df[\"totalcountconfirmed\"]\n",
    "plt.figure(figsize=(12,5))\n",
    "plt.plot(x_values, y_values)\n",
    "plt.xlabel(\"California counties\")\n",
    "plt.ylabel(\"Total number of confirmed cases\")\n",
    "plt.title(\"Total number of cases of COVID-19 by counties in California\")\n",
    "plt.xticks(x_values, county_df[\"county\"], rotation=90)\n",
    "plt.show()"
   ]
  },
  {
   "cell_type": "code",
   "execution_count": null,
   "metadata": {},
   "outputs": [],
   "source": [
    "# Create a line plot to show the total confirmed deaths\n",
    "\n",
    "x_values = np.arange(len(county_df[\"totalcountdeaths\"]))\n",
    "y_values = county_df[\"totalcountdeaths\"]\n",
    "plt.figure(figsize=(12,5))\n",
    "plt.plot(x_values, y_values)\n",
    "plt.xlabel(\"California counties\")\n",
    "plt.ylabel(\"Total number of confirmed deaths\")\n",
    "plt.title(\"Total number of deaths from COVID-19 by counties in California\")\n",
    "plt.xticks(x_values, county_df[\"county\"], rotation=90)\n",
    "plt.show()"
   ]
  },
  {
   "cell_type": "code",
   "execution_count": null,
   "metadata": {},
   "outputs": [],
   "source": [
    "# Create a line plot to show the new counts\n",
    "\n",
    "x_values = np.arange(len(county_df[\"newcountconfirmed\"]))\n",
    "y_values = county_df[\"newcountconfirmed\"]\n",
    "plt.figure(figsize=(12,5))\n",
    "plt.plot(x_values, y_values)\n",
    "plt.xlabel(\"California counties\")\n",
    "plt.ylabel(\"New cases from yesterday\")\n",
    "plt.title(\"Total number of cases of COVID-19 on Nov. 13\")\n",
    "plt.xticks(x_values, county_df[\"county\"], rotation=90)\n",
    "plt.show()"
   ]
  },
  {
   "cell_type": "code",
   "execution_count": null,
   "metadata": {},
   "outputs": [],
   "source": [
    "# Create a bar chart to show the total confirmed cases\n",
    "\n",
    "x_axis = np.arange(len(county_df[\"totalcountconfirmed\"]))\n",
    "y_axis = county_df[\"totalcountconfirmed\"]\n",
    "plt.figure(figsize=(12,5))\n",
    "plt.bar(x_axis, y_axis)\n",
    "plt.xlabel(\"California counties\")\n",
    "plt.ylabel(\"Total number of confirmed cases\")\n",
    "plt.title(\"Total number of cases of COVID-19 by counties in California\")\n",
    "plt.xticks(x_values, county_df[\"county\"], rotation=90)\n",
    "plt.tight_layout()"
   ]
  },
  {
   "cell_type": "code",
   "execution_count": null,
   "metadata": {},
   "outputs": [],
   "source": [
    "# Create a bar chart to show the total confirmed deaths\n",
    "\n",
    "x_axis = np.arange(len(county_df[\"totalcountdeaths\"]))\n",
    "y_axis = county_df[\"totalcountdeaths\"]\n",
    "plt.figure(figsize=(12,5))\n",
    "plt.bar(x_axis, y_axis)\n",
    "plt.xlabel(\"California counties\")\n",
    "plt.ylabel(\"Total number of confirmed deaths\")\n",
    "plt.title(\"Total number of deaths from COVID-19 by counties in California\")\n",
    "plt.xticks(x_values, county_df[\"county\"], rotation=90)\n",
    "plt.tight_layout()"
   ]
  },
  {
   "cell_type": "code",
   "execution_count": null,
   "metadata": {},
   "outputs": [],
   "source": [
    "# Create a bar chart to show the new confirmed cases\n",
    "\n",
    "x_axis = np.arange(len(county_df[\"newcountconfirmed\"]))\n",
    "y_axis = county_df[\"newcountconfirmed\"]\n",
    "plt.figure(figsize=(12,5))\n",
    "plt.bar(x_axis, y_axis)\n",
    "plt.xlabel(\"California counties\")\n",
    "plt.ylabel(\"Total number of new cases\")\n",
    "plt.title(\"Total number of cases of COVID-19 on Nov. 13\")\n",
    "plt.xticks(x_values, county_df[\"county\"], rotation=90)\n",
    "plt.tight_layout()"
   ]
  },
  {
   "cell_type": "code",
   "execution_count": null,
   "metadata": {},
   "outputs": [],
   "source": [
    "# Create a line plot to show the differences between the first seven days and the last seven days\n",
    "\n",
    "x_axis = np.arange(len(merge_seven_days[\"Total cases over first 7 days\"]))\n",
    "first_axis = merge_seven_days[\"Total cases over first 7 days\"]\n",
    "last_axis = merge_seven_days[\"Total cases over last 7 days\"]\n",
    "plt.figure(figsize=(12,5))\n",
    "plt.plot(x_axis, first_axis, color=\"red\")\n",
    "plt.plot(x_axis, last_axis, color=\"blue\")\n",
    "plt.xticks(x_axis, county_df[\"county\"], rotation=90)\n",
    "plt.xlabel(\"Counties\")\n",
    "plt.ylabel(\"Total number of cases\")\n",
    "plt.title(\"Total number of cases of COVID-19 for first seven days and last seven days\")\n",
    "plt.tight_layout()"
   ]
  },
  {
   "cell_type": "code",
   "execution_count": null,
   "metadata": {},
   "outputs": [],
   "source": [
    "# Linear regression on the total cases vs total deaths (including LA county)\n",
    "\n",
    "x_axis = county_df[\"totalcountconfirmed\"]\n",
    "y_axis = county_df[\"totalcountdeaths\"]\n",
    "slope, intercept, r_value, p_value, std_err = sts.linregress(x_axis, y_axis)\n",
    "lin_eq = slope * x_axis + intercept"
   ]
  },
  {
   "cell_type": "code",
   "execution_count": null,
   "metadata": {},
   "outputs": [],
   "source": [
    "# Create a scatter plot that shows the total cases vs total deaths\n",
    "\n",
    "x_axis = county_df[\"totalcountconfirmed\"]\n",
    "y_axis = county_df[\"totalcountdeaths\"]\n",
    "plt.scatter(x_axis, y_axis, marker=\"o\")\n",
    "plt.plot(x_axis,lin_eq,\"r-\")\n",
    "line_eq = \"y=\" + str(round(slope,2)) + \"x + \" + str(round(intercept,2))\n",
    "plt.annotate(line_eq,(100000,5),fontsize=15,color=\"red\")\n",
    "plt.xlabel(\"Total Cases\")\n",
    "plt.ylabel(\"Total Deaths\")\n",
    "plt.title(\"Total Cases vs Total Deaths\")\n",
    "print(f\"The correlation coefficient is {round(r_value,3)}.\")"
   ]
  },
  {
   "cell_type": "code",
   "execution_count": null,
   "metadata": {},
   "outputs": [],
   "source": [
    "# Determine the outlier(s) in the data set\n",
    "\n",
    "total_cases = county_df[\"totalcountconfirmed\"]\n",
    "quartiles = total_cases.quantile([.25,.5,.75])\n",
    "lowerq = quartiles[0.25]\n",
    "upperq = quartiles[0.75]\n",
    "iqr = upperq-lowerq\n",
    "\n",
    "print(f\"The lower quartile of COVID-19 cases by county is: {lowerq}\")\n",
    "print(f\"The upper quartile of COVID-19 cases by county is: {upperq}\")\n",
    "print(f\"The interquartile range of COVID-19 by county cases is: {iqr}\")\n",
    "print(f\"The the median of COVID-19 cases by county is: {quartiles[0.5]} \")\n",
    "\n",
    "lower_bound = lowerq - (1.5*iqr)\n",
    "upper_bound = upperq + (1.5*iqr)\n",
    "print(f\"Values above {upper_bound} could be outliers.\")\n",
    "outliers = county_df.loc[county_df[\"totalcountconfirmed\"] >= upper_bound]\n",
    "outliers"
   ]
  },
  {
   "cell_type": "code",
   "execution_count": null,
   "metadata": {},
   "outputs": [],
   "source": [
    "# Linear regression on the total cases vs total deaths (excluding outlier counties)\n",
    "\n",
    "x_axis = county_df.loc[(county_df[\"county\"] != \"Los Angeles\")][\"totalcountconfirmed\"]\n",
    "y_axis = county_df.loc[(county_df[\"county\"] != \"Los Angeles\")][\"totalcountdeaths\"]\n",
    "slope, intercept, r_value, p_value, std_err = sts.linregress(x_axis, y_axis)\n",
    "lin_eq = slope * x_axis + intercept"
   ]
  },
  {
   "cell_type": "code",
   "execution_count": null,
   "metadata": {
    "scrolled": true
   },
   "outputs": [],
   "source": [
    "# Create a scatter plot that shows the total cases vs total deaths excluding outliers\n",
    "\n",
    "x_axis = county_df.loc[(county_df[\"county\"] != \"Los Angeles\")][\"totalcountconfirmed\"]\n",
    "y_axis = county_df.loc[(county_df[\"county\"] != \"Los Angeles\")][\"totalcountdeaths\"]\n",
    "plt.scatter(x_axis, y_axis, marker=\"o\", color=\"red\")\n",
    "plt.plot(x_axis,lin_eq,\"b-\")\n",
    "line_eq = \"y=\" + str(round(slope,2)) + \"x + \" + str(round(intercept,2))\n",
    "plt.annotate(line_eq,(20000,5),fontsize=15,color=\"blue\")\n",
    "plt.xlabel(\"Total Cases\")\n",
    "plt.ylabel(\"Total Deaths\")\n",
    "plt.title(\"Total Cases vs Total Deaths, excluding LA, Orange, Riverside, San Bernadino, and San Diego\")\n",
    "print(f\"The correlation coefficient is {round(r_value,3)}.\")"
   ]
  },
  {
   "cell_type": "code",
   "execution_count": null,
   "metadata": {},
   "outputs": [],
   "source": [
    "# Create a line plot that shows the new cases each day since the beginning of pandemic\n",
    "\n",
    "x_axis = np.arange(len(per_day[\"newcountconfirmed\"]))\n",
    "y_axis = per_day[\"newcountconfirmed\"]\n",
    "plt.plot(x_axis, y_axis)\n",
    "plt.xlabel(\"Days since beginning of Pandemic\")\n",
    "plt.ylabel(\"Total new cases of COVID-19\")\n",
    "plt.title(\"Total number of cases of COVID-19 each day\")\n",
    "plt.show()"
   ]
  },
  {
   "cell_type": "code",
   "execution_count": null,
   "metadata": {},
   "outputs": [],
   "source": [
    "# Is there a statistical difference on the data that excludes Los Angeles and Los Angeles by itself? In other \n",
    "# words, we claim that the data is the same, and there is no difference (LA county accounts for ALL the COVID-19 data)\n",
    "\n",
    "population1 = per_day[\"newcountconfirmed\"]\n",
    "print(f\"The mean of the first data set is {round(population1.mean(),3)}\")\n",
    "population2 = df_by_county.loc[df_by_county[\"county\"] == \"Los Angeles\"][\"newcountconfirmed\"]\n",
    "print(f\"The mean of the first data set is {round(population2.mean(),3)}\")\n",
    "print(f\"The null hypothesis is that the means are the same\")\n",
    "print(f\"The alternate hypothesis is that the means are different\")\n",
    "print(sts.ttest_ind(population1, population2, equal_var=False))\n",
    "print(f\"We can conclude that the means are different\")"
   ]
  },
  {
   "cell_type": "code",
   "execution_count": null,
   "metadata": {},
   "outputs": [],
   "source": []
  }
 ],
 "metadata": {
  "kernelspec": {
   "display_name": "Python 3",
   "language": "python",
   "name": "python3"
  },
  "language_info": {
   "codemirror_mode": {
    "name": "ipython",
    "version": 3
   },
   "file_extension": ".py",
   "mimetype": "text/x-python",
   "name": "python",
   "nbconvert_exporter": "python",
   "pygments_lexer": "ipython3",
   "version": "3.8.3"
  }
 },
 "nbformat": 4,
 "nbformat_minor": 2
}
