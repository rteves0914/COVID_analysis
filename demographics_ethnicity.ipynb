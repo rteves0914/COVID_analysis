{
 "metadata": {
  "language_info": {
   "codemirror_mode": {
    "name": "ipython",
    "version": 3
   },
   "file_extension": ".py",
   "mimetype": "text/x-python",
   "name": "python",
   "nbconvert_exporter": "python",
   "pygments_lexer": "ipython3",
   "version": "3.8.3-final"
  },
  "orig_nbformat": 2,
  "kernelspec": {
   "name": "python3",
   "display_name": "Python 3"
  }
 },
 "nbformat": 4,
 "nbformat_minor": 2,
 "cells": [
  {
   "cell_type": "code",
   "execution_count": 28,
   "metadata": {},
   "outputs": [],
   "source": [
    "# Import all dependencies\n",
    "\n",
    "import pandas as pd\n",
    "import matplotlib.pyplot as plt\n",
    "import numpy as np\n",
    "import requests\n",
    "import json\n",
    "import calendar"
   ]
  },
  {
   "cell_type": "code",
   "execution_count": 29,
   "metadata": {},
   "outputs": [
    {
     "output_type": "execute_result",
     "data": {
      "text/plain": [
       "                                  race_ethnicity  cases  case_percentage  \\\n",
       "0                                         Latino   5276            35.99   \n",
       "1                                          White   4639            31.64   \n",
       "2                                          Asian   1902            12.97   \n",
       "3                                          Black   1030             7.03   \n",
       "4                                    Multiracial    268             1.83   \n",
       "...                                          ...    ...              ...   \n",
       "1755                                       Black  31789             4.20   \n",
       "1756                                  Multi-Race   9290             1.20   \n",
       "1757            American Indian or Alaska Native   2227             0.30   \n",
       "1758  Native Hawaiian and other Pacific Islander   4069             0.50   \n",
       "1759                                       Other  74457             9.80   \n",
       "\n",
       "      deaths  death_percentage  percent_ca_population      date month  \n",
       "0        170             28.38                   38.9   4/13/20   Apr  \n",
       "1        246             41.07                   36.6   4/13/20   Apr  \n",
       "2         98             16.36                   15.4   4/13/20   Apr  \n",
       "3         61             10.18                    6.0   4/13/20   Apr  \n",
       "4          8              1.34                    2.2   4/13/20   Apr  \n",
       "...      ...               ...                    ...       ...   ...  \n",
       "1755    1352              7.40                    6.0  11/18/20   Nov  \n",
       "1756     156              0.90                    2.2  11/18/20   Nov  \n",
       "1757      63              0.30                    0.5  11/18/20   Nov  \n",
       "1758      88              0.50                    0.3  11/18/20   Nov  \n",
       "1759      88              0.50                    0.0  11/18/20   Nov  \n",
       "\n",
       "[1760 rows x 8 columns]"
      ],
      "text/html": "<div>\n<style scoped>\n    .dataframe tbody tr th:only-of-type {\n        vertical-align: middle;\n    }\n\n    .dataframe tbody tr th {\n        vertical-align: top;\n    }\n\n    .dataframe thead th {\n        text-align: right;\n    }\n</style>\n<table border=\"1\" class=\"dataframe\">\n  <thead>\n    <tr style=\"text-align: right;\">\n      <th></th>\n      <th>race_ethnicity</th>\n      <th>cases</th>\n      <th>case_percentage</th>\n      <th>deaths</th>\n      <th>death_percentage</th>\n      <th>percent_ca_population</th>\n      <th>date</th>\n      <th>month</th>\n    </tr>\n  </thead>\n  <tbody>\n    <tr>\n      <th>0</th>\n      <td>Latino</td>\n      <td>5276</td>\n      <td>35.99</td>\n      <td>170</td>\n      <td>28.38</td>\n      <td>38.9</td>\n      <td>4/13/20</td>\n      <td>Apr</td>\n    </tr>\n    <tr>\n      <th>1</th>\n      <td>White</td>\n      <td>4639</td>\n      <td>31.64</td>\n      <td>246</td>\n      <td>41.07</td>\n      <td>36.6</td>\n      <td>4/13/20</td>\n      <td>Apr</td>\n    </tr>\n    <tr>\n      <th>2</th>\n      <td>Asian</td>\n      <td>1902</td>\n      <td>12.97</td>\n      <td>98</td>\n      <td>16.36</td>\n      <td>15.4</td>\n      <td>4/13/20</td>\n      <td>Apr</td>\n    </tr>\n    <tr>\n      <th>3</th>\n      <td>Black</td>\n      <td>1030</td>\n      <td>7.03</td>\n      <td>61</td>\n      <td>10.18</td>\n      <td>6.0</td>\n      <td>4/13/20</td>\n      <td>Apr</td>\n    </tr>\n    <tr>\n      <th>4</th>\n      <td>Multiracial</td>\n      <td>268</td>\n      <td>1.83</td>\n      <td>8</td>\n      <td>1.34</td>\n      <td>2.2</td>\n      <td>4/13/20</td>\n      <td>Apr</td>\n    </tr>\n    <tr>\n      <th>...</th>\n      <td>...</td>\n      <td>...</td>\n      <td>...</td>\n      <td>...</td>\n      <td>...</td>\n      <td>...</td>\n      <td>...</td>\n      <td>...</td>\n    </tr>\n    <tr>\n      <th>1755</th>\n      <td>Black</td>\n      <td>31789</td>\n      <td>4.20</td>\n      <td>1352</td>\n      <td>7.40</td>\n      <td>6.0</td>\n      <td>11/18/20</td>\n      <td>Nov</td>\n    </tr>\n    <tr>\n      <th>1756</th>\n      <td>Multi-Race</td>\n      <td>9290</td>\n      <td>1.20</td>\n      <td>156</td>\n      <td>0.90</td>\n      <td>2.2</td>\n      <td>11/18/20</td>\n      <td>Nov</td>\n    </tr>\n    <tr>\n      <th>1757</th>\n      <td>American Indian or Alaska Native</td>\n      <td>2227</td>\n      <td>0.30</td>\n      <td>63</td>\n      <td>0.30</td>\n      <td>0.5</td>\n      <td>11/18/20</td>\n      <td>Nov</td>\n    </tr>\n    <tr>\n      <th>1758</th>\n      <td>Native Hawaiian and other Pacific Islander</td>\n      <td>4069</td>\n      <td>0.50</td>\n      <td>88</td>\n      <td>0.50</td>\n      <td>0.3</td>\n      <td>11/18/20</td>\n      <td>Nov</td>\n    </tr>\n    <tr>\n      <th>1759</th>\n      <td>Other</td>\n      <td>74457</td>\n      <td>9.80</td>\n      <td>88</td>\n      <td>0.50</td>\n      <td>0.0</td>\n      <td>11/18/20</td>\n      <td>Nov</td>\n    </tr>\n  </tbody>\n</table>\n<p>1760 rows × 8 columns</p>\n</div>"
     },
     "metadata": {},
     "execution_count": 29
    }
   ],
   "source": [
    "# Create Data Frame\n",
    "\n",
    "df_ethnicity = pd.read_csv(\"case_demographics_ethnicity_updated.csv\")\n",
    "df_ethnicity"
   ]
  },
  {
   "cell_type": "code",
   "execution_count": 30,
   "metadata": {},
   "outputs": [
    {
     "output_type": "execute_result",
     "data": {
      "text/plain": [
       "                                 race_ethnicity  cases  case_percentage  \\\n",
       "0                                        Latino   5276            35.99   \n",
       "1                                         White   4639            31.64   \n",
       "2                                         Asian   1902            12.97   \n",
       "3                                         Black   1030             7.03   \n",
       "4                                   Multiracial    268             1.83   \n",
       "5              American Indian or Alaska Native     33             0.23   \n",
       "6           Native Hawaiian or Pacific Islander    243             1.66   \n",
       "7                                         Other   1269             8.66   \n",
       "8                                        Latino   5910            37.18   \n",
       "9                                         White   4939            31.07   \n",
       "10                                        Asian   2045            12.87   \n",
       "11                                        Black   1107             6.96   \n",
       "12                                  Multiracial    303             1.91   \n",
       "13             American Indian or Alaska Native     33             0.21   \n",
       "14          Native Hawaiian or Pacific Islander    252             1.59   \n",
       "15                                        Other   1306             8.22   \n",
       "16                                       Latino   6433            37.80   \n",
       "17                                        White   5239            30.79   \n",
       "18                                        Asian   2161            12.70   \n",
       "19                                        Black   1176             6.91   \n",
       "20                                  Multiracial    329             1.93   \n",
       "21             American Indian or Alaska Native     32             0.19   \n",
       "22          Native Hawaiian or Pacific Islander    262             1.54   \n",
       "23                                        Other   1385             8.14   \n",
       "24                                       Latino   7013            38.51   \n",
       "25                                        White   5504            30.22   \n",
       "26                                        Asian   2361            12.96   \n",
       "27                                        Black   1244             6.83   \n",
       "28                                  Multiracial    362             1.99   \n",
       "29             American Indian or Alaska Native     34             0.19   \n",
       "30          Native Hawaiian or Pacific Islander    279             1.53   \n",
       "31                                        Other   1414             7.76   \n",
       "32                                       Latino   7627            39.41   \n",
       "33                                        White   5757            29.75   \n",
       "34                                        Asian   2489            12.86   \n",
       "35                                        Black   1312             6.78   \n",
       "36                                  Multiracial    376             1.94   \n",
       "37             American Indian or Alaska Native     38             0.20   \n",
       "38          Native Hawaiian or Pacific Islander    290             1.50   \n",
       "39                                        Other   1463             7.56   \n",
       "396                                  Multi-Race    625             0.80   \n",
       "398  Native Hawaiian and other Pacific Islander    631             0.80   \n",
       "404                                  Multi-Race    638             0.80   \n",
       "406  Native Hawaiian and other Pacific Islander    652             0.80   \n",
       "412                                  Multi-Race    645             0.80   \n",
       "414  Native Hawaiian and other Pacific Islander    666             0.80   \n",
       "420                                  Multi-Race    654             0.70   \n",
       "422  Native Hawaiian and other Pacific Islander    669             0.80   \n",
       "428                                  Multi-Race    665             0.70   \n",
       "430  Native Hawaiian and other Pacific Islander    683             0.80   \n",
       "\n",
       "     deaths  death_percentage  percent_ca_population     date month  \n",
       "0       170             28.38                   38.9  4/13/20   Apr  \n",
       "1       246             41.07                   36.6  4/13/20   Apr  \n",
       "2        98             16.36                   15.4  4/13/20   Apr  \n",
       "3        61             10.18                    6.0  4/13/20   Apr  \n",
       "4         8              1.34                    2.2  4/13/20   Apr  \n",
       "5         3              0.50                    0.5  4/13/20   Apr  \n",
       "6         4              0.67                    0.3  4/13/20   Apr  \n",
       "7         9              1.50                    0.0  4/13/20   Apr  \n",
       "8       203             29.72                   38.9  4/14/20   Apr  \n",
       "9       264             38.65                   36.6  4/14/20   Apr  \n",
       "10      103             15.08                   15.4  4/14/20   Apr  \n",
       "11       79             11.57                    6.0  4/14/20   Apr  \n",
       "12        9              1.32                    2.2  4/14/20   Apr  \n",
       "13        3              0.44                    0.5  4/14/20   Apr  \n",
       "14        6              0.88                    0.3  4/14/20   Apr  \n",
       "15       16              2.34                    0.0  4/14/20   Apr  \n",
       "16      226             29.70                   38.9  4/15/20   Apr  \n",
       "17      286             37.58                   36.6  4/15/20   Apr  \n",
       "18      122             16.03                   15.4  4/15/20   Apr  \n",
       "19       87             11.43                    6.0  4/15/20   Apr  \n",
       "20       10              1.31                    2.2  4/15/20   Apr  \n",
       "21        3              0.39                    0.5  4/15/20   Apr  \n",
       "22        9              1.18                    0.3  4/15/20   Apr  \n",
       "23       18              2.37                    0.0  4/15/20   Apr  \n",
       "24      254             29.85                   38.9  4/16/20   Apr  \n",
       "25      314             36.90                   36.6  4/16/20   Apr  \n",
       "26      135             15.86                   15.4  4/16/20   Apr  \n",
       "27      103             12.10                    6.0  4/16/20   Apr  \n",
       "28       11              1.29                    2.2  4/16/20   Apr  \n",
       "29        4              0.47                    0.5  4/16/20   Apr  \n",
       "30       12              1.41                    0.3  4/16/20   Apr  \n",
       "31       18              2.12                    0.0  4/16/20   Apr  \n",
       "32      281             30.58                   38.9  4/17/20   Apr  \n",
       "33      333             36.24                   36.6  4/17/20   Apr  \n",
       "34      147             16.00                   15.4  4/17/20   Apr  \n",
       "35      110             11.97                    6.0  4/17/20   Apr  \n",
       "36       11              1.20                    2.2  4/17/20   Apr  \n",
       "37        4              0.44                    0.5  4/17/20   Apr  \n",
       "38       13              1.41                    0.3  4/17/20   Apr  \n",
       "39       20              2.18                    0.0  4/17/20   Apr  \n",
       "396      26              0.60                    2.2   6/1/20   Jun  \n",
       "398      30              0.70                    0.3   6/1/20   Jun  \n",
       "404      26              0.60                    2.2   6/2/20   Jun  \n",
       "406      31              0.70                    0.3   6/2/20   Jun  \n",
       "412      27              0.60                    2.2   6/3/20   Jun  \n",
       "414      33              0.80                    0.3   6/3/20   Jun  \n",
       "420      28              0.70                    2.2   6/4/20   Jun  \n",
       "422      19              0.40                    0.3   6/4/20   Jun  \n",
       "428      29              0.70                    2.2   6/5/20   Jun  \n",
       "430      20              0.50                    0.3   6/5/20   Jun  "
      ],
      "text/html": "<div>\n<style scoped>\n    .dataframe tbody tr th:only-of-type {\n        vertical-align: middle;\n    }\n\n    .dataframe tbody tr th {\n        vertical-align: top;\n    }\n\n    .dataframe thead th {\n        text-align: right;\n    }\n</style>\n<table border=\"1\" class=\"dataframe\">\n  <thead>\n    <tr style=\"text-align: right;\">\n      <th></th>\n      <th>race_ethnicity</th>\n      <th>cases</th>\n      <th>case_percentage</th>\n      <th>deaths</th>\n      <th>death_percentage</th>\n      <th>percent_ca_population</th>\n      <th>date</th>\n      <th>month</th>\n    </tr>\n  </thead>\n  <tbody>\n    <tr>\n      <th>0</th>\n      <td>Latino</td>\n      <td>5276</td>\n      <td>35.99</td>\n      <td>170</td>\n      <td>28.38</td>\n      <td>38.9</td>\n      <td>4/13/20</td>\n      <td>Apr</td>\n    </tr>\n    <tr>\n      <th>1</th>\n      <td>White</td>\n      <td>4639</td>\n      <td>31.64</td>\n      <td>246</td>\n      <td>41.07</td>\n      <td>36.6</td>\n      <td>4/13/20</td>\n      <td>Apr</td>\n    </tr>\n    <tr>\n      <th>2</th>\n      <td>Asian</td>\n      <td>1902</td>\n      <td>12.97</td>\n      <td>98</td>\n      <td>16.36</td>\n      <td>15.4</td>\n      <td>4/13/20</td>\n      <td>Apr</td>\n    </tr>\n    <tr>\n      <th>3</th>\n      <td>Black</td>\n      <td>1030</td>\n      <td>7.03</td>\n      <td>61</td>\n      <td>10.18</td>\n      <td>6.0</td>\n      <td>4/13/20</td>\n      <td>Apr</td>\n    </tr>\n    <tr>\n      <th>4</th>\n      <td>Multiracial</td>\n      <td>268</td>\n      <td>1.83</td>\n      <td>8</td>\n      <td>1.34</td>\n      <td>2.2</td>\n      <td>4/13/20</td>\n      <td>Apr</td>\n    </tr>\n    <tr>\n      <th>5</th>\n      <td>American Indian or Alaska Native</td>\n      <td>33</td>\n      <td>0.23</td>\n      <td>3</td>\n      <td>0.50</td>\n      <td>0.5</td>\n      <td>4/13/20</td>\n      <td>Apr</td>\n    </tr>\n    <tr>\n      <th>6</th>\n      <td>Native Hawaiian or Pacific Islander</td>\n      <td>243</td>\n      <td>1.66</td>\n      <td>4</td>\n      <td>0.67</td>\n      <td>0.3</td>\n      <td>4/13/20</td>\n      <td>Apr</td>\n    </tr>\n    <tr>\n      <th>7</th>\n      <td>Other</td>\n      <td>1269</td>\n      <td>8.66</td>\n      <td>9</td>\n      <td>1.50</td>\n      <td>0.0</td>\n      <td>4/13/20</td>\n      <td>Apr</td>\n    </tr>\n    <tr>\n      <th>8</th>\n      <td>Latino</td>\n      <td>5910</td>\n      <td>37.18</td>\n      <td>203</td>\n      <td>29.72</td>\n      <td>38.9</td>\n      <td>4/14/20</td>\n      <td>Apr</td>\n    </tr>\n    <tr>\n      <th>9</th>\n      <td>White</td>\n      <td>4939</td>\n      <td>31.07</td>\n      <td>264</td>\n      <td>38.65</td>\n      <td>36.6</td>\n      <td>4/14/20</td>\n      <td>Apr</td>\n    </tr>\n    <tr>\n      <th>10</th>\n      <td>Asian</td>\n      <td>2045</td>\n      <td>12.87</td>\n      <td>103</td>\n      <td>15.08</td>\n      <td>15.4</td>\n      <td>4/14/20</td>\n      <td>Apr</td>\n    </tr>\n    <tr>\n      <th>11</th>\n      <td>Black</td>\n      <td>1107</td>\n      <td>6.96</td>\n      <td>79</td>\n      <td>11.57</td>\n      <td>6.0</td>\n      <td>4/14/20</td>\n      <td>Apr</td>\n    </tr>\n    <tr>\n      <th>12</th>\n      <td>Multiracial</td>\n      <td>303</td>\n      <td>1.91</td>\n      <td>9</td>\n      <td>1.32</td>\n      <td>2.2</td>\n      <td>4/14/20</td>\n      <td>Apr</td>\n    </tr>\n    <tr>\n      <th>13</th>\n      <td>American Indian or Alaska Native</td>\n      <td>33</td>\n      <td>0.21</td>\n      <td>3</td>\n      <td>0.44</td>\n      <td>0.5</td>\n      <td>4/14/20</td>\n      <td>Apr</td>\n    </tr>\n    <tr>\n      <th>14</th>\n      <td>Native Hawaiian or Pacific Islander</td>\n      <td>252</td>\n      <td>1.59</td>\n      <td>6</td>\n      <td>0.88</td>\n      <td>0.3</td>\n      <td>4/14/20</td>\n      <td>Apr</td>\n    </tr>\n    <tr>\n      <th>15</th>\n      <td>Other</td>\n      <td>1306</td>\n      <td>8.22</td>\n      <td>16</td>\n      <td>2.34</td>\n      <td>0.0</td>\n      <td>4/14/20</td>\n      <td>Apr</td>\n    </tr>\n    <tr>\n      <th>16</th>\n      <td>Latino</td>\n      <td>6433</td>\n      <td>37.80</td>\n      <td>226</td>\n      <td>29.70</td>\n      <td>38.9</td>\n      <td>4/15/20</td>\n      <td>Apr</td>\n    </tr>\n    <tr>\n      <th>17</th>\n      <td>White</td>\n      <td>5239</td>\n      <td>30.79</td>\n      <td>286</td>\n      <td>37.58</td>\n      <td>36.6</td>\n      <td>4/15/20</td>\n      <td>Apr</td>\n    </tr>\n    <tr>\n      <th>18</th>\n      <td>Asian</td>\n      <td>2161</td>\n      <td>12.70</td>\n      <td>122</td>\n      <td>16.03</td>\n      <td>15.4</td>\n      <td>4/15/20</td>\n      <td>Apr</td>\n    </tr>\n    <tr>\n      <th>19</th>\n      <td>Black</td>\n      <td>1176</td>\n      <td>6.91</td>\n      <td>87</td>\n      <td>11.43</td>\n      <td>6.0</td>\n      <td>4/15/20</td>\n      <td>Apr</td>\n    </tr>\n    <tr>\n      <th>20</th>\n      <td>Multiracial</td>\n      <td>329</td>\n      <td>1.93</td>\n      <td>10</td>\n      <td>1.31</td>\n      <td>2.2</td>\n      <td>4/15/20</td>\n      <td>Apr</td>\n    </tr>\n    <tr>\n      <th>21</th>\n      <td>American Indian or Alaska Native</td>\n      <td>32</td>\n      <td>0.19</td>\n      <td>3</td>\n      <td>0.39</td>\n      <td>0.5</td>\n      <td>4/15/20</td>\n      <td>Apr</td>\n    </tr>\n    <tr>\n      <th>22</th>\n      <td>Native Hawaiian or Pacific Islander</td>\n      <td>262</td>\n      <td>1.54</td>\n      <td>9</td>\n      <td>1.18</td>\n      <td>0.3</td>\n      <td>4/15/20</td>\n      <td>Apr</td>\n    </tr>\n    <tr>\n      <th>23</th>\n      <td>Other</td>\n      <td>1385</td>\n      <td>8.14</td>\n      <td>18</td>\n      <td>2.37</td>\n      <td>0.0</td>\n      <td>4/15/20</td>\n      <td>Apr</td>\n    </tr>\n    <tr>\n      <th>24</th>\n      <td>Latino</td>\n      <td>7013</td>\n      <td>38.51</td>\n      <td>254</td>\n      <td>29.85</td>\n      <td>38.9</td>\n      <td>4/16/20</td>\n      <td>Apr</td>\n    </tr>\n    <tr>\n      <th>25</th>\n      <td>White</td>\n      <td>5504</td>\n      <td>30.22</td>\n      <td>314</td>\n      <td>36.90</td>\n      <td>36.6</td>\n      <td>4/16/20</td>\n      <td>Apr</td>\n    </tr>\n    <tr>\n      <th>26</th>\n      <td>Asian</td>\n      <td>2361</td>\n      <td>12.96</td>\n      <td>135</td>\n      <td>15.86</td>\n      <td>15.4</td>\n      <td>4/16/20</td>\n      <td>Apr</td>\n    </tr>\n    <tr>\n      <th>27</th>\n      <td>Black</td>\n      <td>1244</td>\n      <td>6.83</td>\n      <td>103</td>\n      <td>12.10</td>\n      <td>6.0</td>\n      <td>4/16/20</td>\n      <td>Apr</td>\n    </tr>\n    <tr>\n      <th>28</th>\n      <td>Multiracial</td>\n      <td>362</td>\n      <td>1.99</td>\n      <td>11</td>\n      <td>1.29</td>\n      <td>2.2</td>\n      <td>4/16/20</td>\n      <td>Apr</td>\n    </tr>\n    <tr>\n      <th>29</th>\n      <td>American Indian or Alaska Native</td>\n      <td>34</td>\n      <td>0.19</td>\n      <td>4</td>\n      <td>0.47</td>\n      <td>0.5</td>\n      <td>4/16/20</td>\n      <td>Apr</td>\n    </tr>\n    <tr>\n      <th>30</th>\n      <td>Native Hawaiian or Pacific Islander</td>\n      <td>279</td>\n      <td>1.53</td>\n      <td>12</td>\n      <td>1.41</td>\n      <td>0.3</td>\n      <td>4/16/20</td>\n      <td>Apr</td>\n    </tr>\n    <tr>\n      <th>31</th>\n      <td>Other</td>\n      <td>1414</td>\n      <td>7.76</td>\n      <td>18</td>\n      <td>2.12</td>\n      <td>0.0</td>\n      <td>4/16/20</td>\n      <td>Apr</td>\n    </tr>\n    <tr>\n      <th>32</th>\n      <td>Latino</td>\n      <td>7627</td>\n      <td>39.41</td>\n      <td>281</td>\n      <td>30.58</td>\n      <td>38.9</td>\n      <td>4/17/20</td>\n      <td>Apr</td>\n    </tr>\n    <tr>\n      <th>33</th>\n      <td>White</td>\n      <td>5757</td>\n      <td>29.75</td>\n      <td>333</td>\n      <td>36.24</td>\n      <td>36.6</td>\n      <td>4/17/20</td>\n      <td>Apr</td>\n    </tr>\n    <tr>\n      <th>34</th>\n      <td>Asian</td>\n      <td>2489</td>\n      <td>12.86</td>\n      <td>147</td>\n      <td>16.00</td>\n      <td>15.4</td>\n      <td>4/17/20</td>\n      <td>Apr</td>\n    </tr>\n    <tr>\n      <th>35</th>\n      <td>Black</td>\n      <td>1312</td>\n      <td>6.78</td>\n      <td>110</td>\n      <td>11.97</td>\n      <td>6.0</td>\n      <td>4/17/20</td>\n      <td>Apr</td>\n    </tr>\n    <tr>\n      <th>36</th>\n      <td>Multiracial</td>\n      <td>376</td>\n      <td>1.94</td>\n      <td>11</td>\n      <td>1.20</td>\n      <td>2.2</td>\n      <td>4/17/20</td>\n      <td>Apr</td>\n    </tr>\n    <tr>\n      <th>37</th>\n      <td>American Indian or Alaska Native</td>\n      <td>38</td>\n      <td>0.20</td>\n      <td>4</td>\n      <td>0.44</td>\n      <td>0.5</td>\n      <td>4/17/20</td>\n      <td>Apr</td>\n    </tr>\n    <tr>\n      <th>38</th>\n      <td>Native Hawaiian or Pacific Islander</td>\n      <td>290</td>\n      <td>1.50</td>\n      <td>13</td>\n      <td>1.41</td>\n      <td>0.3</td>\n      <td>4/17/20</td>\n      <td>Apr</td>\n    </tr>\n    <tr>\n      <th>39</th>\n      <td>Other</td>\n      <td>1463</td>\n      <td>7.56</td>\n      <td>20</td>\n      <td>2.18</td>\n      <td>0.0</td>\n      <td>4/17/20</td>\n      <td>Apr</td>\n    </tr>\n    <tr>\n      <th>396</th>\n      <td>Multi-Race</td>\n      <td>625</td>\n      <td>0.80</td>\n      <td>26</td>\n      <td>0.60</td>\n      <td>2.2</td>\n      <td>6/1/20</td>\n      <td>Jun</td>\n    </tr>\n    <tr>\n      <th>398</th>\n      <td>Native Hawaiian and other Pacific Islander</td>\n      <td>631</td>\n      <td>0.80</td>\n      <td>30</td>\n      <td>0.70</td>\n      <td>0.3</td>\n      <td>6/1/20</td>\n      <td>Jun</td>\n    </tr>\n    <tr>\n      <th>404</th>\n      <td>Multi-Race</td>\n      <td>638</td>\n      <td>0.80</td>\n      <td>26</td>\n      <td>0.60</td>\n      <td>2.2</td>\n      <td>6/2/20</td>\n      <td>Jun</td>\n    </tr>\n    <tr>\n      <th>406</th>\n      <td>Native Hawaiian and other Pacific Islander</td>\n      <td>652</td>\n      <td>0.80</td>\n      <td>31</td>\n      <td>0.70</td>\n      <td>0.3</td>\n      <td>6/2/20</td>\n      <td>Jun</td>\n    </tr>\n    <tr>\n      <th>412</th>\n      <td>Multi-Race</td>\n      <td>645</td>\n      <td>0.80</td>\n      <td>27</td>\n      <td>0.60</td>\n      <td>2.2</td>\n      <td>6/3/20</td>\n      <td>Jun</td>\n    </tr>\n    <tr>\n      <th>414</th>\n      <td>Native Hawaiian and other Pacific Islander</td>\n      <td>666</td>\n      <td>0.80</td>\n      <td>33</td>\n      <td>0.80</td>\n      <td>0.3</td>\n      <td>6/3/20</td>\n      <td>Jun</td>\n    </tr>\n    <tr>\n      <th>420</th>\n      <td>Multi-Race</td>\n      <td>654</td>\n      <td>0.70</td>\n      <td>28</td>\n      <td>0.70</td>\n      <td>2.2</td>\n      <td>6/4/20</td>\n      <td>Jun</td>\n    </tr>\n    <tr>\n      <th>422</th>\n      <td>Native Hawaiian and other Pacific Islander</td>\n      <td>669</td>\n      <td>0.80</td>\n      <td>19</td>\n      <td>0.40</td>\n      <td>0.3</td>\n      <td>6/4/20</td>\n      <td>Jun</td>\n    </tr>\n    <tr>\n      <th>428</th>\n      <td>Multi-Race</td>\n      <td>665</td>\n      <td>0.70</td>\n      <td>29</td>\n      <td>0.70</td>\n      <td>2.2</td>\n      <td>6/5/20</td>\n      <td>Jun</td>\n    </tr>\n    <tr>\n      <th>430</th>\n      <td>Native Hawaiian and other Pacific Islander</td>\n      <td>683</td>\n      <td>0.80</td>\n      <td>20</td>\n      <td>0.50</td>\n      <td>0.3</td>\n      <td>6/5/20</td>\n      <td>Jun</td>\n    </tr>\n  </tbody>\n</table>\n</div>"
     },
     "metadata": {},
     "execution_count": 30
    }
   ],
   "source": [
    "# Group by based on ethnicity in order to aggregate data from csv file by ethnicity\n",
    "\n",
    "df_eth_aggregated = df_ethnicity.groupby([\"race_ethnicity\"])\n",
    "df_eth_aggregated.head()\n"
   ]
  },
  {
   "cell_type": "code",
   "execution_count": 31,
   "metadata": {},
   "outputs": [
    {
     "output_type": "execute_result",
     "data": {
      "text/plain": [
       "May     248\n",
       "Oct     248\n",
       "Aug     248\n",
       "Jul     248\n",
       "Jun     240\n",
       "Sept    240\n",
       "Apr     144\n",
       "Nov     144\n",
       "Name: month, dtype: int64"
      ]
     },
     "metadata": {},
     "execution_count": 31
    }
   ],
   "source": [
    "# Use value_counts function to help determine whether there are any months in the data that have incomplete data. The slight discrepancy between the months that ARE NOT April or November is because some months have 30 days vs. 31 days.\n",
    "\n",
    "df_ethnicity[\"month\"].value_counts()"
   ]
  },
  {
   "cell_type": "code",
   "execution_count": 32,
   "metadata": {},
   "outputs": [
    {
     "output_type": "execute_result",
     "data": {
      "text/plain": [
       "Index(['race_ethnicity', 'cases', 'case_percentage', 'deaths',\n",
       "       'death_percentage', 'percent_ca_population', 'date', 'month'],\n",
       "      dtype='object')"
      ]
     },
     "metadata": {},
     "execution_count": 32
    }
   ],
   "source": [
    "# Query column structure of dataset\n",
    "\n",
    "df_ethnicity.columns"
   ]
  },
  {
   "cell_type": "code",
   "execution_count": 33,
   "metadata": {},
   "outputs": [
    {
     "output_type": "stream",
     "name": "stdout",
     "text": [
      "<pandas.core.groupby.generic.DataFrameGroupBy object at 0x7fe6dc73c730>\n"
     ]
    },
    {
     "output_type": "execute_result",
     "data": {
      "text/plain": [
       "       race_ethnicity  cases  case_percentage  deaths  death_percentage  \\\n",
       "month                                                                     \n",
       "Apr               144    144              144     144               144   \n",
       "Aug               248    248              248     248               248   \n",
       "Jul               248    248              248     248               248   \n",
       "Jun               240    240              240     240               240   \n",
       "May               248    248              248     248               248   \n",
       "Nov               144    144              144     144               144   \n",
       "Oct               248    248              248     248               248   \n",
       "Sept              240    240              240     240               240   \n",
       "\n",
       "       percent_ca_population  date  \n",
       "month                               \n",
       "Apr                      144   144  \n",
       "Aug                      248   248  \n",
       "Jul                      248   248  \n",
       "Jun                      240   240  \n",
       "May                      248   248  \n",
       "Nov                      144   144  \n",
       "Oct                      248   248  \n",
       "Sept                     240   240  "
      ],
      "text/html": "<div>\n<style scoped>\n    .dataframe tbody tr th:only-of-type {\n        vertical-align: middle;\n    }\n\n    .dataframe tbody tr th {\n        vertical-align: top;\n    }\n\n    .dataframe thead th {\n        text-align: right;\n    }\n</style>\n<table border=\"1\" class=\"dataframe\">\n  <thead>\n    <tr style=\"text-align: right;\">\n      <th></th>\n      <th>race_ethnicity</th>\n      <th>cases</th>\n      <th>case_percentage</th>\n      <th>deaths</th>\n      <th>death_percentage</th>\n      <th>percent_ca_population</th>\n      <th>date</th>\n    </tr>\n    <tr>\n      <th>month</th>\n      <th></th>\n      <th></th>\n      <th></th>\n      <th></th>\n      <th></th>\n      <th></th>\n      <th></th>\n    </tr>\n  </thead>\n  <tbody>\n    <tr>\n      <th>Apr</th>\n      <td>144</td>\n      <td>144</td>\n      <td>144</td>\n      <td>144</td>\n      <td>144</td>\n      <td>144</td>\n      <td>144</td>\n    </tr>\n    <tr>\n      <th>Aug</th>\n      <td>248</td>\n      <td>248</td>\n      <td>248</td>\n      <td>248</td>\n      <td>248</td>\n      <td>248</td>\n      <td>248</td>\n    </tr>\n    <tr>\n      <th>Jul</th>\n      <td>248</td>\n      <td>248</td>\n      <td>248</td>\n      <td>248</td>\n      <td>248</td>\n      <td>248</td>\n      <td>248</td>\n    </tr>\n    <tr>\n      <th>Jun</th>\n      <td>240</td>\n      <td>240</td>\n      <td>240</td>\n      <td>240</td>\n      <td>240</td>\n      <td>240</td>\n      <td>240</td>\n    </tr>\n    <tr>\n      <th>May</th>\n      <td>248</td>\n      <td>248</td>\n      <td>248</td>\n      <td>248</td>\n      <td>248</td>\n      <td>248</td>\n      <td>248</td>\n    </tr>\n    <tr>\n      <th>Nov</th>\n      <td>144</td>\n      <td>144</td>\n      <td>144</td>\n      <td>144</td>\n      <td>144</td>\n      <td>144</td>\n      <td>144</td>\n    </tr>\n    <tr>\n      <th>Oct</th>\n      <td>248</td>\n      <td>248</td>\n      <td>248</td>\n      <td>248</td>\n      <td>248</td>\n      <td>248</td>\n      <td>248</td>\n    </tr>\n    <tr>\n      <th>Sept</th>\n      <td>240</td>\n      <td>240</td>\n      <td>240</td>\n      <td>240</td>\n      <td>240</td>\n      <td>240</td>\n      <td>240</td>\n    </tr>\n  </tbody>\n</table>\n</div>"
     },
     "metadata": {},
     "execution_count": 33
    }
   ],
   "source": [
    "df_month = df_ethnicity.groupby([\"month\"])\n",
    "\n",
    "print(df_month)\n",
    "\n",
    "df_month.count()"
   ]
  },
  {
   "cell_type": "code",
   "execution_count": 34,
   "metadata": {},
   "outputs": [
    {
     "output_type": "execute_result",
     "data": {
      "text/plain": [
       "               cases  case_percentage       deaths  death_percentage  \\\n",
       "count    1760.000000      1760.000000  1760.000000       1760.000000   \n",
       "mean    41335.618182        12.500596  1191.210795         12.500682   \n",
       "std     82106.068516        17.832622  1949.518872         15.617099   \n",
       "min        32.000000         0.185972     3.000000          0.220000   \n",
       "25%      1898.000000         0.800000    45.750000          0.500000   \n",
       "50%      8607.500000         5.450000   152.000000          4.995000   \n",
       "75%     38014.750000        16.125000  1361.750000         20.355000   \n",
       "max    455005.000000        61.200000  8900.000000         48.700000   \n",
       "\n",
       "       percent_ca_population  \n",
       "count            1760.000000  \n",
       "mean               12.487500  \n",
       "std                15.348777  \n",
       "min                 0.000000  \n",
       "25%                 0.450000  \n",
       "50%                 4.100000  \n",
       "75%                20.700000  \n",
       "max                38.900000  "
      ],
      "text/html": "<div>\n<style scoped>\n    .dataframe tbody tr th:only-of-type {\n        vertical-align: middle;\n    }\n\n    .dataframe tbody tr th {\n        vertical-align: top;\n    }\n\n    .dataframe thead th {\n        text-align: right;\n    }\n</style>\n<table border=\"1\" class=\"dataframe\">\n  <thead>\n    <tr style=\"text-align: right;\">\n      <th></th>\n      <th>cases</th>\n      <th>case_percentage</th>\n      <th>deaths</th>\n      <th>death_percentage</th>\n      <th>percent_ca_population</th>\n    </tr>\n  </thead>\n  <tbody>\n    <tr>\n      <th>count</th>\n      <td>1760.000000</td>\n      <td>1760.000000</td>\n      <td>1760.000000</td>\n      <td>1760.000000</td>\n      <td>1760.000000</td>\n    </tr>\n    <tr>\n      <th>mean</th>\n      <td>41335.618182</td>\n      <td>12.500596</td>\n      <td>1191.210795</td>\n      <td>12.500682</td>\n      <td>12.487500</td>\n    </tr>\n    <tr>\n      <th>std</th>\n      <td>82106.068516</td>\n      <td>17.832622</td>\n      <td>1949.518872</td>\n      <td>15.617099</td>\n      <td>15.348777</td>\n    </tr>\n    <tr>\n      <th>min</th>\n      <td>32.000000</td>\n      <td>0.185972</td>\n      <td>3.000000</td>\n      <td>0.220000</td>\n      <td>0.000000</td>\n    </tr>\n    <tr>\n      <th>25%</th>\n      <td>1898.000000</td>\n      <td>0.800000</td>\n      <td>45.750000</td>\n      <td>0.500000</td>\n      <td>0.450000</td>\n    </tr>\n    <tr>\n      <th>50%</th>\n      <td>8607.500000</td>\n      <td>5.450000</td>\n      <td>152.000000</td>\n      <td>4.995000</td>\n      <td>4.100000</td>\n    </tr>\n    <tr>\n      <th>75%</th>\n      <td>38014.750000</td>\n      <td>16.125000</td>\n      <td>1361.750000</td>\n      <td>20.355000</td>\n      <td>20.700000</td>\n    </tr>\n    <tr>\n      <th>max</th>\n      <td>455005.000000</td>\n      <td>61.200000</td>\n      <td>8900.000000</td>\n      <td>48.700000</td>\n      <td>38.900000</td>\n    </tr>\n  </tbody>\n</table>\n</div>"
     },
     "metadata": {},
     "execution_count": 34
    }
   ],
   "source": [
    "df_ethnicity.describe()"
   ]
  },
  {
   "cell_type": "code",
   "execution_count": 35,
   "metadata": {},
   "outputs": [
    {
     "output_type": "execute_result",
     "data": {
      "text/plain": [
       "                                                    cases  case_percentage  \\\n",
       "race_ethnicity                                                               \n",
       "American Indian or Alaska Native               848.636364         0.230953   \n",
       "Asian                                        19173.040909         7.156979   \n",
       "Black                                        14293.013636         4.762079   \n",
       "Latino                                      196653.936364        56.365234   \n",
       "Multi-Race                                    4135.859649         0.912865   \n",
       "Multiracial                                    412.285714         1.074945   \n",
       "Native Hawaiian and other Pacific Islander    2310.748538         0.576608   \n",
       "Native Hawaiian or Pacific Islander            445.918367         1.126054   \n",
       "Other                                        36417.804545        10.667271   \n",
       "White                                        58096.595455        19.174306   \n",
       "\n",
       "                                                 deaths  death_percentage  \\\n",
       "race_ethnicity                                                              \n",
       "American Indian or Alaska Native              31.590909          0.341791   \n",
       "Asian                                       1180.881818         13.367394   \n",
       "Black                                        770.127273          8.782002   \n",
       "Latino                                      4446.909091         43.629602   \n",
       "Multi-Race                                    79.842105          0.660819   \n",
       "Multiracial                                   13.897959          0.632193   \n",
       "Native Hawaiian and other Pacific Islander    54.122807          0.472515   \n",
       "Native Hawaiian or Pacific Islander           21.428571          0.962923   \n",
       "Other                                         82.145455          1.061380   \n",
       "White                                       2906.036364         31.587101   \n",
       "\n",
       "                                            percent_ca_population  \n",
       "race_ethnicity                                                     \n",
       "American Indian or Alaska Native                              0.5  \n",
       "Asian                                                        15.4  \n",
       "Black                                                         6.0  \n",
       "Latino                                                       38.9  \n",
       "Multi-Race                                                    2.2  \n",
       "Multiracial                                                   2.2  \n",
       "Native Hawaiian and other Pacific Islander                    0.3  \n",
       "Native Hawaiian or Pacific Islander                           0.3  \n",
       "Other                                                         0.0  \n",
       "White                                                        36.6  "
      ],
      "text/html": "<div>\n<style scoped>\n    .dataframe tbody tr th:only-of-type {\n        vertical-align: middle;\n    }\n\n    .dataframe tbody tr th {\n        vertical-align: top;\n    }\n\n    .dataframe thead th {\n        text-align: right;\n    }\n</style>\n<table border=\"1\" class=\"dataframe\">\n  <thead>\n    <tr style=\"text-align: right;\">\n      <th></th>\n      <th>cases</th>\n      <th>case_percentage</th>\n      <th>deaths</th>\n      <th>death_percentage</th>\n      <th>percent_ca_population</th>\n    </tr>\n    <tr>\n      <th>race_ethnicity</th>\n      <th></th>\n      <th></th>\n      <th></th>\n      <th></th>\n      <th></th>\n    </tr>\n  </thead>\n  <tbody>\n    <tr>\n      <th>American Indian or Alaska Native</th>\n      <td>848.636364</td>\n      <td>0.230953</td>\n      <td>31.590909</td>\n      <td>0.341791</td>\n      <td>0.5</td>\n    </tr>\n    <tr>\n      <th>Asian</th>\n      <td>19173.040909</td>\n      <td>7.156979</td>\n      <td>1180.881818</td>\n      <td>13.367394</td>\n      <td>15.4</td>\n    </tr>\n    <tr>\n      <th>Black</th>\n      <td>14293.013636</td>\n      <td>4.762079</td>\n      <td>770.127273</td>\n      <td>8.782002</td>\n      <td>6.0</td>\n    </tr>\n    <tr>\n      <th>Latino</th>\n      <td>196653.936364</td>\n      <td>56.365234</td>\n      <td>4446.909091</td>\n      <td>43.629602</td>\n      <td>38.9</td>\n    </tr>\n    <tr>\n      <th>Multi-Race</th>\n      <td>4135.859649</td>\n      <td>0.912865</td>\n      <td>79.842105</td>\n      <td>0.660819</td>\n      <td>2.2</td>\n    </tr>\n    <tr>\n      <th>Multiracial</th>\n      <td>412.285714</td>\n      <td>1.074945</td>\n      <td>13.897959</td>\n      <td>0.632193</td>\n      <td>2.2</td>\n    </tr>\n    <tr>\n      <th>Native Hawaiian and other Pacific Islander</th>\n      <td>2310.748538</td>\n      <td>0.576608</td>\n      <td>54.122807</td>\n      <td>0.472515</td>\n      <td>0.3</td>\n    </tr>\n    <tr>\n      <th>Native Hawaiian or Pacific Islander</th>\n      <td>445.918367</td>\n      <td>1.126054</td>\n      <td>21.428571</td>\n      <td>0.962923</td>\n      <td>0.3</td>\n    </tr>\n    <tr>\n      <th>Other</th>\n      <td>36417.804545</td>\n      <td>10.667271</td>\n      <td>82.145455</td>\n      <td>1.061380</td>\n      <td>0.0</td>\n    </tr>\n    <tr>\n      <th>White</th>\n      <td>58096.595455</td>\n      <td>19.174306</td>\n      <td>2906.036364</td>\n      <td>31.587101</td>\n      <td>36.6</td>\n    </tr>\n  </tbody>\n</table>\n</div>"
     },
     "metadata": {},
     "execution_count": 35
    }
   ],
   "source": [
    "# Aggregate data by race and ethnicity DELETE LATER\n",
    "\n",
    "ethnicity_group = df_ethnicity.groupby([\"race_ethnicity\"])\n",
    "\n",
    "df_race_aggregated = ethnicity_group.mean()\n",
    "df_race_aggregated\n",
    "\n"
   ]
  },
  {
   "cell_type": "code",
   "execution_count": 36,
   "metadata": {},
   "outputs": [
    {
     "output_type": "execute_result",
     "data": {
      "text/plain": [
       "Asian                                         220\n",
       "Black                                         220\n",
       "Other                                         220\n",
       "White                                         220\n",
       "American Indian or Alaska Native              220\n",
       "Latino                                        220\n",
       "Native Hawaiian and other Pacific Islander    171\n",
       "Multi-Race                                    171\n",
       "Native Hawaiian or Pacific Islander            49\n",
       "Multiracial                                    49\n",
       "Name: race_ethnicity, dtype: int64"
      ]
     },
     "metadata": {},
     "execution_count": 36
    }
   ],
   "source": [
    "# Identify irregularities in the dataset as it pertains to race and ethnicity. There appear to be two \"race_ethnicity\" groups that require cleaning.\n",
    "\n",
    "df_ethnicity[\"race_ethnicity\"].value_counts()"
   ]
  },
  {
   "cell_type": "code",
   "execution_count": 38,
   "metadata": {},
   "outputs": [
    {
     "output_type": "execute_result",
     "data": {
      "text/plain": [
       "Asian                                         220\n",
       "Native Hawaiian and other Pacific Islander    220\n",
       "Black                                         220\n",
       "Other                                         220\n",
       "White                                         220\n",
       "American Indian or Alaska Native              220\n",
       "Multi-Race                                    220\n",
       "Latino                                        220\n",
       "Name: race_ethnicity, dtype: int64"
      ]
     },
     "metadata": {},
     "execution_count": 38
    }
   ],
   "source": [
    "# Clean up the data!\n",
    "\n",
    "df_ethnicity[\"race_ethnicity\"] = df_ethnicity[\"race_ethnicity\"].replace({'Multiracial': 'Multi-Race', 'Native Hawaiian or Pacific Islander': 'Native Hawaiian and other Pacific Islander'})\n",
    "\n",
    "# ... And verify the cleanup.\n",
    "df_ethnicity[\"race_ethnicity\"].value_counts()"
   ]
  },
  {
   "cell_type": "code",
   "execution_count": 39,
   "metadata": {},
   "outputs": [
    {
     "output_type": "execute_result",
     "data": {
      "text/plain": [
       "                                  race_ethnicity  cases  case_percentage  \\\n",
       "136                                       Latino  15233             46.0   \n",
       "137                                        White   8926             27.0   \n",
       "138                                        Asian   3988             12.0   \n",
       "139                                        Black   2131              6.4   \n",
       "140                                   Multi-Race    282              0.9   \n",
       "...                                          ...    ...              ...   \n",
       "1755                                       Black  31789              4.2   \n",
       "1756                                  Multi-Race   9290              1.2   \n",
       "1757            American Indian or Alaska Native   2227              0.3   \n",
       "1758  Native Hawaiian and other Pacific Islander   4069              0.5   \n",
       "1759                                       Other  74457              9.8   \n",
       "\n",
       "      deaths  death_percentage  percent_ca_population      date month  \n",
       "136      657              34.6                   38.9   4/30/20   Apr  \n",
       "137      655              34.5                   36.6   4/30/20   Apr  \n",
       "138      324              17.0                   15.4   4/30/20   Apr  \n",
       "139      201              10.6                    6.0   4/30/20   Apr  \n",
       "140        7               0.4                    2.2   4/30/20   Apr  \n",
       "...      ...               ...                    ...       ...   ...  \n",
       "1755    1352               7.4                    6.0  11/18/20   Nov  \n",
       "1756     156               0.9                    2.2  11/18/20   Nov  \n",
       "1757      63               0.3                    0.5  11/18/20   Nov  \n",
       "1758      88               0.5                    0.3  11/18/20   Nov  \n",
       "1759      88               0.5                    0.0  11/18/20   Nov  \n",
       "\n",
       "[64 rows x 8 columns]"
      ],
      "text/html": "<div>\n<style scoped>\n    .dataframe tbody tr th:only-of-type {\n        vertical-align: middle;\n    }\n\n    .dataframe tbody tr th {\n        vertical-align: top;\n    }\n\n    .dataframe thead th {\n        text-align: right;\n    }\n</style>\n<table border=\"1\" class=\"dataframe\">\n  <thead>\n    <tr style=\"text-align: right;\">\n      <th></th>\n      <th>race_ethnicity</th>\n      <th>cases</th>\n      <th>case_percentage</th>\n      <th>deaths</th>\n      <th>death_percentage</th>\n      <th>percent_ca_population</th>\n      <th>date</th>\n      <th>month</th>\n    </tr>\n  </thead>\n  <tbody>\n    <tr>\n      <th>136</th>\n      <td>Latino</td>\n      <td>15233</td>\n      <td>46.0</td>\n      <td>657</td>\n      <td>34.6</td>\n      <td>38.9</td>\n      <td>4/30/20</td>\n      <td>Apr</td>\n    </tr>\n    <tr>\n      <th>137</th>\n      <td>White</td>\n      <td>8926</td>\n      <td>27.0</td>\n      <td>655</td>\n      <td>34.5</td>\n      <td>36.6</td>\n      <td>4/30/20</td>\n      <td>Apr</td>\n    </tr>\n    <tr>\n      <th>138</th>\n      <td>Asian</td>\n      <td>3988</td>\n      <td>12.0</td>\n      <td>324</td>\n      <td>17.0</td>\n      <td>15.4</td>\n      <td>4/30/20</td>\n      <td>Apr</td>\n    </tr>\n    <tr>\n      <th>139</th>\n      <td>Black</td>\n      <td>2131</td>\n      <td>6.4</td>\n      <td>201</td>\n      <td>10.6</td>\n      <td>6.0</td>\n      <td>4/30/20</td>\n      <td>Apr</td>\n    </tr>\n    <tr>\n      <th>140</th>\n      <td>Multi-Race</td>\n      <td>282</td>\n      <td>0.9</td>\n      <td>7</td>\n      <td>0.4</td>\n      <td>2.2</td>\n      <td>4/30/20</td>\n      <td>Apr</td>\n    </tr>\n    <tr>\n      <th>...</th>\n      <td>...</td>\n      <td>...</td>\n      <td>...</td>\n      <td>...</td>\n      <td>...</td>\n      <td>...</td>\n      <td>...</td>\n      <td>...</td>\n    </tr>\n    <tr>\n      <th>1755</th>\n      <td>Black</td>\n      <td>31789</td>\n      <td>4.2</td>\n      <td>1352</td>\n      <td>7.4</td>\n      <td>6.0</td>\n      <td>11/18/20</td>\n      <td>Nov</td>\n    </tr>\n    <tr>\n      <th>1756</th>\n      <td>Multi-Race</td>\n      <td>9290</td>\n      <td>1.2</td>\n      <td>156</td>\n      <td>0.9</td>\n      <td>2.2</td>\n      <td>11/18/20</td>\n      <td>Nov</td>\n    </tr>\n    <tr>\n      <th>1757</th>\n      <td>American Indian or Alaska Native</td>\n      <td>2227</td>\n      <td>0.3</td>\n      <td>63</td>\n      <td>0.3</td>\n      <td>0.5</td>\n      <td>11/18/20</td>\n      <td>Nov</td>\n    </tr>\n    <tr>\n      <th>1758</th>\n      <td>Native Hawaiian and other Pacific Islander</td>\n      <td>4069</td>\n      <td>0.5</td>\n      <td>88</td>\n      <td>0.5</td>\n      <td>0.3</td>\n      <td>11/18/20</td>\n      <td>Nov</td>\n    </tr>\n    <tr>\n      <th>1759</th>\n      <td>Other</td>\n      <td>74457</td>\n      <td>9.8</td>\n      <td>88</td>\n      <td>0.5</td>\n      <td>0.0</td>\n      <td>11/18/20</td>\n      <td>Nov</td>\n    </tr>\n  </tbody>\n</table>\n<p>64 rows × 8 columns</p>\n</div>"
     },
     "metadata": {},
     "execution_count": 39
    }
   ],
   "source": [
    "# TKTKTKTKTKTK\n",
    "\n",
    "df_month_markers = df_ethnicity.loc[(df_ethnicity[\"date\"] == \"4/30/20\") | (df_ethnicity[\"date\"] == \"5/31/20\") | (df_ethnicity[\"date\"] == \"6/30/20\") | (df_ethnicity[\"date\"] == \"7/31/20\") | (df_ethnicity[\"date\"] == \"8/31/20\") | (df_ethnicity[\"date\"] == \"9/30/20\") | (df_ethnicity[\"date\"] == \"10/31/20\") | (df_ethnicity[\"date\"] == \"11/18/20\")]\n",
    "df_month_markers"
   ]
  },
  {
   "cell_type": "code",
   "execution_count": 41,
   "metadata": {},
   "outputs": [
    {
     "output_type": "execute_result",
     "data": {
      "text/plain": [
       "date                                        10/31/20  11/18/20  4/30/20  \\\n",
       "race_ethnicity                                                            \n",
       "American Indian or Alaska Native                 0.3       0.3      0.2   \n",
       "Asian                                            5.6       5.6     12.0   \n",
       "Black                                            4.2       4.2      6.4   \n",
       "Latino                                          61.0      59.9     46.0   \n",
       "Multi-Race                                       1.1       1.2      0.9   \n",
       "Native Hawaiian and other Pacific Islander       0.5       0.5      1.2   \n",
       "Other                                            9.6       9.8      6.3   \n",
       "White                                           17.7      18.5     27.0   \n",
       "\n",
       "date                                        5/31/20  6/30/20  7/31/20  \\\n",
       "race_ethnicity                                                          \n",
       "American Indian or Alaska Native                0.2      0.2      0.2   \n",
       "Asian                                           9.1      6.6      5.4   \n",
       "Black                                           5.2      4.4      4.3   \n",
       "Latino                                         54.3     55.5     57.4   \n",
       "Multi-Race                                      0.8      0.7      0.8   \n",
       "Native Hawaiian and other Pacific Islander      0.8      0.6      0.6   \n",
       "Other                                           9.6     15.2     14.0   \n",
       "White                                          20.0     16.9     17.3   \n",
       "\n",
       "date                                        8/31/20  9/30/20  \n",
       "race_ethnicity                                                \n",
       "American Indian or Alaska Native                0.2      0.3  \n",
       "Asian                                           5.4      5.5  \n",
       "Black                                           4.3      4.3  \n",
       "Latino                                         60.0     61.1  \n",
       "Multi-Race                                      0.9      1.1  \n",
       "Native Hawaiian and other Pacific Islander      0.6      0.5  \n",
       "Other                                          11.7     10.1  \n",
       "White                                          16.9     17.2  "
      ],
      "text/html": "<div>\n<style scoped>\n    .dataframe tbody tr th:only-of-type {\n        vertical-align: middle;\n    }\n\n    .dataframe tbody tr th {\n        vertical-align: top;\n    }\n\n    .dataframe thead th {\n        text-align: right;\n    }\n</style>\n<table border=\"1\" class=\"dataframe\">\n  <thead>\n    <tr style=\"text-align: right;\">\n      <th>date</th>\n      <th>10/31/20</th>\n      <th>11/18/20</th>\n      <th>4/30/20</th>\n      <th>5/31/20</th>\n      <th>6/30/20</th>\n      <th>7/31/20</th>\n      <th>8/31/20</th>\n      <th>9/30/20</th>\n    </tr>\n    <tr>\n      <th>race_ethnicity</th>\n      <th></th>\n      <th></th>\n      <th></th>\n      <th></th>\n      <th></th>\n      <th></th>\n      <th></th>\n      <th></th>\n    </tr>\n  </thead>\n  <tbody>\n    <tr>\n      <th>American Indian or Alaska Native</th>\n      <td>0.3</td>\n      <td>0.3</td>\n      <td>0.2</td>\n      <td>0.2</td>\n      <td>0.2</td>\n      <td>0.2</td>\n      <td>0.2</td>\n      <td>0.3</td>\n    </tr>\n    <tr>\n      <th>Asian</th>\n      <td>5.6</td>\n      <td>5.6</td>\n      <td>12.0</td>\n      <td>9.1</td>\n      <td>6.6</td>\n      <td>5.4</td>\n      <td>5.4</td>\n      <td>5.5</td>\n    </tr>\n    <tr>\n      <th>Black</th>\n      <td>4.2</td>\n      <td>4.2</td>\n      <td>6.4</td>\n      <td>5.2</td>\n      <td>4.4</td>\n      <td>4.3</td>\n      <td>4.3</td>\n      <td>4.3</td>\n    </tr>\n    <tr>\n      <th>Latino</th>\n      <td>61.0</td>\n      <td>59.9</td>\n      <td>46.0</td>\n      <td>54.3</td>\n      <td>55.5</td>\n      <td>57.4</td>\n      <td>60.0</td>\n      <td>61.1</td>\n    </tr>\n    <tr>\n      <th>Multi-Race</th>\n      <td>1.1</td>\n      <td>1.2</td>\n      <td>0.9</td>\n      <td>0.8</td>\n      <td>0.7</td>\n      <td>0.8</td>\n      <td>0.9</td>\n      <td>1.1</td>\n    </tr>\n    <tr>\n      <th>Native Hawaiian and other Pacific Islander</th>\n      <td>0.5</td>\n      <td>0.5</td>\n      <td>1.2</td>\n      <td>0.8</td>\n      <td>0.6</td>\n      <td>0.6</td>\n      <td>0.6</td>\n      <td>0.5</td>\n    </tr>\n    <tr>\n      <th>Other</th>\n      <td>9.6</td>\n      <td>9.8</td>\n      <td>6.3</td>\n      <td>9.6</td>\n      <td>15.2</td>\n      <td>14.0</td>\n      <td>11.7</td>\n      <td>10.1</td>\n    </tr>\n    <tr>\n      <th>White</th>\n      <td>17.7</td>\n      <td>18.5</td>\n      <td>27.0</td>\n      <td>20.0</td>\n      <td>16.9</td>\n      <td>17.3</td>\n      <td>16.9</td>\n      <td>17.2</td>\n    </tr>\n  </tbody>\n</table>\n</div>"
     },
     "metadata": {},
     "execution_count": 41
    }
   ],
   "source": [
    "df_month_markers.pivot(index='race_ethnicity', columns='date', values='case_percentage')"
   ]
  },
  {
   "cell_type": "code",
   "execution_count": null,
   "metadata": {},
   "outputs": [],
   "source": []
  }
 ]
}