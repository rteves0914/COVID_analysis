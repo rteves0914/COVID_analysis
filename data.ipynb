{
 "metadata": {
  "language_info": {
   "codemirror_mode": {
    "name": "ipython",
    "version": 3
   },
   "file_extension": ".py",
   "mimetype": "text/x-python",
   "name": "python",
   "nbconvert_exporter": "python",
   "pygments_lexer": "ipython3",
   "version": "3.8.3-final"
  },
  "orig_nbformat": 2,
  "kernelspec": {
   "name": "python3",
   "display_name": "Python 3.8.3 64-bit ('projects': conda)",
   "metadata": {
    "interpreter": {
     "hash": "698a8d06f30e5fee56fabea50cf955561fabfd8588e68451d313870b540a7e00"
    }
   }
  }
 },
 "nbformat": 4,
 "nbformat_minor": 2,
 "cells": [
  {
   "cell_type": "code",
   "execution_count": null,
   "metadata": {},
   "outputs": [],
   "source": [
    "# Import all the packages\n",
    "import pandas as pd\n",
    "import matplotlib as plt\n",
    "import scipy as sts\n",
    "import numpy as np\n",
    "import requests\n",
    "import json\n",
    "np.random.seed(0)"
   ]
  },
  {
   "cell_type": "code",
   "execution_count": null,
   "metadata": {},
   "outputs": [],
   "source": [
    "df_by_county = pd.read_csv(\"statewide_cases.csv\")\n",
    "df_by_county"
   ]
  },
  {
   "cell_type": "code",
   "execution_count": null,
   "metadata": {},
   "outputs": [],
   "source": [
    "df_by_county_unique=df_by_county[\"county\"].nunique()\n",
    "df_by_county_unique"
   ]
  },
  {
   "cell_type": "code",
   "execution_count": null,
   "metadata": {},
   "outputs": [],
   "source": [
    "df_by_county.sample(60)"
   ]
  },
  {
   "cell_type": "code",
   "execution_count": null,
   "metadata": {},
   "outputs": [],
   "source": [
    "df_county_clean = df_by_county.dropna()"
   ]
  },
  {
   "cell_type": "code",
   "execution_count": null,
   "metadata": {},
   "outputs": [],
   "source": [
    "df_county_clean\n"
   ]
  },
  {
   "cell_type": "code",
   "execution_count": null,
   "metadata": {},
   "outputs": [],
   "source": [
    "#GB=df_county_clean.groupby([(df_county_clean.index.date),(df_county_clean.index.month)]).sum()"
   ]
  },
  {
   "cell_type": "code",
   "execution_count": null,
   "metadata": {},
   "outputs": [],
   "source": [
    "new_cases_df = df_county_clean[\"newcountconfirmed\"].sum()\n",
    "new_cases_df"
   ]
  },
  {
   "cell_type": "code",
   "execution_count": null,
   "metadata": {},
   "outputs": [],
   "source": [
    "df_santa_clara = df_county_clean[df_county_clean[\"county\"] == \"Santa Clara\"]\n",
    "df_santa_clara.head(50)"
   ]
  },
  {
   "cell_type": "code",
   "execution_count": null,
   "metadata": {},
   "outputs": [],
   "source": [
    "df_by_age = pd.read_csv(\"case_demographics_age.csv\")\n",
    "df_by_age"
   ]
  },
  {
   "cell_type": "code",
   "execution_count": null,
   "metadata": {},
   "outputs": [],
   "source": [
    "df_by_age.sample(50)"
   ]
  },
  {
   "cell_type": "code",
   "execution_count": null,
   "metadata": {},
   "outputs": [],
   "source": [
    "df_age_clean=df_by_age.dropna()"
   ]
  },
  {
   "cell_type": "code",
   "execution_count": null,
   "metadata": {},
   "outputs": [],
   "source": [
    "df_age_clean.head(50)"
   ]
  },
  {
   "cell_type": "code",
   "execution_count": null,
   "metadata": {},
   "outputs": [],
   "source": [
    "df_age_group_index = df_age_clean.set_index([\"age_group\"])\n",
    "df_age_group_index.head()"
   ]
  },
  {
   "cell_type": "code",
   "execution_count": null,
   "metadata": {},
   "outputs": [],
   "source": [
    "df_age_clean2 = df_age_group_index.drop([\"Missing\", \"Unknown\"])\n",
    "df_age_clean2"
   ]
  },
  {
   "cell_type": "code",
   "execution_count": null,
   "metadata": {},
   "outputs": [],
   "source": [
    "df_age_total_positive=df_age_clean.groupby(\"age_group\")[\"totalpositive\"].sum()\n",
    "df_age_total_positive"
   ]
  },
  {
   "cell_type": "code",
   "execution_count": null,
   "metadata": {},
   "outputs": [],
   "source": [
    "df_age_death=df_age_clean.groupby(\"age_group\")[\"deaths\"].count()\n",
    "df_age_death"
   ]
  },
  {
   "cell_type": "code",
   "execution_count": null,
   "metadata": {},
   "outputs": [],
   "source": []
  },
  {
   "cell_type": "code",
   "execution_count": null,
   "metadata": {},
   "outputs": [],
   "source": [
    "df_by_sex = pd.read_csv(\"case_demographics_sex.csv\")\n",
    "df_by_sex"
   ]
  },
  {
   "cell_type": "code",
   "execution_count": null,
   "metadata": {},
   "outputs": [],
   "source": [
    "for "
   ]
  },
  {
   "cell_type": "code",
   "execution_count": null,
   "metadata": {},
   "outputs": [],
   "source": [
    "#df_by_sex(\"sex\")[\"Transgender\"].value_counts()"
   ]
  },
  {
   "cell_type": "code",
   "execution_count": null,
   "metadata": {},
   "outputs": [],
   "source": [
    "df_by_sex.sample(50)"
   ]
  },
  {
   "cell_type": "code",
   "execution_count": null,
   "metadata": {},
   "outputs": [],
   "source": [
    "#clean_sex_df = df_by_sex.dropna()\n",
    "#clean_sex_df"
   ]
  },
  {
   "cell_type": "code",
   "execution_count": null,
   "metadata": {},
   "outputs": [],
   "source": [
    "#clean_sex_df.head()"
   ]
  },
  {
   "cell_type": "code",
   "execution_count": null,
   "metadata": {},
   "outputs": [],
   "source": []
  },
  {
   "cell_type": "code",
   "execution_count": null,
   "metadata": {},
   "outputs": [],
   "source": [
    "Last_date_of_the_month=[\"4/30/2020\", \"5/31/2020\", \"6/30/2020\", \"7/31/2020\", \"8/31/2020\", \"9/30/2020\", \"10/31/2020\"]\n",
    "Gender_date_empty_df = pd.DataFrame(columns=['sex', 'totalpositive2', 'date','case_percent', 'deaths', 'deaths_percent', 'ca_percent'])\n",
    "for x in Last_date_of_the_month:\n",
    "  Date_gender_df=df_by_sex.loc[df_by_sex[\"date\"] == x]\n",
    "  Gender_date_empty_df=Gender_date_empty_df.append(Date_gender_df, ignore_index=True)\n",
    "  #print(Gender_date_empty_df)\n",
    "#Gender_date_empty_df\n",
    "Gender_date_empty_df.fillna(value = 0, inplace=True)\n",
    "Gender_date_empty_df"
   ]
  },
  {
   "cell_type": "code",
   "execution_count": null,
   "metadata": {},
   "outputs": [],
   "source": []
  },
  {
   "cell_type": "code",
   "execution_count": null,
   "metadata": {},
   "outputs": [],
   "source": [
    "#Last_date_of_the_month=[\"4/30/2020\", \"5/31/2020\", \"6/30/2020\", \"7/31/2020\", \"8/31/2020\", \"9/30/2020\", \"10/31/2020\"]\n",
    "#Gender_date_empty_df = pd.DataFrame(columns=['sex', 'totalpositive2', 'date','case_percent', 'deaths', 'deaths_percent', 'ca_percent'])\n",
    "#for x in Last_date_of_the_month:\n",
    "  #Date_gender_df=clean_sex_df.loc[clean_sex_df[\"date\"] == x]\n",
    "  #Gender_date_empty_df=Gender_date_empty_df.append(Date_gender_df, ignore_index=True)\n",
    "  #print(Gender_date_empty_df)\n",
    "#Gender_date_empty_df\n",
    "#Gender_date_empty_df"
   ]
  },
  {
   "cell_type": "code",
   "execution_count": null,
   "metadata": {},
   "outputs": [],
   "source": [
    "#Date_gender_may_df=Gender_date_empty_df.loc[Gender_date_empty_df[\"date\"] == \"5/31/2020\"]\n",
    "#Total_positive_female = Date_gender_may_df.loc[Date_gender_may_df[\"sex\"] == \"Female\"]\n",
    "#Positive_female_tests_may = Total_positive_female.groupby(\"sex\")['totalpositive2'].sum()\n",
    "#Positive_female_tests_may\n",
    "#May_gender_count = Date_gender_may_df.groupby('sex')['totalpositive2']\n",
    "#May_gender_count"
   ]
  },
  {
   "cell_type": "code",
   "execution_count": null,
   "metadata": {},
   "outputs": [],
   "source": [
    "#Date_gender_june_df=Gender_date_empty_df.loc[Gender_date_empty_df[\"date\"] == \"6/30/2020\"]\n",
    "#Total_positive_female_june = Date_gender_june_df.loc[Date_gender_june_df[\"sex\"] == \"Female\"]\n",
    "#Positive_female_tests_june = Total_positive_female_june.groupby(\"sex\")['totalpositive2'].sum()\n",
    "#Positive_female_tests_june"
   ]
  },
  {
   "cell_type": "code",
   "execution_count": null,
   "metadata": {},
   "outputs": [],
   "source": [
    "#May_June_percentage_increase = ((Positive_female_tests_june - Positive_female_tests_may) / Positive_female_tests_may) *100\n",
    "#May_June_percentage_increase"
   ]
  },
  {
   "cell_type": "code",
   "execution_count": null,
   "metadata": {},
   "outputs": [],
   "source": [
    "Date_gender_april_df=Gender_date_empty_df.loc[Gender_date_empty_df[\"date\"] == \"4/30/2020\"]\n",
    "April_gender_positive_count= Date_gender_april_df.groupby(\"sex\")[\"totalpositive2\"].sum()\n",
    "April_gender_positive_count"
   ]
  },
  {
   "cell_type": "code",
   "execution_count": null,
   "metadata": {},
   "outputs": [],
   "source": [
    "Date_gender_may_df=Gender_date_empty_df.loc[Gender_date_empty_df[\"date\"] == \"5/31/2020\"]\n",
    "May_gender_positive_count= Date_gender_may_df.groupby(\"sex\")[\"totalpositive2\"].sum()\n",
    "May_gender_positive_count"
   ]
  },
  {
   "cell_type": "code",
   "execution_count": null,
   "metadata": {},
   "outputs": [],
   "source": [
    "Date_gender_june_df=Gender_date_empty_df.loc[Gender_date_empty_df[\"date\"] == \"6/30/2020\"]\n",
    "June_gender_positive_count = Date_gender_june_df.groupby(\"sex\")[\"totalpositive2\"].sum()\n",
    "June_gender_positive_count"
   ]
  },
  {
   "cell_type": "code",
   "execution_count": null,
   "metadata": {},
   "outputs": [],
   "source": [
    "Date_gender_july_df=Gender_date_empty_df.loc[Gender_date_empty_df[\"date\"] == \"7/31/2020\"]\n",
    "July_gender_positive_count = Date_gender_july_df.groupby(\"sex\")[\"totalpositive2\"].sum()\n",
    "July_gender_positive_count"
   ]
  },
  {
   "cell_type": "code",
   "execution_count": null,
   "metadata": {},
   "outputs": [],
   "source": [
    "Date_gender_august_df=Gender_date_empty_df.loc[Gender_date_empty_df[\"date\"] == \"8/31/2020\"]\n",
    "August_gender_positive_count = Date_gender_august_df.groupby(\"sex\")[\"totalpositive2\"].sum()\n",
    "August_gender_positive_count"
   ]
  },
  {
   "cell_type": "code",
   "execution_count": null,
   "metadata": {},
   "outputs": [],
   "source": [
    "April_May_gender_positive_count = ((May_gender_positive_count - April_gender_positive_count) / April_gender_positive_count) *100\n",
    "Percentage_increase_april_may=pd.DataFrame({ \"Percentage Increase April/May\": April_May_gender_positive_count})\n",
    "Percentage_increase_april_may[\"Percentage Increase April/May\"] = Percentage_increase_april_may[\"Percentage Increase April/May\"].map(\"{:.2f}%\".format)\n",
    "Percentage_increase_april_may"
   ]
  },
  {
   "cell_type": "code",
   "execution_count": null,
   "metadata": {},
   "outputs": [],
   "source": [
    "May_June_gender_positive_count = ((June_gender_positive_count - May_gender_positive_count) / May_gender_positive_count) *100\n",
    "Percentage_increase_may_june=pd.DataFrame({ \"Percentage Increase May/June\": May_June_gender_positive_count})\n",
    "Percentage_increase_may_june[\"Percentage Increase May/June\"] = Percentage_increase_may_june[\"Percentage Increase May/June\"].map(\"{:.2f}%\".format)\n",
    "Percentage_increase_may_june"
   ]
  },
  {
   "cell_type": "code",
   "execution_count": null,
   "metadata": {},
   "outputs": [],
   "source": [
    "June_July_gender_positive_count = ((July_gender_positive_count - June_gender_positive_count) / June_gender_positive_count) *100\n",
    "Percentage_increase_june_july=pd.DataFrame({ \"Percentage Increase June/July\": June_July_gender_positive_count})\n",
    "Percentage_increase_june_july[\"Percentage Increase June/July\"] = Percentage_increase_june_july[\"Percentage Increase June/July\"].map(\"{:.2f}%\".format)\n",
    "Percentage_increase_june_july"
   ]
  },
  {
   "cell_type": "code",
   "execution_count": null,
   "metadata": {},
   "outputs": [],
   "source": [
    "July_August_gender_positive_count = ((August_gender_positive_count - July_gender_positive_count) / July_gender_positive_count) *100\n",
    "Percentage_increase_july_august=pd.DataFrame({ \"Percentage Increase July/August\": July_August_gender_positive_count})\n",
    "Percentage_increase_july_august[\"Percentage Increase July/August\"] = Percentage_increase_july_august[\"Percentage Increase July/August\"].map(\"{:.2f}%\".format)\n",
    "Percentage_increase_july_august"
   ]
  },
  {
   "cell_type": "code",
   "execution_count": null,
   "metadata": {},
   "outputs": [],
   "source": [
    "#Percentage_increase_april_may=pd.DataFrame({ \"Percentage Increase April/May\": April_May_gender_positive_count})\n",
    "#Percentage_increase_april_may[\"Percentage Increase April/May\"] = Percentage_increase_april_may[\"Percentage Increase April/May\"].map(\"{:.2f}%\".format)\n",
    "#Percentage_increase_april_may"
   ]
  },
  {
   "cell_type": "code",
   "execution_count": null,
   "metadata": {},
   "outputs": [],
   "source": [
    "Percentage_increase_may_june=pd.DataFrame({ \"Percentage Increase May/June\": May_June_gender_positive_count})\n",
    "Percentage_increase_may_june[\"Percentage Increase May/June\"] = Percentage_increase_may_june[\"Percentage Increase May/June\"].map(\"{:.2f}%\".format)\n",
    "Percentage_increase_may_june"
   ]
  },
  {
   "cell_type": "code",
   "execution_count": null,
   "metadata": {},
   "outputs": [],
   "source": [
    "Percentage_increase_june_july=pd.DataFrame({ \"Percentage Increase June/July\": June_July_gender_positive_count})\n",
    "Percentage_increase_june_july[\"Percentage Increase June/July\"] = Percentage_increase_june_july[\"Percentage Increase June/July\"].map(\"{:.2f}%\".format)\n",
    "Percentage_increase_june_july"
   ]
  },
  {
   "cell_type": "code",
   "execution_count": null,
   "metadata": {},
   "outputs": [],
   "source": []
  },
  {
   "cell_type": "code",
   "execution_count": null,
   "metadata": {},
   "outputs": [],
   "source": [
    "Date_gender_june_df=Gender_date_empty_df.loc[Gender_date_empty_df[\"date\"] == \"6/30/2020\"]\n",
    "\n",
    "#June_gender_count = Date_gender_june_df.groupby('sex')['totalpositive2']\n",
    "#June_gender_count"
   ]
  },
  {
   "cell_type": "code",
   "execution_count": null,
   "metadata": {},
   "outputs": [],
   "source": [
    "#May_June_change = June_gender_count / May_gender_count *100\n",
    "#May_June_change"
   ]
  },
  {
   "cell_type": "code",
   "execution_count": null,
   "metadata": {},
   "outputs": [],
   "source": [
    "(columns=['sex', 'totalpositive2', 'date','case_percent', 'deaths', 'deaths_percent', 'ca_percent'])"
   ]
  },
  {
   "cell_type": "code",
   "execution_count": null,
   "metadata": {},
   "outputs": [],
   "source": []
  },
  {
   "cell_type": "code",
   "execution_count": null,
   "metadata": {},
   "outputs": [],
   "source": [
    "value_counts_sex_df = clean_sex_df.groupby(\"sex\")[\"totalpositive2\"].max()\n",
    "value_counts_sex_df"
   ]
  },
  {
   "cell_type": "code",
   "execution_count": null,
   "metadata": {},
   "outputs": [],
   "source": [
    "Sex_values_df = pd.DataFrame({\"totalpositive2\": value_counts_sex_df})\n",
    "Sex_values_df"
   ]
  },
  {
   "cell_type": "code",
   "execution_count": null,
   "metadata": {},
   "outputs": [],
   "source": [
    "lastest_total_df= clean_sex_df.loc[(clean_sex_df['sex'] == Sex_values_df['totalpositive2'])]\n",
    "lastest_total_df"
   ]
  },
  {
   "cell_type": "code",
   "execution_count": null,
   "metadata": {},
   "outputs": [],
   "source": [
    "clean_sex_df[\"sex\"].value_counts()"
   ]
  },
  {
   "cell_type": "code",
   "execution_count": null,
   "metadata": {},
   "outputs": [],
   "source": [
    "df_by_ethnic = pd.read_csv(\"case_demographics_ethnicity.csv\")\n",
    "df_by_ethnic"
   ]
  },
  {
   "cell_type": "code",
   "execution_count": null,
   "metadata": {},
   "outputs": [],
   "source": [
    "df_by_ethnic.sample(50)"
   ]
  },
  {
   "cell_type": "code",
   "execution_count": null,
   "metadata": {},
   "outputs": [],
   "source": [
    "df_by_ethnic.dropna()"
   ]
  },
  {
   "cell_type": "code",
   "execution_count": null,
   "metadata": {},
   "outputs": [],
   "source": []
  },
  {
   "cell_type": "code",
   "execution_count": null,
   "metadata": {},
   "outputs": [],
   "source": [
    "df_unemployment = pd.read_csv(\"Unemployment_Rate_by_Age_Groups.csv\")\n",
    "df_unemployment"
   ]
  },
  {
   "cell_type": "code",
   "execution_count": null,
   "metadata": {},
   "outputs": [],
   "source": [
    "df_unemployment.sample(50)"
   ]
  },
  {
   "cell_type": "code",
   "execution_count": null,
   "metadata": {},
   "outputs": [],
   "source": [
    "df_unemployment.dropna()"
   ]
  },
  {
   "cell_type": "code",
   "execution_count": null,
   "metadata": {},
   "outputs": [],
   "source": [
    "df_homeless = pd.read_csv(\"homeless_impact.csv\")\n",
    "df_homeless"
   ]
  },
  {
   "cell_type": "code",
   "execution_count": null,
   "metadata": {},
   "outputs": [],
   "source": [
    "df_homeless.sample(50)"
   ]
  },
  {
   "cell_type": "code",
   "execution_count": null,
   "metadata": {},
   "outputs": [],
   "source": [
    "df_juvenile_facilities = pd.read_csv('juvenile_facilities_covid19.csv')\n",
    "df_juvenile_facilities"
   ]
  },
  {
   "cell_type": "code",
   "execution_count": null,
   "metadata": {},
   "outputs": [],
   "source": [
    "df_juvenile_facilities.sample(50)\n",
    "#elimanate optional column "
   ]
  },
  {
   "cell_type": "code",
   "execution_count": null,
   "metadata": {},
   "outputs": [],
   "source": [
    "df_adult_facilities = pd.read_csv('adult_facilities_covid19.csv')\n",
    "df_adult_facilities"
   ]
  },
  {
   "cell_type": "code",
   "execution_count": null,
   "metadata": {},
   "outputs": [],
   "source": [
    "df_adult_facilities.sample(50)"
   ]
  },
  {
   "cell_type": "code",
   "execution_count": null,
   "metadata": {},
   "outputs": [],
   "source": []
  }
 ]
}