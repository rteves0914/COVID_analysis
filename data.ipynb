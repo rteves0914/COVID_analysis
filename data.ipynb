{
 "metadata": {
  "language_info": {
   "codemirror_mode": {
    "name": "ipython",
    "version": 3
   },
   "file_extension": ".py",
   "mimetype": "text/x-python",
   "name": "python",
   "nbconvert_exporter": "python",
   "pygments_lexer": "ipython3",
   "version": "3.8.3-final"
  },
  "orig_nbformat": 2,
  "kernelspec": {
   "name": "python3",
   "display_name": "Python 3.8.3 64-bit ('projects': conda)",
   "metadata": {
    "interpreter": {
     "hash": "698a8d06f30e5fee56fabea50cf955561fabfd8588e68451d313870b540a7e00"
    }
   }
  }
 },
 "nbformat": 4,
 "nbformat_minor": 2,
 "cells": [
  {
   "cell_type": "code",
   "execution_count": 8,
   "metadata": {},
   "outputs": [],
   "source": [
    "# Import all the packages\n",
    "import pandas as pd\n",
    "import matplotlib as plt\n",
    "import scipy as sts\n",
    "import numpy as np\n",
    "import requests\n",
    "import json\n",
    "np.random.seed(0)"
   ]
  },
  {
   "cell_type": "code",
   "execution_count": 9,
   "metadata": {},
   "outputs": [
    {
     "output_type": "execute_result",
     "data": {
      "text/plain": [
       "            county  totalcountconfirmed  totalcountdeaths  newcountconfirmed  \\\n",
       "0      Santa Clara                151.0               6.0                151   \n",
       "1      Santa Clara                183.0               8.0                 32   \n",
       "2      Santa Clara                246.0               8.0                 63   \n",
       "3      Santa Clara                269.0              10.0                 23   \n",
       "4      Santa Clara                284.0              13.0                 15   \n",
       "...            ...                  ...               ...                ...   \n",
       "14460         Yolo               3573.0              64.0                 51   \n",
       "14461         Yolo               3606.0              64.0                 33   \n",
       "14462         Yolo               3646.0              64.0                 40   \n",
       "14463         Yolo               3716.0              66.0                 70   \n",
       "14464         Yolo               3765.0              66.0                 49   \n",
       "\n",
       "       newcountdeaths        date  \n",
       "0                   6   3/18/2020  \n",
       "1                   2   3/19/2020  \n",
       "2                   0   3/20/2020  \n",
       "3                   2   3/21/2020  \n",
       "4                   3   3/22/2020  \n",
       "...               ...         ...  \n",
       "14460               1  11/10/2020  \n",
       "14461               0  11/11/2020  \n",
       "14462               0  11/12/2020  \n",
       "14463               2  11/13/2020  \n",
       "14464               0  11/14/2020  \n",
       "\n",
       "[14465 rows x 6 columns]"
      ],
      "text/html": "<div>\n<style scoped>\n    .dataframe tbody tr th:only-of-type {\n        vertical-align: middle;\n    }\n\n    .dataframe tbody tr th {\n        vertical-align: top;\n    }\n\n    .dataframe thead th {\n        text-align: right;\n    }\n</style>\n<table border=\"1\" class=\"dataframe\">\n  <thead>\n    <tr style=\"text-align: right;\">\n      <th></th>\n      <th>county</th>\n      <th>totalcountconfirmed</th>\n      <th>totalcountdeaths</th>\n      <th>newcountconfirmed</th>\n      <th>newcountdeaths</th>\n      <th>date</th>\n    </tr>\n  </thead>\n  <tbody>\n    <tr>\n      <th>0</th>\n      <td>Santa Clara</td>\n      <td>151.0</td>\n      <td>6.0</td>\n      <td>151</td>\n      <td>6</td>\n      <td>3/18/2020</td>\n    </tr>\n    <tr>\n      <th>1</th>\n      <td>Santa Clara</td>\n      <td>183.0</td>\n      <td>8.0</td>\n      <td>32</td>\n      <td>2</td>\n      <td>3/19/2020</td>\n    </tr>\n    <tr>\n      <th>2</th>\n      <td>Santa Clara</td>\n      <td>246.0</td>\n      <td>8.0</td>\n      <td>63</td>\n      <td>0</td>\n      <td>3/20/2020</td>\n    </tr>\n    <tr>\n      <th>3</th>\n      <td>Santa Clara</td>\n      <td>269.0</td>\n      <td>10.0</td>\n      <td>23</td>\n      <td>2</td>\n      <td>3/21/2020</td>\n    </tr>\n    <tr>\n      <th>4</th>\n      <td>Santa Clara</td>\n      <td>284.0</td>\n      <td>13.0</td>\n      <td>15</td>\n      <td>3</td>\n      <td>3/22/2020</td>\n    </tr>\n    <tr>\n      <th>...</th>\n      <td>...</td>\n      <td>...</td>\n      <td>...</td>\n      <td>...</td>\n      <td>...</td>\n      <td>...</td>\n    </tr>\n    <tr>\n      <th>14460</th>\n      <td>Yolo</td>\n      <td>3573.0</td>\n      <td>64.0</td>\n      <td>51</td>\n      <td>1</td>\n      <td>11/10/2020</td>\n    </tr>\n    <tr>\n      <th>14461</th>\n      <td>Yolo</td>\n      <td>3606.0</td>\n      <td>64.0</td>\n      <td>33</td>\n      <td>0</td>\n      <td>11/11/2020</td>\n    </tr>\n    <tr>\n      <th>14462</th>\n      <td>Yolo</td>\n      <td>3646.0</td>\n      <td>64.0</td>\n      <td>40</td>\n      <td>0</td>\n      <td>11/12/2020</td>\n    </tr>\n    <tr>\n      <th>14463</th>\n      <td>Yolo</td>\n      <td>3716.0</td>\n      <td>66.0</td>\n      <td>70</td>\n      <td>2</td>\n      <td>11/13/2020</td>\n    </tr>\n    <tr>\n      <th>14464</th>\n      <td>Yolo</td>\n      <td>3765.0</td>\n      <td>66.0</td>\n      <td>49</td>\n      <td>0</td>\n      <td>11/14/2020</td>\n    </tr>\n  </tbody>\n</table>\n<p>14465 rows × 6 columns</p>\n</div>"
     },
     "metadata": {},
     "execution_count": 9
    }
   ],
   "source": [
    "df_by_county = pd.read_csv(\"statewide_cases.csv\")\n",
    "df_by_county"
   ]
  },
  {
   "cell_type": "code",
   "execution_count": 10,
   "metadata": {},
   "outputs": [
    {
     "output_type": "execute_result",
     "data": {
      "text/plain": [
       "60"
      ]
     },
     "metadata": {},
     "execution_count": 10
    }
   ],
   "source": [
    "df_by_county_unique=df_by_county[\"county\"].nunique()\n",
    "df_by_county_unique"
   ]
  },
  {
   "cell_type": "code",
   "execution_count": 11,
   "metadata": {},
   "outputs": [
    {
     "output_type": "execute_result",
     "data": {
      "text/plain": [
       "                county  totalcountconfirmed  totalcountdeaths  \\\n",
       "12991   San Bernardino              61351.0            1072.0   \n",
       "2873            Orange              56091.0            1401.0   \n",
       "13777           Amador                  8.0               0.0   \n",
       "4265        Santa Cruz               1746.0               7.0   \n",
       "12929   San Bernardino              45010.0             691.0   \n",
       "6973            Lassen                752.0               1.0   \n",
       "11892        Riverside              11376.0             384.0   \n",
       "6022          Mariposa                 79.0               2.0   \n",
       "488      Santa Barbara                 16.0               0.0   \n",
       "5976          Mariposa                 74.0               2.0   \n",
       "4480         Mendocino                247.0               9.0   \n",
       "10817      Los Angeles             300726.0            7040.0   \n",
       "1569   San Luis Obispo               1060.0               5.0   \n",
       "1256            Placer                162.0               8.0   \n",
       "8602             Marin               5929.0              94.0   \n",
       "643      Santa Barbara               7784.0              88.0   \n",
       "3601            Alpine                  4.0               0.0   \n",
       "11045       Sacramento              24013.0             462.0   \n",
       "8081        San Benito                444.0               2.0   \n",
       "7976        San Benito                 26.0               2.0   \n",
       "14228             Yolo                  8.0               0.0   \n",
       "6841            Lassen                  4.0               0.0   \n",
       "2091          Monterey               6974.0              51.0   \n",
       "6748            Shasta               2122.0              31.0   \n",
       "11539            Kings               8228.0              83.0   \n",
       "3932             Butte                 44.0               0.0   \n",
       "3460            Alpine                  1.0               0.0   \n",
       "5923          Mariposa                 41.0               1.0   \n",
       "13736           Plumas                121.0               0.0   \n",
       "8289           Alameda               4485.0             116.0   \n",
       "4284        Santa Cruz               2155.0               8.0   \n",
       "13883           Amador                153.0               2.0   \n",
       "272          San Mateo                768.0              28.0   \n",
       "1894            Solano               6475.0              72.0   \n",
       "10462             Napa                459.0               4.0   \n",
       "33         Santa Clara               1920.0              83.0   \n",
       "9136    Out Of Country                  0.0               0.0   \n",
       "10910       Sacramento               1415.0              58.0   \n",
       "12345     Contra Costa               1106.0              33.0   \n",
       "8834         San Diego              34962.0             626.0   \n",
       "5023              Inyo                189.0              15.0   \n",
       "3472            Alpine                  1.0               0.0   \n",
       "8014        San Benito                 57.0               2.0   \n",
       "12149       Unassigned                  5.0               0.0   \n",
       "9346             Glenn                617.0               3.0   \n",
       "12395     Contra Costa               3583.0              81.0   \n",
       "791           Tuolumne                  2.0               0.0   \n",
       "1136            Sierra                  6.0               0.0   \n",
       "8712         San Diego               2160.0              83.0   \n",
       "1462   San Luis Obispo                 55.0               0.0   \n",
       "278          San Mateo                970.0              39.0   \n",
       "3673            Nevada                 41.0               1.0   \n",
       "7860            Tulare              11392.0             198.0   \n",
       "10645      Los Angeles              31268.0            1512.0   \n",
       "8334           Alameda              11590.0             189.0   \n",
       "1172            Sierra                  6.0               0.0   \n",
       "8875         San Diego              46612.0             776.0   \n",
       "8905         San Diego              55226.0             877.0   \n",
       "11069       Sacramento              27773.0             508.0   \n",
       "9918            Tehama                  1.0               1.0   \n",
       "\n",
       "       newcountconfirmed  newcountdeaths        date  \n",
       "12991                497               2  10/24/2020  \n",
       "2873                 139              10  10/16/2020  \n",
       "13777                  0               0   4/25/2020  \n",
       "4265                  -1               0   8/29/2020  \n",
       "12929                207               0   8/23/2020  \n",
       "6973                   0               0  10/14/2020  \n",
       "11892                158               1   6/15/2020  \n",
       "6022                   1               0  10/31/2020  \n",
       "488                    8               0   3/22/2020  \n",
       "5976                   0               0   9/15/2020  \n",
       "4480                   4               0    8/2/2020  \n",
       "10817               1288              13  10/28/2020  \n",
       "1569                  71               0   7/14/2020  \n",
       "1256                   1               0    5/4/2020  \n",
       "8602                  42              -1   8/27/2020  \n",
       "643                   59               1   8/24/2020  \n",
       "3601                   0               0  10/30/2020  \n",
       "11045                 83               4  10/14/2020  \n",
       "8081                  11               0   7/21/2020  \n",
       "7976                   1               1    4/7/2020  \n",
       "14228                  2               0   3/23/2020  \n",
       "6841                   0               0    6/4/2020  \n",
       "2091                  82               2   8/21/2020  \n",
       "6748                  74               0  10/31/2020  \n",
       "11539                 10               0  10/24/2020  \n",
       "3932                   3               0   5/30/2020  \n",
       "3460                   0               0   6/11/2020  \n",
       "5923                   1               0   7/24/2020  \n",
       "13736                 10               0  11/12/2020  \n",
       "8289                  57               4   6/17/2020  \n",
       "4284                  66               0   9/17/2020  \n",
       "13883                 14               0    8/9/2020  \n",
       "272                   23               3   4/17/2020  \n",
       "1894                  30               1   10/5/2020  \n",
       "10462                  5               0    7/7/2020  \n",
       "33                    42               4   4/20/2020  \n",
       "9136                   0               0  11/10/2020  \n",
       "10910                 17               1    6/1/2020  \n",
       "12345                 16               0   5/15/2020  \n",
       "8834                 282               0   8/17/2020  \n",
       "5023                   1               0   9/30/2020  \n",
       "3472                   0               0   6/23/2020  \n",
       "8014                   1               0   5/15/2020  \n",
       "12149                  1               0   6/30/2020  \n",
       "9346                   1               0   10/9/2020  \n",
       "12395                136               2    7/4/2020  \n",
       "791                    0               0   5/22/2020  \n",
       "1136                   0               0    9/3/2020  \n",
       "8712                  71               6   4/17/2020  \n",
       "1462                   3               0   3/29/2020  \n",
       "278                   25               0   4/23/2020  \n",
       "3673                   0               0   5/13/2020  \n",
       "7860                 642               2   8/11/2020  \n",
       "10645                911              44    5/9/2020  \n",
       "8334                 149               7    8/1/2020  \n",
       "1172                   0               0   10/9/2020  \n",
       "8875                 279               1   9/27/2020  \n",
       "8905                 269               7  10/27/2020  \n",
       "11069                284               0   11/7/2020  \n",
       "9918                   0               0    5/8/2020  "
      ],
      "text/html": "<div>\n<style scoped>\n    .dataframe tbody tr th:only-of-type {\n        vertical-align: middle;\n    }\n\n    .dataframe tbody tr th {\n        vertical-align: top;\n    }\n\n    .dataframe thead th {\n        text-align: right;\n    }\n</style>\n<table border=\"1\" class=\"dataframe\">\n  <thead>\n    <tr style=\"text-align: right;\">\n      <th></th>\n      <th>county</th>\n      <th>totalcountconfirmed</th>\n      <th>totalcountdeaths</th>\n      <th>newcountconfirmed</th>\n      <th>newcountdeaths</th>\n      <th>date</th>\n    </tr>\n  </thead>\n  <tbody>\n    <tr>\n      <th>12991</th>\n      <td>San Bernardino</td>\n      <td>61351.0</td>\n      <td>1072.0</td>\n      <td>497</td>\n      <td>2</td>\n      <td>10/24/2020</td>\n    </tr>\n    <tr>\n      <th>2873</th>\n      <td>Orange</td>\n      <td>56091.0</td>\n      <td>1401.0</td>\n      <td>139</td>\n      <td>10</td>\n      <td>10/16/2020</td>\n    </tr>\n    <tr>\n      <th>13777</th>\n      <td>Amador</td>\n      <td>8.0</td>\n      <td>0.0</td>\n      <td>0</td>\n      <td>0</td>\n      <td>4/25/2020</td>\n    </tr>\n    <tr>\n      <th>4265</th>\n      <td>Santa Cruz</td>\n      <td>1746.0</td>\n      <td>7.0</td>\n      <td>-1</td>\n      <td>0</td>\n      <td>8/29/2020</td>\n    </tr>\n    <tr>\n      <th>12929</th>\n      <td>San Bernardino</td>\n      <td>45010.0</td>\n      <td>691.0</td>\n      <td>207</td>\n      <td>0</td>\n      <td>8/23/2020</td>\n    </tr>\n    <tr>\n      <th>6973</th>\n      <td>Lassen</td>\n      <td>752.0</td>\n      <td>1.0</td>\n      <td>0</td>\n      <td>0</td>\n      <td>10/14/2020</td>\n    </tr>\n    <tr>\n      <th>11892</th>\n      <td>Riverside</td>\n      <td>11376.0</td>\n      <td>384.0</td>\n      <td>158</td>\n      <td>1</td>\n      <td>6/15/2020</td>\n    </tr>\n    <tr>\n      <th>6022</th>\n      <td>Mariposa</td>\n      <td>79.0</td>\n      <td>2.0</td>\n      <td>1</td>\n      <td>0</td>\n      <td>10/31/2020</td>\n    </tr>\n    <tr>\n      <th>488</th>\n      <td>Santa Barbara</td>\n      <td>16.0</td>\n      <td>0.0</td>\n      <td>8</td>\n      <td>0</td>\n      <td>3/22/2020</td>\n    </tr>\n    <tr>\n      <th>5976</th>\n      <td>Mariposa</td>\n      <td>74.0</td>\n      <td>2.0</td>\n      <td>0</td>\n      <td>0</td>\n      <td>9/15/2020</td>\n    </tr>\n    <tr>\n      <th>4480</th>\n      <td>Mendocino</td>\n      <td>247.0</td>\n      <td>9.0</td>\n      <td>4</td>\n      <td>0</td>\n      <td>8/2/2020</td>\n    </tr>\n    <tr>\n      <th>10817</th>\n      <td>Los Angeles</td>\n      <td>300726.0</td>\n      <td>7040.0</td>\n      <td>1288</td>\n      <td>13</td>\n      <td>10/28/2020</td>\n    </tr>\n    <tr>\n      <th>1569</th>\n      <td>San Luis Obispo</td>\n      <td>1060.0</td>\n      <td>5.0</td>\n      <td>71</td>\n      <td>0</td>\n      <td>7/14/2020</td>\n    </tr>\n    <tr>\n      <th>1256</th>\n      <td>Placer</td>\n      <td>162.0</td>\n      <td>8.0</td>\n      <td>1</td>\n      <td>0</td>\n      <td>5/4/2020</td>\n    </tr>\n    <tr>\n      <th>8602</th>\n      <td>Marin</td>\n      <td>5929.0</td>\n      <td>94.0</td>\n      <td>42</td>\n      <td>-1</td>\n      <td>8/27/2020</td>\n    </tr>\n    <tr>\n      <th>643</th>\n      <td>Santa Barbara</td>\n      <td>7784.0</td>\n      <td>88.0</td>\n      <td>59</td>\n      <td>1</td>\n      <td>8/24/2020</td>\n    </tr>\n    <tr>\n      <th>3601</th>\n      <td>Alpine</td>\n      <td>4.0</td>\n      <td>0.0</td>\n      <td>0</td>\n      <td>0</td>\n      <td>10/30/2020</td>\n    </tr>\n    <tr>\n      <th>11045</th>\n      <td>Sacramento</td>\n      <td>24013.0</td>\n      <td>462.0</td>\n      <td>83</td>\n      <td>4</td>\n      <td>10/14/2020</td>\n    </tr>\n    <tr>\n      <th>8081</th>\n      <td>San Benito</td>\n      <td>444.0</td>\n      <td>2.0</td>\n      <td>11</td>\n      <td>0</td>\n      <td>7/21/2020</td>\n    </tr>\n    <tr>\n      <th>7976</th>\n      <td>San Benito</td>\n      <td>26.0</td>\n      <td>2.0</td>\n      <td>1</td>\n      <td>1</td>\n      <td>4/7/2020</td>\n    </tr>\n    <tr>\n      <th>14228</th>\n      <td>Yolo</td>\n      <td>8.0</td>\n      <td>0.0</td>\n      <td>2</td>\n      <td>0</td>\n      <td>3/23/2020</td>\n    </tr>\n    <tr>\n      <th>6841</th>\n      <td>Lassen</td>\n      <td>4.0</td>\n      <td>0.0</td>\n      <td>0</td>\n      <td>0</td>\n      <td>6/4/2020</td>\n    </tr>\n    <tr>\n      <th>2091</th>\n      <td>Monterey</td>\n      <td>6974.0</td>\n      <td>51.0</td>\n      <td>82</td>\n      <td>2</td>\n      <td>8/21/2020</td>\n    </tr>\n    <tr>\n      <th>6748</th>\n      <td>Shasta</td>\n      <td>2122.0</td>\n      <td>31.0</td>\n      <td>74</td>\n      <td>0</td>\n      <td>10/31/2020</td>\n    </tr>\n    <tr>\n      <th>11539</th>\n      <td>Kings</td>\n      <td>8228.0</td>\n      <td>83.0</td>\n      <td>10</td>\n      <td>0</td>\n      <td>10/24/2020</td>\n    </tr>\n    <tr>\n      <th>3932</th>\n      <td>Butte</td>\n      <td>44.0</td>\n      <td>0.0</td>\n      <td>3</td>\n      <td>0</td>\n      <td>5/30/2020</td>\n    </tr>\n    <tr>\n      <th>3460</th>\n      <td>Alpine</td>\n      <td>1.0</td>\n      <td>0.0</td>\n      <td>0</td>\n      <td>0</td>\n      <td>6/11/2020</td>\n    </tr>\n    <tr>\n      <th>5923</th>\n      <td>Mariposa</td>\n      <td>41.0</td>\n      <td>1.0</td>\n      <td>1</td>\n      <td>0</td>\n      <td>7/24/2020</td>\n    </tr>\n    <tr>\n      <th>13736</th>\n      <td>Plumas</td>\n      <td>121.0</td>\n      <td>0.0</td>\n      <td>10</td>\n      <td>0</td>\n      <td>11/12/2020</td>\n    </tr>\n    <tr>\n      <th>8289</th>\n      <td>Alameda</td>\n      <td>4485.0</td>\n      <td>116.0</td>\n      <td>57</td>\n      <td>4</td>\n      <td>6/17/2020</td>\n    </tr>\n    <tr>\n      <th>4284</th>\n      <td>Santa Cruz</td>\n      <td>2155.0</td>\n      <td>8.0</td>\n      <td>66</td>\n      <td>0</td>\n      <td>9/17/2020</td>\n    </tr>\n    <tr>\n      <th>13883</th>\n      <td>Amador</td>\n      <td>153.0</td>\n      <td>2.0</td>\n      <td>14</td>\n      <td>0</td>\n      <td>8/9/2020</td>\n    </tr>\n    <tr>\n      <th>272</th>\n      <td>San Mateo</td>\n      <td>768.0</td>\n      <td>28.0</td>\n      <td>23</td>\n      <td>3</td>\n      <td>4/17/2020</td>\n    </tr>\n    <tr>\n      <th>1894</th>\n      <td>Solano</td>\n      <td>6475.0</td>\n      <td>72.0</td>\n      <td>30</td>\n      <td>1</td>\n      <td>10/5/2020</td>\n    </tr>\n    <tr>\n      <th>10462</th>\n      <td>Napa</td>\n      <td>459.0</td>\n      <td>4.0</td>\n      <td>5</td>\n      <td>0</td>\n      <td>7/7/2020</td>\n    </tr>\n    <tr>\n      <th>33</th>\n      <td>Santa Clara</td>\n      <td>1920.0</td>\n      <td>83.0</td>\n      <td>42</td>\n      <td>4</td>\n      <td>4/20/2020</td>\n    </tr>\n    <tr>\n      <th>9136</th>\n      <td>Out Of Country</td>\n      <td>0.0</td>\n      <td>0.0</td>\n      <td>0</td>\n      <td>0</td>\n      <td>11/10/2020</td>\n    </tr>\n    <tr>\n      <th>10910</th>\n      <td>Sacramento</td>\n      <td>1415.0</td>\n      <td>58.0</td>\n      <td>17</td>\n      <td>1</td>\n      <td>6/1/2020</td>\n    </tr>\n    <tr>\n      <th>12345</th>\n      <td>Contra Costa</td>\n      <td>1106.0</td>\n      <td>33.0</td>\n      <td>16</td>\n      <td>0</td>\n      <td>5/15/2020</td>\n    </tr>\n    <tr>\n      <th>8834</th>\n      <td>San Diego</td>\n      <td>34962.0</td>\n      <td>626.0</td>\n      <td>282</td>\n      <td>0</td>\n      <td>8/17/2020</td>\n    </tr>\n    <tr>\n      <th>5023</th>\n      <td>Inyo</td>\n      <td>189.0</td>\n      <td>15.0</td>\n      <td>1</td>\n      <td>0</td>\n      <td>9/30/2020</td>\n    </tr>\n    <tr>\n      <th>3472</th>\n      <td>Alpine</td>\n      <td>1.0</td>\n      <td>0.0</td>\n      <td>0</td>\n      <td>0</td>\n      <td>6/23/2020</td>\n    </tr>\n    <tr>\n      <th>8014</th>\n      <td>San Benito</td>\n      <td>57.0</td>\n      <td>2.0</td>\n      <td>1</td>\n      <td>0</td>\n      <td>5/15/2020</td>\n    </tr>\n    <tr>\n      <th>12149</th>\n      <td>Unassigned</td>\n      <td>5.0</td>\n      <td>0.0</td>\n      <td>1</td>\n      <td>0</td>\n      <td>6/30/2020</td>\n    </tr>\n    <tr>\n      <th>9346</th>\n      <td>Glenn</td>\n      <td>617.0</td>\n      <td>3.0</td>\n      <td>1</td>\n      <td>0</td>\n      <td>10/9/2020</td>\n    </tr>\n    <tr>\n      <th>12395</th>\n      <td>Contra Costa</td>\n      <td>3583.0</td>\n      <td>81.0</td>\n      <td>136</td>\n      <td>2</td>\n      <td>7/4/2020</td>\n    </tr>\n    <tr>\n      <th>791</th>\n      <td>Tuolumne</td>\n      <td>2.0</td>\n      <td>0.0</td>\n      <td>0</td>\n      <td>0</td>\n      <td>5/22/2020</td>\n    </tr>\n    <tr>\n      <th>1136</th>\n      <td>Sierra</td>\n      <td>6.0</td>\n      <td>0.0</td>\n      <td>0</td>\n      <td>0</td>\n      <td>9/3/2020</td>\n    </tr>\n    <tr>\n      <th>8712</th>\n      <td>San Diego</td>\n      <td>2160.0</td>\n      <td>83.0</td>\n      <td>71</td>\n      <td>6</td>\n      <td>4/17/2020</td>\n    </tr>\n    <tr>\n      <th>1462</th>\n      <td>San Luis Obispo</td>\n      <td>55.0</td>\n      <td>0.0</td>\n      <td>3</td>\n      <td>0</td>\n      <td>3/29/2020</td>\n    </tr>\n    <tr>\n      <th>278</th>\n      <td>San Mateo</td>\n      <td>970.0</td>\n      <td>39.0</td>\n      <td>25</td>\n      <td>0</td>\n      <td>4/23/2020</td>\n    </tr>\n    <tr>\n      <th>3673</th>\n      <td>Nevada</td>\n      <td>41.0</td>\n      <td>1.0</td>\n      <td>0</td>\n      <td>0</td>\n      <td>5/13/2020</td>\n    </tr>\n    <tr>\n      <th>7860</th>\n      <td>Tulare</td>\n      <td>11392.0</td>\n      <td>198.0</td>\n      <td>642</td>\n      <td>2</td>\n      <td>8/11/2020</td>\n    </tr>\n    <tr>\n      <th>10645</th>\n      <td>Los Angeles</td>\n      <td>31268.0</td>\n      <td>1512.0</td>\n      <td>911</td>\n      <td>44</td>\n      <td>5/9/2020</td>\n    </tr>\n    <tr>\n      <th>8334</th>\n      <td>Alameda</td>\n      <td>11590.0</td>\n      <td>189.0</td>\n      <td>149</td>\n      <td>7</td>\n      <td>8/1/2020</td>\n    </tr>\n    <tr>\n      <th>1172</th>\n      <td>Sierra</td>\n      <td>6.0</td>\n      <td>0.0</td>\n      <td>0</td>\n      <td>0</td>\n      <td>10/9/2020</td>\n    </tr>\n    <tr>\n      <th>8875</th>\n      <td>San Diego</td>\n      <td>46612.0</td>\n      <td>776.0</td>\n      <td>279</td>\n      <td>1</td>\n      <td>9/27/2020</td>\n    </tr>\n    <tr>\n      <th>8905</th>\n      <td>San Diego</td>\n      <td>55226.0</td>\n      <td>877.0</td>\n      <td>269</td>\n      <td>7</td>\n      <td>10/27/2020</td>\n    </tr>\n    <tr>\n      <th>11069</th>\n      <td>Sacramento</td>\n      <td>27773.0</td>\n      <td>508.0</td>\n      <td>284</td>\n      <td>0</td>\n      <td>11/7/2020</td>\n    </tr>\n    <tr>\n      <th>9918</th>\n      <td>Tehama</td>\n      <td>1.0</td>\n      <td>1.0</td>\n      <td>0</td>\n      <td>0</td>\n      <td>5/8/2020</td>\n    </tr>\n  </tbody>\n</table>\n</div>"
     },
     "metadata": {},
     "execution_count": 11
    }
   ],
   "source": [
    "df_by_county.sample(60)"
   ]
  },
  {
   "cell_type": "code",
   "execution_count": 12,
   "metadata": {},
   "outputs": [],
   "source": [
    "df_county_clean = df_by_county.dropna()"
   ]
  },
  {
   "cell_type": "code",
   "execution_count": 13,
   "metadata": {},
   "outputs": [
    {
     "output_type": "execute_result",
     "data": {
      "text/plain": [
       "            county  totalcountconfirmed  totalcountdeaths  newcountconfirmed  \\\n",
       "0      Santa Clara                151.0               6.0                151   \n",
       "1      Santa Clara                183.0               8.0                 32   \n",
       "2      Santa Clara                246.0               8.0                 63   \n",
       "3      Santa Clara                269.0              10.0                 23   \n",
       "4      Santa Clara                284.0              13.0                 15   \n",
       "...            ...                  ...               ...                ...   \n",
       "14460         Yolo               3573.0              64.0                 51   \n",
       "14461         Yolo               3606.0              64.0                 33   \n",
       "14462         Yolo               3646.0              64.0                 40   \n",
       "14463         Yolo               3716.0              66.0                 70   \n",
       "14464         Yolo               3765.0              66.0                 49   \n",
       "\n",
       "       newcountdeaths        date  \n",
       "0                   6   3/18/2020  \n",
       "1                   2   3/19/2020  \n",
       "2                   0   3/20/2020  \n",
       "3                   2   3/21/2020  \n",
       "4                   3   3/22/2020  \n",
       "...               ...         ...  \n",
       "14460               1  11/10/2020  \n",
       "14461               0  11/11/2020  \n",
       "14462               0  11/12/2020  \n",
       "14463               2  11/13/2020  \n",
       "14464               0  11/14/2020  \n",
       "\n",
       "[14462 rows x 6 columns]"
      ],
      "text/html": "<div>\n<style scoped>\n    .dataframe tbody tr th:only-of-type {\n        vertical-align: middle;\n    }\n\n    .dataframe tbody tr th {\n        vertical-align: top;\n    }\n\n    .dataframe thead th {\n        text-align: right;\n    }\n</style>\n<table border=\"1\" class=\"dataframe\">\n  <thead>\n    <tr style=\"text-align: right;\">\n      <th></th>\n      <th>county</th>\n      <th>totalcountconfirmed</th>\n      <th>totalcountdeaths</th>\n      <th>newcountconfirmed</th>\n      <th>newcountdeaths</th>\n      <th>date</th>\n    </tr>\n  </thead>\n  <tbody>\n    <tr>\n      <th>0</th>\n      <td>Santa Clara</td>\n      <td>151.0</td>\n      <td>6.0</td>\n      <td>151</td>\n      <td>6</td>\n      <td>3/18/2020</td>\n    </tr>\n    <tr>\n      <th>1</th>\n      <td>Santa Clara</td>\n      <td>183.0</td>\n      <td>8.0</td>\n      <td>32</td>\n      <td>2</td>\n      <td>3/19/2020</td>\n    </tr>\n    <tr>\n      <th>2</th>\n      <td>Santa Clara</td>\n      <td>246.0</td>\n      <td>8.0</td>\n      <td>63</td>\n      <td>0</td>\n      <td>3/20/2020</td>\n    </tr>\n    <tr>\n      <th>3</th>\n      <td>Santa Clara</td>\n      <td>269.0</td>\n      <td>10.0</td>\n      <td>23</td>\n      <td>2</td>\n      <td>3/21/2020</td>\n    </tr>\n    <tr>\n      <th>4</th>\n      <td>Santa Clara</td>\n      <td>284.0</td>\n      <td>13.0</td>\n      <td>15</td>\n      <td>3</td>\n      <td>3/22/2020</td>\n    </tr>\n    <tr>\n      <th>...</th>\n      <td>...</td>\n      <td>...</td>\n      <td>...</td>\n      <td>...</td>\n      <td>...</td>\n      <td>...</td>\n    </tr>\n    <tr>\n      <th>14460</th>\n      <td>Yolo</td>\n      <td>3573.0</td>\n      <td>64.0</td>\n      <td>51</td>\n      <td>1</td>\n      <td>11/10/2020</td>\n    </tr>\n    <tr>\n      <th>14461</th>\n      <td>Yolo</td>\n      <td>3606.0</td>\n      <td>64.0</td>\n      <td>33</td>\n      <td>0</td>\n      <td>11/11/2020</td>\n    </tr>\n    <tr>\n      <th>14462</th>\n      <td>Yolo</td>\n      <td>3646.0</td>\n      <td>64.0</td>\n      <td>40</td>\n      <td>0</td>\n      <td>11/12/2020</td>\n    </tr>\n    <tr>\n      <th>14463</th>\n      <td>Yolo</td>\n      <td>3716.0</td>\n      <td>66.0</td>\n      <td>70</td>\n      <td>2</td>\n      <td>11/13/2020</td>\n    </tr>\n    <tr>\n      <th>14464</th>\n      <td>Yolo</td>\n      <td>3765.0</td>\n      <td>66.0</td>\n      <td>49</td>\n      <td>0</td>\n      <td>11/14/2020</td>\n    </tr>\n  </tbody>\n</table>\n<p>14462 rows × 6 columns</p>\n</div>"
     },
     "metadata": {},
     "execution_count": 13
    }
   ],
   "source": [
    "df_county_clean\n"
   ]
  },
  {
   "cell_type": "code",
   "execution_count": 14,
   "metadata": {},
   "outputs": [],
   "source": [
    "#GB=df_county_clean.groupby([(df_county_clean.index.date),(df_county_clean.index.month)]).sum()"
   ]
  },
  {
   "cell_type": "code",
   "execution_count": 15,
   "metadata": {},
   "outputs": [
    {
     "output_type": "execute_result",
     "data": {
      "text/plain": [
       "1019345"
      ]
     },
     "metadata": {},
     "execution_count": 15
    }
   ],
   "source": [
    "new_cases_df = df_county_clean[\"newcountconfirmed\"].sum()\n",
    "new_cases_df"
   ]
  },
  {
   "cell_type": "code",
   "execution_count": 16,
   "metadata": {},
   "outputs": [
    {
     "output_type": "execute_result",
     "data": {
      "text/plain": [
       "         county  totalcountconfirmed  totalcountdeaths  newcountconfirmed  \\\n",
       "0   Santa Clara                151.0               6.0                151   \n",
       "1   Santa Clara                183.0               8.0                 32   \n",
       "2   Santa Clara                246.0               8.0                 63   \n",
       "3   Santa Clara                269.0              10.0                 23   \n",
       "4   Santa Clara                284.0              13.0                 15   \n",
       "5   Santa Clara                336.0              13.0                 52   \n",
       "6   Santa Clara                389.0              17.0                 53   \n",
       "7   Santa Clara                452.0              20.0                 63   \n",
       "8   Santa Clara                487.0              20.0                 35   \n",
       "9   Santa Clara                557.0              25.0                 70   \n",
       "10  Santa Clara                587.0              27.0                 30   \n",
       "11  Santa Clara                591.0              30.0                  4   \n",
       "12  Santa Clara                745.0              31.0                154   \n",
       "13  Santa Clara                777.0              30.0                 32   \n",
       "14  Santa Clara                805.0              33.0                 28   \n",
       "15  Santa Clara                908.0              38.0                103   \n",
       "16  Santa Clara                983.0              39.0                 75   \n",
       "17  Santa Clara               1045.0              39.0                 62   \n",
       "18  Santa Clara               1052.0              42.0                  7   \n",
       "19  Santa Clara               1128.0              43.0                 76   \n",
       "20  Santa Clara               1193.0              46.0                 65   \n",
       "21  Santa Clara               1257.0              47.0                 64   \n",
       "22  Santa Clara               1301.0              49.0                 44   \n",
       "23  Santa Clara               1351.0              52.0                 50   \n",
       "24  Santa Clara               1441.0              52.0                 90   \n",
       "25  Santa Clara               1461.0              53.0                 20   \n",
       "26  Santa Clara               1542.0              60.0                 81   \n",
       "27  Santa Clara               1561.0              66.0                 19   \n",
       "28  Santa Clara               1692.0              66.0                131   \n",
       "29  Santa Clara               1789.0              69.0                 97   \n",
       "30  Santa Clara               1834.0              73.0                 45   \n",
       "31  Santa Clara               1862.0              73.0                 28   \n",
       "32  Santa Clara               1878.0              79.0                 16   \n",
       "33  Santa Clara               1920.0              83.0                 42   \n",
       "34  Santa Clara               1943.0              88.0                 23   \n",
       "35  Santa Clara               1969.0              94.0                 26   \n",
       "36  Santa Clara               1996.0              95.0                 27   \n",
       "37  Santa Clara               2026.0              98.0                 30   \n",
       "38  Santa Clara               2045.0              99.0                 19   \n",
       "39  Santa Clara               2097.0             102.0                 52   \n",
       "40  Santa Clara               2104.0             105.0                  7   \n",
       "41  Santa Clara               2130.0             106.0                 26   \n",
       "42  Santa Clara               2147.0             108.0                 17   \n",
       "43  Santa Clara               2172.0             111.0                 25   \n",
       "44  Santa Clara               2176.0             113.0                  4   \n",
       "45  Santa Clara               2203.0             115.0                 27   \n",
       "46  Santa Clara               2235.0             116.0                 32   \n",
       "47  Santa Clara               2238.0             119.0                  3   \n",
       "48  Santa Clara               2249.0             123.0                 11   \n",
       "49  Santa Clara               2270.0             126.0                 21   \n",
       "\n",
       "    newcountdeaths       date  \n",
       "0                6  3/18/2020  \n",
       "1                2  3/19/2020  \n",
       "2                0  3/20/2020  \n",
       "3                2  3/21/2020  \n",
       "4                3  3/22/2020  \n",
       "5                0  3/23/2020  \n",
       "6                4  3/24/2020  \n",
       "7                3  3/25/2020  \n",
       "8                0  3/26/2020  \n",
       "9                5  3/27/2020  \n",
       "10               2  3/28/2020  \n",
       "11               3  3/29/2020  \n",
       "12               1  3/30/2020  \n",
       "13              -1  3/31/2020  \n",
       "14               3   4/1/2020  \n",
       "15               5   4/2/2020  \n",
       "16               1   4/3/2020  \n",
       "17               0   4/4/2020  \n",
       "18               3   4/5/2020  \n",
       "19               1   4/6/2020  \n",
       "20               3   4/7/2020  \n",
       "21               1   4/8/2020  \n",
       "22               2   4/9/2020  \n",
       "23               3  4/10/2020  \n",
       "24               0  4/11/2020  \n",
       "25               1  4/12/2020  \n",
       "26               7  4/13/2020  \n",
       "27               6  4/14/2020  \n",
       "28               0  4/15/2020  \n",
       "29               3  4/16/2020  \n",
       "30               4  4/17/2020  \n",
       "31               0  4/18/2020  \n",
       "32               6  4/19/2020  \n",
       "33               4  4/20/2020  \n",
       "34               5  4/21/2020  \n",
       "35               6  4/22/2020  \n",
       "36               1  4/23/2020  \n",
       "37               3  4/24/2020  \n",
       "38               1  4/25/2020  \n",
       "39               3  4/26/2020  \n",
       "40               3  4/27/2020  \n",
       "41               1  4/28/2020  \n",
       "42               2  4/29/2020  \n",
       "43               3  4/30/2020  \n",
       "44               2   5/1/2020  \n",
       "45               2   5/2/2020  \n",
       "46               1   5/3/2020  \n",
       "47               3   5/4/2020  \n",
       "48               4   5/5/2020  \n",
       "49               3   5/6/2020  "
      ],
      "text/html": "<div>\n<style scoped>\n    .dataframe tbody tr th:only-of-type {\n        vertical-align: middle;\n    }\n\n    .dataframe tbody tr th {\n        vertical-align: top;\n    }\n\n    .dataframe thead th {\n        text-align: right;\n    }\n</style>\n<table border=\"1\" class=\"dataframe\">\n  <thead>\n    <tr style=\"text-align: right;\">\n      <th></th>\n      <th>county</th>\n      <th>totalcountconfirmed</th>\n      <th>totalcountdeaths</th>\n      <th>newcountconfirmed</th>\n      <th>newcountdeaths</th>\n      <th>date</th>\n    </tr>\n  </thead>\n  <tbody>\n    <tr>\n      <th>0</th>\n      <td>Santa Clara</td>\n      <td>151.0</td>\n      <td>6.0</td>\n      <td>151</td>\n      <td>6</td>\n      <td>3/18/2020</td>\n    </tr>\n    <tr>\n      <th>1</th>\n      <td>Santa Clara</td>\n      <td>183.0</td>\n      <td>8.0</td>\n      <td>32</td>\n      <td>2</td>\n      <td>3/19/2020</td>\n    </tr>\n    <tr>\n      <th>2</th>\n      <td>Santa Clara</td>\n      <td>246.0</td>\n      <td>8.0</td>\n      <td>63</td>\n      <td>0</td>\n      <td>3/20/2020</td>\n    </tr>\n    <tr>\n      <th>3</th>\n      <td>Santa Clara</td>\n      <td>269.0</td>\n      <td>10.0</td>\n      <td>23</td>\n      <td>2</td>\n      <td>3/21/2020</td>\n    </tr>\n    <tr>\n      <th>4</th>\n      <td>Santa Clara</td>\n      <td>284.0</td>\n      <td>13.0</td>\n      <td>15</td>\n      <td>3</td>\n      <td>3/22/2020</td>\n    </tr>\n    <tr>\n      <th>5</th>\n      <td>Santa Clara</td>\n      <td>336.0</td>\n      <td>13.0</td>\n      <td>52</td>\n      <td>0</td>\n      <td>3/23/2020</td>\n    </tr>\n    <tr>\n      <th>6</th>\n      <td>Santa Clara</td>\n      <td>389.0</td>\n      <td>17.0</td>\n      <td>53</td>\n      <td>4</td>\n      <td>3/24/2020</td>\n    </tr>\n    <tr>\n      <th>7</th>\n      <td>Santa Clara</td>\n      <td>452.0</td>\n      <td>20.0</td>\n      <td>63</td>\n      <td>3</td>\n      <td>3/25/2020</td>\n    </tr>\n    <tr>\n      <th>8</th>\n      <td>Santa Clara</td>\n      <td>487.0</td>\n      <td>20.0</td>\n      <td>35</td>\n      <td>0</td>\n      <td>3/26/2020</td>\n    </tr>\n    <tr>\n      <th>9</th>\n      <td>Santa Clara</td>\n      <td>557.0</td>\n      <td>25.0</td>\n      <td>70</td>\n      <td>5</td>\n      <td>3/27/2020</td>\n    </tr>\n    <tr>\n      <th>10</th>\n      <td>Santa Clara</td>\n      <td>587.0</td>\n      <td>27.0</td>\n      <td>30</td>\n      <td>2</td>\n      <td>3/28/2020</td>\n    </tr>\n    <tr>\n      <th>11</th>\n      <td>Santa Clara</td>\n      <td>591.0</td>\n      <td>30.0</td>\n      <td>4</td>\n      <td>3</td>\n      <td>3/29/2020</td>\n    </tr>\n    <tr>\n      <th>12</th>\n      <td>Santa Clara</td>\n      <td>745.0</td>\n      <td>31.0</td>\n      <td>154</td>\n      <td>1</td>\n      <td>3/30/2020</td>\n    </tr>\n    <tr>\n      <th>13</th>\n      <td>Santa Clara</td>\n      <td>777.0</td>\n      <td>30.0</td>\n      <td>32</td>\n      <td>-1</td>\n      <td>3/31/2020</td>\n    </tr>\n    <tr>\n      <th>14</th>\n      <td>Santa Clara</td>\n      <td>805.0</td>\n      <td>33.0</td>\n      <td>28</td>\n      <td>3</td>\n      <td>4/1/2020</td>\n    </tr>\n    <tr>\n      <th>15</th>\n      <td>Santa Clara</td>\n      <td>908.0</td>\n      <td>38.0</td>\n      <td>103</td>\n      <td>5</td>\n      <td>4/2/2020</td>\n    </tr>\n    <tr>\n      <th>16</th>\n      <td>Santa Clara</td>\n      <td>983.0</td>\n      <td>39.0</td>\n      <td>75</td>\n      <td>1</td>\n      <td>4/3/2020</td>\n    </tr>\n    <tr>\n      <th>17</th>\n      <td>Santa Clara</td>\n      <td>1045.0</td>\n      <td>39.0</td>\n      <td>62</td>\n      <td>0</td>\n      <td>4/4/2020</td>\n    </tr>\n    <tr>\n      <th>18</th>\n      <td>Santa Clara</td>\n      <td>1052.0</td>\n      <td>42.0</td>\n      <td>7</td>\n      <td>3</td>\n      <td>4/5/2020</td>\n    </tr>\n    <tr>\n      <th>19</th>\n      <td>Santa Clara</td>\n      <td>1128.0</td>\n      <td>43.0</td>\n      <td>76</td>\n      <td>1</td>\n      <td>4/6/2020</td>\n    </tr>\n    <tr>\n      <th>20</th>\n      <td>Santa Clara</td>\n      <td>1193.0</td>\n      <td>46.0</td>\n      <td>65</td>\n      <td>3</td>\n      <td>4/7/2020</td>\n    </tr>\n    <tr>\n      <th>21</th>\n      <td>Santa Clara</td>\n      <td>1257.0</td>\n      <td>47.0</td>\n      <td>64</td>\n      <td>1</td>\n      <td>4/8/2020</td>\n    </tr>\n    <tr>\n      <th>22</th>\n      <td>Santa Clara</td>\n      <td>1301.0</td>\n      <td>49.0</td>\n      <td>44</td>\n      <td>2</td>\n      <td>4/9/2020</td>\n    </tr>\n    <tr>\n      <th>23</th>\n      <td>Santa Clara</td>\n      <td>1351.0</td>\n      <td>52.0</td>\n      <td>50</td>\n      <td>3</td>\n      <td>4/10/2020</td>\n    </tr>\n    <tr>\n      <th>24</th>\n      <td>Santa Clara</td>\n      <td>1441.0</td>\n      <td>52.0</td>\n      <td>90</td>\n      <td>0</td>\n      <td>4/11/2020</td>\n    </tr>\n    <tr>\n      <th>25</th>\n      <td>Santa Clara</td>\n      <td>1461.0</td>\n      <td>53.0</td>\n      <td>20</td>\n      <td>1</td>\n      <td>4/12/2020</td>\n    </tr>\n    <tr>\n      <th>26</th>\n      <td>Santa Clara</td>\n      <td>1542.0</td>\n      <td>60.0</td>\n      <td>81</td>\n      <td>7</td>\n      <td>4/13/2020</td>\n    </tr>\n    <tr>\n      <th>27</th>\n      <td>Santa Clara</td>\n      <td>1561.0</td>\n      <td>66.0</td>\n      <td>19</td>\n      <td>6</td>\n      <td>4/14/2020</td>\n    </tr>\n    <tr>\n      <th>28</th>\n      <td>Santa Clara</td>\n      <td>1692.0</td>\n      <td>66.0</td>\n      <td>131</td>\n      <td>0</td>\n      <td>4/15/2020</td>\n    </tr>\n    <tr>\n      <th>29</th>\n      <td>Santa Clara</td>\n      <td>1789.0</td>\n      <td>69.0</td>\n      <td>97</td>\n      <td>3</td>\n      <td>4/16/2020</td>\n    </tr>\n    <tr>\n      <th>30</th>\n      <td>Santa Clara</td>\n      <td>1834.0</td>\n      <td>73.0</td>\n      <td>45</td>\n      <td>4</td>\n      <td>4/17/2020</td>\n    </tr>\n    <tr>\n      <th>31</th>\n      <td>Santa Clara</td>\n      <td>1862.0</td>\n      <td>73.0</td>\n      <td>28</td>\n      <td>0</td>\n      <td>4/18/2020</td>\n    </tr>\n    <tr>\n      <th>32</th>\n      <td>Santa Clara</td>\n      <td>1878.0</td>\n      <td>79.0</td>\n      <td>16</td>\n      <td>6</td>\n      <td>4/19/2020</td>\n    </tr>\n    <tr>\n      <th>33</th>\n      <td>Santa Clara</td>\n      <td>1920.0</td>\n      <td>83.0</td>\n      <td>42</td>\n      <td>4</td>\n      <td>4/20/2020</td>\n    </tr>\n    <tr>\n      <th>34</th>\n      <td>Santa Clara</td>\n      <td>1943.0</td>\n      <td>88.0</td>\n      <td>23</td>\n      <td>5</td>\n      <td>4/21/2020</td>\n    </tr>\n    <tr>\n      <th>35</th>\n      <td>Santa Clara</td>\n      <td>1969.0</td>\n      <td>94.0</td>\n      <td>26</td>\n      <td>6</td>\n      <td>4/22/2020</td>\n    </tr>\n    <tr>\n      <th>36</th>\n      <td>Santa Clara</td>\n      <td>1996.0</td>\n      <td>95.0</td>\n      <td>27</td>\n      <td>1</td>\n      <td>4/23/2020</td>\n    </tr>\n    <tr>\n      <th>37</th>\n      <td>Santa Clara</td>\n      <td>2026.0</td>\n      <td>98.0</td>\n      <td>30</td>\n      <td>3</td>\n      <td>4/24/2020</td>\n    </tr>\n    <tr>\n      <th>38</th>\n      <td>Santa Clara</td>\n      <td>2045.0</td>\n      <td>99.0</td>\n      <td>19</td>\n      <td>1</td>\n      <td>4/25/2020</td>\n    </tr>\n    <tr>\n      <th>39</th>\n      <td>Santa Clara</td>\n      <td>2097.0</td>\n      <td>102.0</td>\n      <td>52</td>\n      <td>3</td>\n      <td>4/26/2020</td>\n    </tr>\n    <tr>\n      <th>40</th>\n      <td>Santa Clara</td>\n      <td>2104.0</td>\n      <td>105.0</td>\n      <td>7</td>\n      <td>3</td>\n      <td>4/27/2020</td>\n    </tr>\n    <tr>\n      <th>41</th>\n      <td>Santa Clara</td>\n      <td>2130.0</td>\n      <td>106.0</td>\n      <td>26</td>\n      <td>1</td>\n      <td>4/28/2020</td>\n    </tr>\n    <tr>\n      <th>42</th>\n      <td>Santa Clara</td>\n      <td>2147.0</td>\n      <td>108.0</td>\n      <td>17</td>\n      <td>2</td>\n      <td>4/29/2020</td>\n    </tr>\n    <tr>\n      <th>43</th>\n      <td>Santa Clara</td>\n      <td>2172.0</td>\n      <td>111.0</td>\n      <td>25</td>\n      <td>3</td>\n      <td>4/30/2020</td>\n    </tr>\n    <tr>\n      <th>44</th>\n      <td>Santa Clara</td>\n      <td>2176.0</td>\n      <td>113.0</td>\n      <td>4</td>\n      <td>2</td>\n      <td>5/1/2020</td>\n    </tr>\n    <tr>\n      <th>45</th>\n      <td>Santa Clara</td>\n      <td>2203.0</td>\n      <td>115.0</td>\n      <td>27</td>\n      <td>2</td>\n      <td>5/2/2020</td>\n    </tr>\n    <tr>\n      <th>46</th>\n      <td>Santa Clara</td>\n      <td>2235.0</td>\n      <td>116.0</td>\n      <td>32</td>\n      <td>1</td>\n      <td>5/3/2020</td>\n    </tr>\n    <tr>\n      <th>47</th>\n      <td>Santa Clara</td>\n      <td>2238.0</td>\n      <td>119.0</td>\n      <td>3</td>\n      <td>3</td>\n      <td>5/4/2020</td>\n    </tr>\n    <tr>\n      <th>48</th>\n      <td>Santa Clara</td>\n      <td>2249.0</td>\n      <td>123.0</td>\n      <td>11</td>\n      <td>4</td>\n      <td>5/5/2020</td>\n    </tr>\n    <tr>\n      <th>49</th>\n      <td>Santa Clara</td>\n      <td>2270.0</td>\n      <td>126.0</td>\n      <td>21</td>\n      <td>3</td>\n      <td>5/6/2020</td>\n    </tr>\n  </tbody>\n</table>\n</div>"
     },
     "metadata": {},
     "execution_count": 16
    }
   ],
   "source": [
    "df_santa_clara = df_county_clean[df_county_clean[\"county\"] == \"Santa Clara\"]\n",
    "df_santa_clara.head(50)"
   ]
  },
  {
   "cell_type": "code",
   "execution_count": 17,
   "metadata": {},
   "outputs": [
    {
     "output_type": "execute_result",
     "data": {
      "text/plain": [
       "         age_group  totalpositive        date  case_percent   deaths  \\\n",
       "0             0-17            120    4/2/2020           NaN      NaN   \n",
       "1            18-49           5302    4/2/2020           NaN      NaN   \n",
       "2            50-64           2879    4/2/2020           NaN      NaN   \n",
       "3     65 and Older           2342    4/2/2020           NaN      NaN   \n",
       "4          Unknown             58    4/2/2020           NaN      NaN   \n",
       "...            ...            ...         ...           ...      ...   \n",
       "1130          0-17         111029  11/14/2020          10.9      2.0   \n",
       "1131         18-49         608738  11/14/2020          59.7   1325.0   \n",
       "1132         50-64         191565  11/14/2020          18.8   3498.0   \n",
       "1133           65+         107074  11/14/2020          10.5  13476.0   \n",
       "1134       Missing            939  11/14/2020           0.1      1.0   \n",
       "\n",
       "      deaths_percent  ca_percent  \n",
       "0                NaN         NaN  \n",
       "1                NaN         NaN  \n",
       "2                NaN         NaN  \n",
       "3                NaN         NaN  \n",
       "4                NaN         NaN  \n",
       "...              ...         ...  \n",
       "1130             0.0        22.5  \n",
       "1131             7.2        43.5  \n",
       "1132            19.1        18.4  \n",
       "1133            73.6        15.6  \n",
       "1134             0.0         0.0  \n",
       "\n",
       "[1135 rows x 7 columns]"
      ],
      "text/html": "<div>\n<style scoped>\n    .dataframe tbody tr th:only-of-type {\n        vertical-align: middle;\n    }\n\n    .dataframe tbody tr th {\n        vertical-align: top;\n    }\n\n    .dataframe thead th {\n        text-align: right;\n    }\n</style>\n<table border=\"1\" class=\"dataframe\">\n  <thead>\n    <tr style=\"text-align: right;\">\n      <th></th>\n      <th>age_group</th>\n      <th>totalpositive</th>\n      <th>date</th>\n      <th>case_percent</th>\n      <th>deaths</th>\n      <th>deaths_percent</th>\n      <th>ca_percent</th>\n    </tr>\n  </thead>\n  <tbody>\n    <tr>\n      <th>0</th>\n      <td>0-17</td>\n      <td>120</td>\n      <td>4/2/2020</td>\n      <td>NaN</td>\n      <td>NaN</td>\n      <td>NaN</td>\n      <td>NaN</td>\n    </tr>\n    <tr>\n      <th>1</th>\n      <td>18-49</td>\n      <td>5302</td>\n      <td>4/2/2020</td>\n      <td>NaN</td>\n      <td>NaN</td>\n      <td>NaN</td>\n      <td>NaN</td>\n    </tr>\n    <tr>\n      <th>2</th>\n      <td>50-64</td>\n      <td>2879</td>\n      <td>4/2/2020</td>\n      <td>NaN</td>\n      <td>NaN</td>\n      <td>NaN</td>\n      <td>NaN</td>\n    </tr>\n    <tr>\n      <th>3</th>\n      <td>65 and Older</td>\n      <td>2342</td>\n      <td>4/2/2020</td>\n      <td>NaN</td>\n      <td>NaN</td>\n      <td>NaN</td>\n      <td>NaN</td>\n    </tr>\n    <tr>\n      <th>4</th>\n      <td>Unknown</td>\n      <td>58</td>\n      <td>4/2/2020</td>\n      <td>NaN</td>\n      <td>NaN</td>\n      <td>NaN</td>\n      <td>NaN</td>\n    </tr>\n    <tr>\n      <th>...</th>\n      <td>...</td>\n      <td>...</td>\n      <td>...</td>\n      <td>...</td>\n      <td>...</td>\n      <td>...</td>\n      <td>...</td>\n    </tr>\n    <tr>\n      <th>1130</th>\n      <td>0-17</td>\n      <td>111029</td>\n      <td>11/14/2020</td>\n      <td>10.9</td>\n      <td>2.0</td>\n      <td>0.0</td>\n      <td>22.5</td>\n    </tr>\n    <tr>\n      <th>1131</th>\n      <td>18-49</td>\n      <td>608738</td>\n      <td>11/14/2020</td>\n      <td>59.7</td>\n      <td>1325.0</td>\n      <td>7.2</td>\n      <td>43.5</td>\n    </tr>\n    <tr>\n      <th>1132</th>\n      <td>50-64</td>\n      <td>191565</td>\n      <td>11/14/2020</td>\n      <td>18.8</td>\n      <td>3498.0</td>\n      <td>19.1</td>\n      <td>18.4</td>\n    </tr>\n    <tr>\n      <th>1133</th>\n      <td>65+</td>\n      <td>107074</td>\n      <td>11/14/2020</td>\n      <td>10.5</td>\n      <td>13476.0</td>\n      <td>73.6</td>\n      <td>15.6</td>\n    </tr>\n    <tr>\n      <th>1134</th>\n      <td>Missing</td>\n      <td>939</td>\n      <td>11/14/2020</td>\n      <td>0.1</td>\n      <td>1.0</td>\n      <td>0.0</td>\n      <td>0.0</td>\n    </tr>\n  </tbody>\n</table>\n<p>1135 rows × 7 columns</p>\n</div>"
     },
     "metadata": {},
     "execution_count": 17
    }
   ],
   "source": [
    "df_by_age = pd.read_csv(\"case_demographics_age.csv\")\n",
    "df_by_age"
   ]
  },
  {
   "cell_type": "code",
   "execution_count": 18,
   "metadata": {},
   "outputs": [
    {
     "output_type": "execute_result",
     "data": {
      "text/plain": [
       "         age_group  totalpositive        date  case_percent   deaths  \\\n",
       "1053           65+          97247  10/29/2020          10.6  12936.0   \n",
       "702          50-64         123591   8/20/2020          19.0   2142.0   \n",
       "175           0-17           2181    5/7/2020           3.5      0.0   \n",
       "181          18-49          32004    5/8/2020          49.6    156.0   \n",
       "727          50-64         128929   8/25/2020          19.0   2247.0   \n",
       "1123           65+         105031  11/12/2020          10.5  13375.0   \n",
       "378            65+          25109   6/15/2020          16.4   3892.0   \n",
       "561          18-49         262780   7/23/2020          60.4    547.0   \n",
       "829        Missing            912   9/14/2020           0.1      1.0   \n",
       "1051         18-49         547963  10/29/2020          59.8   1258.0   \n",
       "79         Unknown             67   4/17/2020           NaN      NaN   \n",
       "396          18-49          95513   6/20/2020          54.9    326.0   \n",
       "790           0-17          75198    9/7/2020          10.2      3.0   \n",
       "420           0-17          15449   6/25/2020           7.7      0.0   \n",
       "99         Unknown             67   4/21/2020           NaN      NaN   \n",
       "222          50-64          19365   5/16/2020          24.6    475.0   \n",
       "679        Missing            866   8/15/2020           0.1      4.0   \n",
       "724        Missing            929   8/24/2020           0.1      3.0   \n",
       "581          18-49         282008   7/27/2020          60.4    589.0   \n",
       "223            65+          16489   5/16/2020          20.9   2516.0   \n",
       "722          50-64         127847   8/24/2020          19.0   2213.0   \n",
       "202          50-64          17701   5/12/2020          24.9    440.0   \n",
       "508            65+          40473   7/12/2020          12.3   5367.0   \n",
       "39         Unknown             52    4/9/2020           NaN      NaN   \n",
       "47           50-64           5941   4/11/2020           NaN      NaN   \n",
       "432          50-64          44383   6/27/2020          21.1    954.0   \n",
       "606          18-49         308114    8/1/2020          60.5    666.0   \n",
       "526          18-49         219485   7/16/2020          59.9    484.0   \n",
       "775           0-17          73915    9/4/2020          10.2      3.0   \n",
       "390           0-17          12441   6/19/2020           7.3      0.0   \n",
       "68    65 and Older           6051   4/15/2020           NaN      NaN   \n",
       "199        Unknown             93   5/11/2020           0.1      1.0   \n",
       "675           0-17          60630   8/15/2020           9.8      1.0   \n",
       "644        Missing            748    8/8/2020           0.1      2.0   \n",
       "760           0-17          72271    9/1/2020          10.1      3.0   \n",
       "301          18-49          52555   5/27/2020          51.7    218.0   \n",
       "353            65+          23154    6/8/2020          17.3   3564.0   \n",
       "478            65+          35957    7/6/2020          12.9   4916.0   \n",
       "502          50-64          63696   7/11/2020          19.9   1187.0   \n",
       "379        Missing            205   6/15/2020           0.1      1.0   \n",
       "904        Missing            889   9/29/2020           0.1      0.0   \n",
       "615           0-17          47920    8/3/2020           9.2      1.0   \n",
       "840           0-17          78946   9/17/2020          10.3      3.0   \n",
       "595           0-17          44793   7/30/2020           9.1      0.0   \n",
       "624        Missing            656    8/4/2020           0.1      1.0   \n",
       "1042         50-64         171333  10/27/2020          18.9   3332.0   \n",
       "297          50-64          23633   5/26/2020          23.9    564.0   \n",
       "1010          0-17          93249  10/21/2020          10.6      2.0   \n",
       "1055          0-17          98615  10/30/2020          10.7      2.0   \n",
       "1016         18-49         530359  10/22/2020          59.8   1229.0   \n",
       "\n",
       "      deaths_percent  ca_percent  \n",
       "1053            73.7        15.6  \n",
       "702             18.5        18.4  \n",
       "175              0.0        22.5  \n",
       "181              6.1        43.5  \n",
       "727             18.5        18.4  \n",
       "1123            73.6        15.6  \n",
       "378             77.8        15.6  \n",
       "561              6.8        43.5  \n",
       "829              0.0         0.0  \n",
       "1051             7.2        43.5  \n",
       "79               NaN         NaN  \n",
       "396              6.0        43.5  \n",
       "790              0.0        22.5  \n",
       "420              0.0        22.5  \n",
       "99               NaN         NaN  \n",
       "222             14.9        18.4  \n",
       "679              0.0         0.0  \n",
       "724              0.0         0.0  \n",
       "581              7.0        43.5  \n",
       "223             79.1        15.6  \n",
       "722             18.4        18.4  \n",
       "202             15.5        18.4  \n",
       "508             76.5        15.6  \n",
       "39               NaN         NaN  \n",
       "47               NaN         NaN  \n",
       "432             16.4        18.4  \n",
       "606              7.2        43.5  \n",
       "526              6.5        43.5  \n",
       "775              0.0        22.5  \n",
       "390              0.0        22.5  \n",
       "68               NaN         NaN  \n",
       "199              0.0         0.0  \n",
       "675              0.0        22.5  \n",
       "644              0.0         0.0  \n",
       "760              0.0        22.5  \n",
       "301              5.7        43.5  \n",
       "353             78.2        15.6  \n",
       "478             77.3        15.6  \n",
       "502             17.0        18.4  \n",
       "379              0.0         0.0  \n",
       "904              0.0         0.0  \n",
       "615              0.0        22.5  \n",
       "840              0.0        22.5  \n",
       "595              0.0        22.5  \n",
       "624              0.0         0.0  \n",
       "1042            19.1        18.4  \n",
       "297             15.2        18.4  \n",
       "1010             0.0        22.5  \n",
       "1055             0.0        22.5  \n",
       "1016             7.2        43.5  "
      ],
      "text/html": "<div>\n<style scoped>\n    .dataframe tbody tr th:only-of-type {\n        vertical-align: middle;\n    }\n\n    .dataframe tbody tr th {\n        vertical-align: top;\n    }\n\n    .dataframe thead th {\n        text-align: right;\n    }\n</style>\n<table border=\"1\" class=\"dataframe\">\n  <thead>\n    <tr style=\"text-align: right;\">\n      <th></th>\n      <th>age_group</th>\n      <th>totalpositive</th>\n      <th>date</th>\n      <th>case_percent</th>\n      <th>deaths</th>\n      <th>deaths_percent</th>\n      <th>ca_percent</th>\n    </tr>\n  </thead>\n  <tbody>\n    <tr>\n      <th>1053</th>\n      <td>65+</td>\n      <td>97247</td>\n      <td>10/29/2020</td>\n      <td>10.6</td>\n      <td>12936.0</td>\n      <td>73.7</td>\n      <td>15.6</td>\n    </tr>\n    <tr>\n      <th>702</th>\n      <td>50-64</td>\n      <td>123591</td>\n      <td>8/20/2020</td>\n      <td>19.0</td>\n      <td>2142.0</td>\n      <td>18.5</td>\n      <td>18.4</td>\n    </tr>\n    <tr>\n      <th>175</th>\n      <td>0-17</td>\n      <td>2181</td>\n      <td>5/7/2020</td>\n      <td>3.5</td>\n      <td>0.0</td>\n      <td>0.0</td>\n      <td>22.5</td>\n    </tr>\n    <tr>\n      <th>181</th>\n      <td>18-49</td>\n      <td>32004</td>\n      <td>5/8/2020</td>\n      <td>49.6</td>\n      <td>156.0</td>\n      <td>6.1</td>\n      <td>43.5</td>\n    </tr>\n    <tr>\n      <th>727</th>\n      <td>50-64</td>\n      <td>128929</td>\n      <td>8/25/2020</td>\n      <td>19.0</td>\n      <td>2247.0</td>\n      <td>18.5</td>\n      <td>18.4</td>\n    </tr>\n    <tr>\n      <th>1123</th>\n      <td>65+</td>\n      <td>105031</td>\n      <td>11/12/2020</td>\n      <td>10.5</td>\n      <td>13375.0</td>\n      <td>73.6</td>\n      <td>15.6</td>\n    </tr>\n    <tr>\n      <th>378</th>\n      <td>65+</td>\n      <td>25109</td>\n      <td>6/15/2020</td>\n      <td>16.4</td>\n      <td>3892.0</td>\n      <td>77.8</td>\n      <td>15.6</td>\n    </tr>\n    <tr>\n      <th>561</th>\n      <td>18-49</td>\n      <td>262780</td>\n      <td>7/23/2020</td>\n      <td>60.4</td>\n      <td>547.0</td>\n      <td>6.8</td>\n      <td>43.5</td>\n    </tr>\n    <tr>\n      <th>829</th>\n      <td>Missing</td>\n      <td>912</td>\n      <td>9/14/2020</td>\n      <td>0.1</td>\n      <td>1.0</td>\n      <td>0.0</td>\n      <td>0.0</td>\n    </tr>\n    <tr>\n      <th>1051</th>\n      <td>18-49</td>\n      <td>547963</td>\n      <td>10/29/2020</td>\n      <td>59.8</td>\n      <td>1258.0</td>\n      <td>7.2</td>\n      <td>43.5</td>\n    </tr>\n    <tr>\n      <th>79</th>\n      <td>Unknown</td>\n      <td>67</td>\n      <td>4/17/2020</td>\n      <td>NaN</td>\n      <td>NaN</td>\n      <td>NaN</td>\n      <td>NaN</td>\n    </tr>\n    <tr>\n      <th>396</th>\n      <td>18-49</td>\n      <td>95513</td>\n      <td>6/20/2020</td>\n      <td>54.9</td>\n      <td>326.0</td>\n      <td>6.0</td>\n      <td>43.5</td>\n    </tr>\n    <tr>\n      <th>790</th>\n      <td>0-17</td>\n      <td>75198</td>\n      <td>9/7/2020</td>\n      <td>10.2</td>\n      <td>3.0</td>\n      <td>0.0</td>\n      <td>22.5</td>\n    </tr>\n    <tr>\n      <th>420</th>\n      <td>0-17</td>\n      <td>15449</td>\n      <td>6/25/2020</td>\n      <td>7.7</td>\n      <td>0.0</td>\n      <td>0.0</td>\n      <td>22.5</td>\n    </tr>\n    <tr>\n      <th>99</th>\n      <td>Unknown</td>\n      <td>67</td>\n      <td>4/21/2020</td>\n      <td>NaN</td>\n      <td>NaN</td>\n      <td>NaN</td>\n      <td>NaN</td>\n    </tr>\n    <tr>\n      <th>222</th>\n      <td>50-64</td>\n      <td>19365</td>\n      <td>5/16/2020</td>\n      <td>24.6</td>\n      <td>475.0</td>\n      <td>14.9</td>\n      <td>18.4</td>\n    </tr>\n    <tr>\n      <th>679</th>\n      <td>Missing</td>\n      <td>866</td>\n      <td>8/15/2020</td>\n      <td>0.1</td>\n      <td>4.0</td>\n      <td>0.0</td>\n      <td>0.0</td>\n    </tr>\n    <tr>\n      <th>724</th>\n      <td>Missing</td>\n      <td>929</td>\n      <td>8/24/2020</td>\n      <td>0.1</td>\n      <td>3.0</td>\n      <td>0.0</td>\n      <td>0.0</td>\n    </tr>\n    <tr>\n      <th>581</th>\n      <td>18-49</td>\n      <td>282008</td>\n      <td>7/27/2020</td>\n      <td>60.4</td>\n      <td>589.0</td>\n      <td>7.0</td>\n      <td>43.5</td>\n    </tr>\n    <tr>\n      <th>223</th>\n      <td>65+</td>\n      <td>16489</td>\n      <td>5/16/2020</td>\n      <td>20.9</td>\n      <td>2516.0</td>\n      <td>79.1</td>\n      <td>15.6</td>\n    </tr>\n    <tr>\n      <th>722</th>\n      <td>50-64</td>\n      <td>127847</td>\n      <td>8/24/2020</td>\n      <td>19.0</td>\n      <td>2213.0</td>\n      <td>18.4</td>\n      <td>18.4</td>\n    </tr>\n    <tr>\n      <th>202</th>\n      <td>50-64</td>\n      <td>17701</td>\n      <td>5/12/2020</td>\n      <td>24.9</td>\n      <td>440.0</td>\n      <td>15.5</td>\n      <td>18.4</td>\n    </tr>\n    <tr>\n      <th>508</th>\n      <td>65+</td>\n      <td>40473</td>\n      <td>7/12/2020</td>\n      <td>12.3</td>\n      <td>5367.0</td>\n      <td>76.5</td>\n      <td>15.6</td>\n    </tr>\n    <tr>\n      <th>39</th>\n      <td>Unknown</td>\n      <td>52</td>\n      <td>4/9/2020</td>\n      <td>NaN</td>\n      <td>NaN</td>\n      <td>NaN</td>\n      <td>NaN</td>\n    </tr>\n    <tr>\n      <th>47</th>\n      <td>50-64</td>\n      <td>5941</td>\n      <td>4/11/2020</td>\n      <td>NaN</td>\n      <td>NaN</td>\n      <td>NaN</td>\n      <td>NaN</td>\n    </tr>\n    <tr>\n      <th>432</th>\n      <td>50-64</td>\n      <td>44383</td>\n      <td>6/27/2020</td>\n      <td>21.1</td>\n      <td>954.0</td>\n      <td>16.4</td>\n      <td>18.4</td>\n    </tr>\n    <tr>\n      <th>606</th>\n      <td>18-49</td>\n      <td>308114</td>\n      <td>8/1/2020</td>\n      <td>60.5</td>\n      <td>666.0</td>\n      <td>7.2</td>\n      <td>43.5</td>\n    </tr>\n    <tr>\n      <th>526</th>\n      <td>18-49</td>\n      <td>219485</td>\n      <td>7/16/2020</td>\n      <td>59.9</td>\n      <td>484.0</td>\n      <td>6.5</td>\n      <td>43.5</td>\n    </tr>\n    <tr>\n      <th>775</th>\n      <td>0-17</td>\n      <td>73915</td>\n      <td>9/4/2020</td>\n      <td>10.2</td>\n      <td>3.0</td>\n      <td>0.0</td>\n      <td>22.5</td>\n    </tr>\n    <tr>\n      <th>390</th>\n      <td>0-17</td>\n      <td>12441</td>\n      <td>6/19/2020</td>\n      <td>7.3</td>\n      <td>0.0</td>\n      <td>0.0</td>\n      <td>22.5</td>\n    </tr>\n    <tr>\n      <th>68</th>\n      <td>65 and Older</td>\n      <td>6051</td>\n      <td>4/15/2020</td>\n      <td>NaN</td>\n      <td>NaN</td>\n      <td>NaN</td>\n      <td>NaN</td>\n    </tr>\n    <tr>\n      <th>199</th>\n      <td>Unknown</td>\n      <td>93</td>\n      <td>5/11/2020</td>\n      <td>0.1</td>\n      <td>1.0</td>\n      <td>0.0</td>\n      <td>0.0</td>\n    </tr>\n    <tr>\n      <th>675</th>\n      <td>0-17</td>\n      <td>60630</td>\n      <td>8/15/2020</td>\n      <td>9.8</td>\n      <td>1.0</td>\n      <td>0.0</td>\n      <td>22.5</td>\n    </tr>\n    <tr>\n      <th>644</th>\n      <td>Missing</td>\n      <td>748</td>\n      <td>8/8/2020</td>\n      <td>0.1</td>\n      <td>2.0</td>\n      <td>0.0</td>\n      <td>0.0</td>\n    </tr>\n    <tr>\n      <th>760</th>\n      <td>0-17</td>\n      <td>72271</td>\n      <td>9/1/2020</td>\n      <td>10.1</td>\n      <td>3.0</td>\n      <td>0.0</td>\n      <td>22.5</td>\n    </tr>\n    <tr>\n      <th>301</th>\n      <td>18-49</td>\n      <td>52555</td>\n      <td>5/27/2020</td>\n      <td>51.7</td>\n      <td>218.0</td>\n      <td>5.7</td>\n      <td>43.5</td>\n    </tr>\n    <tr>\n      <th>353</th>\n      <td>65+</td>\n      <td>23154</td>\n      <td>6/8/2020</td>\n      <td>17.3</td>\n      <td>3564.0</td>\n      <td>78.2</td>\n      <td>15.6</td>\n    </tr>\n    <tr>\n      <th>478</th>\n      <td>65+</td>\n      <td>35957</td>\n      <td>7/6/2020</td>\n      <td>12.9</td>\n      <td>4916.0</td>\n      <td>77.3</td>\n      <td>15.6</td>\n    </tr>\n    <tr>\n      <th>502</th>\n      <td>50-64</td>\n      <td>63696</td>\n      <td>7/11/2020</td>\n      <td>19.9</td>\n      <td>1187.0</td>\n      <td>17.0</td>\n      <td>18.4</td>\n    </tr>\n    <tr>\n      <th>379</th>\n      <td>Missing</td>\n      <td>205</td>\n      <td>6/15/2020</td>\n      <td>0.1</td>\n      <td>1.0</td>\n      <td>0.0</td>\n      <td>0.0</td>\n    </tr>\n    <tr>\n      <th>904</th>\n      <td>Missing</td>\n      <td>889</td>\n      <td>9/29/2020</td>\n      <td>0.1</td>\n      <td>0.0</td>\n      <td>0.0</td>\n      <td>0.0</td>\n    </tr>\n    <tr>\n      <th>615</th>\n      <td>0-17</td>\n      <td>47920</td>\n      <td>8/3/2020</td>\n      <td>9.2</td>\n      <td>1.0</td>\n      <td>0.0</td>\n      <td>22.5</td>\n    </tr>\n    <tr>\n      <th>840</th>\n      <td>0-17</td>\n      <td>78946</td>\n      <td>9/17/2020</td>\n      <td>10.3</td>\n      <td>3.0</td>\n      <td>0.0</td>\n      <td>22.5</td>\n    </tr>\n    <tr>\n      <th>595</th>\n      <td>0-17</td>\n      <td>44793</td>\n      <td>7/30/2020</td>\n      <td>9.1</td>\n      <td>0.0</td>\n      <td>0.0</td>\n      <td>22.5</td>\n    </tr>\n    <tr>\n      <th>624</th>\n      <td>Missing</td>\n      <td>656</td>\n      <td>8/4/2020</td>\n      <td>0.1</td>\n      <td>1.0</td>\n      <td>0.0</td>\n      <td>0.0</td>\n    </tr>\n    <tr>\n      <th>1042</th>\n      <td>50-64</td>\n      <td>171333</td>\n      <td>10/27/2020</td>\n      <td>18.9</td>\n      <td>3332.0</td>\n      <td>19.1</td>\n      <td>18.4</td>\n    </tr>\n    <tr>\n      <th>297</th>\n      <td>50-64</td>\n      <td>23633</td>\n      <td>5/26/2020</td>\n      <td>23.9</td>\n      <td>564.0</td>\n      <td>15.2</td>\n      <td>18.4</td>\n    </tr>\n    <tr>\n      <th>1010</th>\n      <td>0-17</td>\n      <td>93249</td>\n      <td>10/21/2020</td>\n      <td>10.6</td>\n      <td>2.0</td>\n      <td>0.0</td>\n      <td>22.5</td>\n    </tr>\n    <tr>\n      <th>1055</th>\n      <td>0-17</td>\n      <td>98615</td>\n      <td>10/30/2020</td>\n      <td>10.7</td>\n      <td>2.0</td>\n      <td>0.0</td>\n      <td>22.5</td>\n    </tr>\n    <tr>\n      <th>1016</th>\n      <td>18-49</td>\n      <td>530359</td>\n      <td>10/22/2020</td>\n      <td>59.8</td>\n      <td>1229.0</td>\n      <td>7.2</td>\n      <td>43.5</td>\n    </tr>\n  </tbody>\n</table>\n</div>"
     },
     "metadata": {},
     "execution_count": 18
    }
   ],
   "source": [
    "df_by_age.sample(50)"
   ]
  },
  {
   "cell_type": "code",
   "execution_count": 19,
   "metadata": {},
   "outputs": [],
   "source": [
    "df_age_clean=df_by_age.dropna()"
   ]
  },
  {
   "cell_type": "code",
   "execution_count": 20,
   "metadata": {},
   "outputs": [
    {
     "output_type": "execute_result",
     "data": {
      "text/plain": [
       "        age_group  totalpositive       date  case_percent  deaths  \\\n",
       "100          0-17            855  4/22/2020          2.29     0.0   \n",
       "101         18-49          18004  4/22/2020         48.18    99.0   \n",
       "102         50-64          10025  4/22/2020         26.83   223.0   \n",
       "103  65 and Older           8401  4/22/2020         22.48  1074.0   \n",
       "105          0-17            936  4/23/2020          2.38     0.0   \n",
       "106         18-49          18954  4/23/2020         48.29   107.0   \n",
       "107         50-64          10451  4/23/2020         26.62   234.0   \n",
       "108  65 and Older           8832  4/23/2020         22.50  1148.0   \n",
       "110          0-17           1011  4/24/2020          2.46     0.0   \n",
       "111         18-49          19897  4/24/2020         48.37   112.0   \n",
       "112         50-64          10885  4/24/2020         26.46   246.0   \n",
       "113  65 and Older           9256  4/24/2020         22.50  1215.0   \n",
       "115          0-17           1039  4/25/2020          2.46     0.0   \n",
       "116         18-49          20379  4/25/2020         48.33   117.0   \n",
       "117         50-64          11139  4/25/2020         26.42   254.0   \n",
       "118  65 and Older           9512  4/25/2020         22.56  1276.0   \n",
       "120          0-17           1085  4/26/2020          2.50     0.0   \n",
       "121         18-49          21028  4/26/2020         48.38   119.0   \n",
       "122         50-64          11442  4/26/2020         26.33   258.0   \n",
       "123  65 and Older           9824  4/26/2020         22.60  1299.0   \n",
       "125          0-17           1190  4/27/2020          2.64     0.0   \n",
       "126         18-49          21888  4/27/2020         48.61   120.0   \n",
       "127         50-64          11781  4/27/2020         26.16   265.0   \n",
       "128  65 and Older          10086  4/27/2020         22.40  1336.0   \n",
       "130          0-17           1263  4/28/2020          2.72     0.0   \n",
       "131         18-49          22596  4/28/2020         48.59   126.0   \n",
       "132         50-64          12153  4/28/2020         26.14   284.0   \n",
       "133           65+          10413  4/28/2020         22.39  1399.0   \n",
       "135          0-17           1398  4/29/2020          2.86     0.0   \n",
       "136         18-49          23836  4/29/2020         48.73   131.0   \n",
       "137         50-64          12705  4/29/2020         25.97   292.0   \n",
       "138           65+          10906  4/29/2020         22.29  1467.0   \n",
       "140          0-17           1449  4/30/2020          2.90     0.0   \n",
       "141         18-49          24613  4/30/2020         48.80   137.0   \n",
       "142         50-64          13044  4/30/2020         25.90   308.0   \n",
       "143           65+          11256  4/30/2020         22.30  1543.0   \n",
       "145          0-17           1566   5/1/2020          3.00     0.0   \n",
       "146         18-49          25548   5/1/2020         48.95   139.0   \n",
       "147         50-64          13454   5/1/2020         25.78   322.0   \n",
       "148           65+          11547   5/1/2020         22.12  1622.0   \n",
       "150          0-17           1640   5/2/2020          3.10     0.0   \n",
       "151         18-49          26256   5/2/2020         49.00   139.0   \n",
       "152         50-64          13773   5/2/2020         25.70   331.0   \n",
       "153           65+          11860   5/2/2020         22.10  1668.0   \n",
       "154       Unknown             87   5/2/2020          0.20     0.0   \n",
       "155          0-17           1715   5/3/2020          3.12     0.0   \n",
       "156         18-49          26956   5/3/2020         49.07   139.0   \n",
       "157         50-64          14078   5/3/2020         25.63   335.0   \n",
       "158           65+          12098   5/3/2020         22.02  1704.0   \n",
       "159       Unknown             90   5/3/2020          0.16     0.0   \n",
       "\n",
       "     deaths_percent  ca_percent  \n",
       "100            0.00       22.49  \n",
       "101            7.09       43.52  \n",
       "102           15.97       18.42  \n",
       "103           76.93       15.57  \n",
       "105            0.00       22.49  \n",
       "106            7.19       43.52  \n",
       "107           15.71       18.42  \n",
       "108           77.10       15.57  \n",
       "110            0.00       22.49  \n",
       "111            7.12       43.52  \n",
       "112           15.64       18.42  \n",
       "113           77.24       15.57  \n",
       "115            0.00       22.49  \n",
       "116            7.10       43.52  \n",
       "117           15.42       18.42  \n",
       "118           77.47       15.57  \n",
       "120            0.00       22.49  \n",
       "121            7.10       43.52  \n",
       "122           15.39       18.42  \n",
       "123           77.51       15.57  \n",
       "125            0.00       22.49  \n",
       "126            6.97       43.52  \n",
       "127           15.40       18.42  \n",
       "128           77.63       15.57  \n",
       "130            0.00       22.49  \n",
       "131            6.97       43.52  \n",
       "132           15.70       18.42  \n",
       "133           77.34       15.57  \n",
       "135            0.00       22.49  \n",
       "136            6.93       43.52  \n",
       "137           15.45       18.42  \n",
       "138           77.62       15.57  \n",
       "140            0.00       22.49  \n",
       "141            6.90       43.52  \n",
       "142           15.50       18.42  \n",
       "143           77.60       15.57  \n",
       "145            0.00       22.49  \n",
       "146            6.67       43.52  \n",
       "147           15.46       18.42  \n",
       "148           77.87       15.57  \n",
       "150            0.00       22.50  \n",
       "151            6.50       43.50  \n",
       "152           15.50       18.40  \n",
       "153           78.00       15.60  \n",
       "154            0.00        0.00  \n",
       "155            0.00       22.50  \n",
       "156            6.38       43.50  \n",
       "157           15.38       18.40  \n",
       "158           78.24       15.60  \n",
       "159            0.00        0.00  "
      ],
      "text/html": "<div>\n<style scoped>\n    .dataframe tbody tr th:only-of-type {\n        vertical-align: middle;\n    }\n\n    .dataframe tbody tr th {\n        vertical-align: top;\n    }\n\n    .dataframe thead th {\n        text-align: right;\n    }\n</style>\n<table border=\"1\" class=\"dataframe\">\n  <thead>\n    <tr style=\"text-align: right;\">\n      <th></th>\n      <th>age_group</th>\n      <th>totalpositive</th>\n      <th>date</th>\n      <th>case_percent</th>\n      <th>deaths</th>\n      <th>deaths_percent</th>\n      <th>ca_percent</th>\n    </tr>\n  </thead>\n  <tbody>\n    <tr>\n      <th>100</th>\n      <td>0-17</td>\n      <td>855</td>\n      <td>4/22/2020</td>\n      <td>2.29</td>\n      <td>0.0</td>\n      <td>0.00</td>\n      <td>22.49</td>\n    </tr>\n    <tr>\n      <th>101</th>\n      <td>18-49</td>\n      <td>18004</td>\n      <td>4/22/2020</td>\n      <td>48.18</td>\n      <td>99.0</td>\n      <td>7.09</td>\n      <td>43.52</td>\n    </tr>\n    <tr>\n      <th>102</th>\n      <td>50-64</td>\n      <td>10025</td>\n      <td>4/22/2020</td>\n      <td>26.83</td>\n      <td>223.0</td>\n      <td>15.97</td>\n      <td>18.42</td>\n    </tr>\n    <tr>\n      <th>103</th>\n      <td>65 and Older</td>\n      <td>8401</td>\n      <td>4/22/2020</td>\n      <td>22.48</td>\n      <td>1074.0</td>\n      <td>76.93</td>\n      <td>15.57</td>\n    </tr>\n    <tr>\n      <th>105</th>\n      <td>0-17</td>\n      <td>936</td>\n      <td>4/23/2020</td>\n      <td>2.38</td>\n      <td>0.0</td>\n      <td>0.00</td>\n      <td>22.49</td>\n    </tr>\n    <tr>\n      <th>106</th>\n      <td>18-49</td>\n      <td>18954</td>\n      <td>4/23/2020</td>\n      <td>48.29</td>\n      <td>107.0</td>\n      <td>7.19</td>\n      <td>43.52</td>\n    </tr>\n    <tr>\n      <th>107</th>\n      <td>50-64</td>\n      <td>10451</td>\n      <td>4/23/2020</td>\n      <td>26.62</td>\n      <td>234.0</td>\n      <td>15.71</td>\n      <td>18.42</td>\n    </tr>\n    <tr>\n      <th>108</th>\n      <td>65 and Older</td>\n      <td>8832</td>\n      <td>4/23/2020</td>\n      <td>22.50</td>\n      <td>1148.0</td>\n      <td>77.10</td>\n      <td>15.57</td>\n    </tr>\n    <tr>\n      <th>110</th>\n      <td>0-17</td>\n      <td>1011</td>\n      <td>4/24/2020</td>\n      <td>2.46</td>\n      <td>0.0</td>\n      <td>0.00</td>\n      <td>22.49</td>\n    </tr>\n    <tr>\n      <th>111</th>\n      <td>18-49</td>\n      <td>19897</td>\n      <td>4/24/2020</td>\n      <td>48.37</td>\n      <td>112.0</td>\n      <td>7.12</td>\n      <td>43.52</td>\n    </tr>\n    <tr>\n      <th>112</th>\n      <td>50-64</td>\n      <td>10885</td>\n      <td>4/24/2020</td>\n      <td>26.46</td>\n      <td>246.0</td>\n      <td>15.64</td>\n      <td>18.42</td>\n    </tr>\n    <tr>\n      <th>113</th>\n      <td>65 and Older</td>\n      <td>9256</td>\n      <td>4/24/2020</td>\n      <td>22.50</td>\n      <td>1215.0</td>\n      <td>77.24</td>\n      <td>15.57</td>\n    </tr>\n    <tr>\n      <th>115</th>\n      <td>0-17</td>\n      <td>1039</td>\n      <td>4/25/2020</td>\n      <td>2.46</td>\n      <td>0.0</td>\n      <td>0.00</td>\n      <td>22.49</td>\n    </tr>\n    <tr>\n      <th>116</th>\n      <td>18-49</td>\n      <td>20379</td>\n      <td>4/25/2020</td>\n      <td>48.33</td>\n      <td>117.0</td>\n      <td>7.10</td>\n      <td>43.52</td>\n    </tr>\n    <tr>\n      <th>117</th>\n      <td>50-64</td>\n      <td>11139</td>\n      <td>4/25/2020</td>\n      <td>26.42</td>\n      <td>254.0</td>\n      <td>15.42</td>\n      <td>18.42</td>\n    </tr>\n    <tr>\n      <th>118</th>\n      <td>65 and Older</td>\n      <td>9512</td>\n      <td>4/25/2020</td>\n      <td>22.56</td>\n      <td>1276.0</td>\n      <td>77.47</td>\n      <td>15.57</td>\n    </tr>\n    <tr>\n      <th>120</th>\n      <td>0-17</td>\n      <td>1085</td>\n      <td>4/26/2020</td>\n      <td>2.50</td>\n      <td>0.0</td>\n      <td>0.00</td>\n      <td>22.49</td>\n    </tr>\n    <tr>\n      <th>121</th>\n      <td>18-49</td>\n      <td>21028</td>\n      <td>4/26/2020</td>\n      <td>48.38</td>\n      <td>119.0</td>\n      <td>7.10</td>\n      <td>43.52</td>\n    </tr>\n    <tr>\n      <th>122</th>\n      <td>50-64</td>\n      <td>11442</td>\n      <td>4/26/2020</td>\n      <td>26.33</td>\n      <td>258.0</td>\n      <td>15.39</td>\n      <td>18.42</td>\n    </tr>\n    <tr>\n      <th>123</th>\n      <td>65 and Older</td>\n      <td>9824</td>\n      <td>4/26/2020</td>\n      <td>22.60</td>\n      <td>1299.0</td>\n      <td>77.51</td>\n      <td>15.57</td>\n    </tr>\n    <tr>\n      <th>125</th>\n      <td>0-17</td>\n      <td>1190</td>\n      <td>4/27/2020</td>\n      <td>2.64</td>\n      <td>0.0</td>\n      <td>0.00</td>\n      <td>22.49</td>\n    </tr>\n    <tr>\n      <th>126</th>\n      <td>18-49</td>\n      <td>21888</td>\n      <td>4/27/2020</td>\n      <td>48.61</td>\n      <td>120.0</td>\n      <td>6.97</td>\n      <td>43.52</td>\n    </tr>\n    <tr>\n      <th>127</th>\n      <td>50-64</td>\n      <td>11781</td>\n      <td>4/27/2020</td>\n      <td>26.16</td>\n      <td>265.0</td>\n      <td>15.40</td>\n      <td>18.42</td>\n    </tr>\n    <tr>\n      <th>128</th>\n      <td>65 and Older</td>\n      <td>10086</td>\n      <td>4/27/2020</td>\n      <td>22.40</td>\n      <td>1336.0</td>\n      <td>77.63</td>\n      <td>15.57</td>\n    </tr>\n    <tr>\n      <th>130</th>\n      <td>0-17</td>\n      <td>1263</td>\n      <td>4/28/2020</td>\n      <td>2.72</td>\n      <td>0.0</td>\n      <td>0.00</td>\n      <td>22.49</td>\n    </tr>\n    <tr>\n      <th>131</th>\n      <td>18-49</td>\n      <td>22596</td>\n      <td>4/28/2020</td>\n      <td>48.59</td>\n      <td>126.0</td>\n      <td>6.97</td>\n      <td>43.52</td>\n    </tr>\n    <tr>\n      <th>132</th>\n      <td>50-64</td>\n      <td>12153</td>\n      <td>4/28/2020</td>\n      <td>26.14</td>\n      <td>284.0</td>\n      <td>15.70</td>\n      <td>18.42</td>\n    </tr>\n    <tr>\n      <th>133</th>\n      <td>65+</td>\n      <td>10413</td>\n      <td>4/28/2020</td>\n      <td>22.39</td>\n      <td>1399.0</td>\n      <td>77.34</td>\n      <td>15.57</td>\n    </tr>\n    <tr>\n      <th>135</th>\n      <td>0-17</td>\n      <td>1398</td>\n      <td>4/29/2020</td>\n      <td>2.86</td>\n      <td>0.0</td>\n      <td>0.00</td>\n      <td>22.49</td>\n    </tr>\n    <tr>\n      <th>136</th>\n      <td>18-49</td>\n      <td>23836</td>\n      <td>4/29/2020</td>\n      <td>48.73</td>\n      <td>131.0</td>\n      <td>6.93</td>\n      <td>43.52</td>\n    </tr>\n    <tr>\n      <th>137</th>\n      <td>50-64</td>\n      <td>12705</td>\n      <td>4/29/2020</td>\n      <td>25.97</td>\n      <td>292.0</td>\n      <td>15.45</td>\n      <td>18.42</td>\n    </tr>\n    <tr>\n      <th>138</th>\n      <td>65+</td>\n      <td>10906</td>\n      <td>4/29/2020</td>\n      <td>22.29</td>\n      <td>1467.0</td>\n      <td>77.62</td>\n      <td>15.57</td>\n    </tr>\n    <tr>\n      <th>140</th>\n      <td>0-17</td>\n      <td>1449</td>\n      <td>4/30/2020</td>\n      <td>2.90</td>\n      <td>0.0</td>\n      <td>0.00</td>\n      <td>22.49</td>\n    </tr>\n    <tr>\n      <th>141</th>\n      <td>18-49</td>\n      <td>24613</td>\n      <td>4/30/2020</td>\n      <td>48.80</td>\n      <td>137.0</td>\n      <td>6.90</td>\n      <td>43.52</td>\n    </tr>\n    <tr>\n      <th>142</th>\n      <td>50-64</td>\n      <td>13044</td>\n      <td>4/30/2020</td>\n      <td>25.90</td>\n      <td>308.0</td>\n      <td>15.50</td>\n      <td>18.42</td>\n    </tr>\n    <tr>\n      <th>143</th>\n      <td>65+</td>\n      <td>11256</td>\n      <td>4/30/2020</td>\n      <td>22.30</td>\n      <td>1543.0</td>\n      <td>77.60</td>\n      <td>15.57</td>\n    </tr>\n    <tr>\n      <th>145</th>\n      <td>0-17</td>\n      <td>1566</td>\n      <td>5/1/2020</td>\n      <td>3.00</td>\n      <td>0.0</td>\n      <td>0.00</td>\n      <td>22.49</td>\n    </tr>\n    <tr>\n      <th>146</th>\n      <td>18-49</td>\n      <td>25548</td>\n      <td>5/1/2020</td>\n      <td>48.95</td>\n      <td>139.0</td>\n      <td>6.67</td>\n      <td>43.52</td>\n    </tr>\n    <tr>\n      <th>147</th>\n      <td>50-64</td>\n      <td>13454</td>\n      <td>5/1/2020</td>\n      <td>25.78</td>\n      <td>322.0</td>\n      <td>15.46</td>\n      <td>18.42</td>\n    </tr>\n    <tr>\n      <th>148</th>\n      <td>65+</td>\n      <td>11547</td>\n      <td>5/1/2020</td>\n      <td>22.12</td>\n      <td>1622.0</td>\n      <td>77.87</td>\n      <td>15.57</td>\n    </tr>\n    <tr>\n      <th>150</th>\n      <td>0-17</td>\n      <td>1640</td>\n      <td>5/2/2020</td>\n      <td>3.10</td>\n      <td>0.0</td>\n      <td>0.00</td>\n      <td>22.50</td>\n    </tr>\n    <tr>\n      <th>151</th>\n      <td>18-49</td>\n      <td>26256</td>\n      <td>5/2/2020</td>\n      <td>49.00</td>\n      <td>139.0</td>\n      <td>6.50</td>\n      <td>43.50</td>\n    </tr>\n    <tr>\n      <th>152</th>\n      <td>50-64</td>\n      <td>13773</td>\n      <td>5/2/2020</td>\n      <td>25.70</td>\n      <td>331.0</td>\n      <td>15.50</td>\n      <td>18.40</td>\n    </tr>\n    <tr>\n      <th>153</th>\n      <td>65+</td>\n      <td>11860</td>\n      <td>5/2/2020</td>\n      <td>22.10</td>\n      <td>1668.0</td>\n      <td>78.00</td>\n      <td>15.60</td>\n    </tr>\n    <tr>\n      <th>154</th>\n      <td>Unknown</td>\n      <td>87</td>\n      <td>5/2/2020</td>\n      <td>0.20</td>\n      <td>0.0</td>\n      <td>0.00</td>\n      <td>0.00</td>\n    </tr>\n    <tr>\n      <th>155</th>\n      <td>0-17</td>\n      <td>1715</td>\n      <td>5/3/2020</td>\n      <td>3.12</td>\n      <td>0.0</td>\n      <td>0.00</td>\n      <td>22.50</td>\n    </tr>\n    <tr>\n      <th>156</th>\n      <td>18-49</td>\n      <td>26956</td>\n      <td>5/3/2020</td>\n      <td>49.07</td>\n      <td>139.0</td>\n      <td>6.38</td>\n      <td>43.50</td>\n    </tr>\n    <tr>\n      <th>157</th>\n      <td>50-64</td>\n      <td>14078</td>\n      <td>5/3/2020</td>\n      <td>25.63</td>\n      <td>335.0</td>\n      <td>15.38</td>\n      <td>18.40</td>\n    </tr>\n    <tr>\n      <th>158</th>\n      <td>65+</td>\n      <td>12098</td>\n      <td>5/3/2020</td>\n      <td>22.02</td>\n      <td>1704.0</td>\n      <td>78.24</td>\n      <td>15.60</td>\n    </tr>\n    <tr>\n      <th>159</th>\n      <td>Unknown</td>\n      <td>90</td>\n      <td>5/3/2020</td>\n      <td>0.16</td>\n      <td>0.0</td>\n      <td>0.00</td>\n      <td>0.00</td>\n    </tr>\n  </tbody>\n</table>\n</div>"
     },
     "metadata": {},
     "execution_count": 20
    }
   ],
   "source": [
    "df_age_clean.head(50)"
   ]
  },
  {
   "cell_type": "code",
   "execution_count": 21,
   "metadata": {},
   "outputs": [
    {
     "output_type": "execute_result",
     "data": {
      "text/plain": [
       "              totalpositive       date  case_percent  deaths  deaths_percent  \\\n",
       "age_group                                                                      \n",
       "0-17                    855  4/22/2020          2.29     0.0            0.00   \n",
       "18-49                 18004  4/22/2020         48.18    99.0            7.09   \n",
       "50-64                 10025  4/22/2020         26.83   223.0           15.97   \n",
       "65 and Older           8401  4/22/2020         22.48  1074.0           76.93   \n",
       "0-17                    936  4/23/2020          2.38     0.0            0.00   \n",
       "\n",
       "              ca_percent  \n",
       "age_group                 \n",
       "0-17               22.49  \n",
       "18-49              43.52  \n",
       "50-64              18.42  \n",
       "65 and Older       15.57  \n",
       "0-17               22.49  "
      ],
      "text/html": "<div>\n<style scoped>\n    .dataframe tbody tr th:only-of-type {\n        vertical-align: middle;\n    }\n\n    .dataframe tbody tr th {\n        vertical-align: top;\n    }\n\n    .dataframe thead th {\n        text-align: right;\n    }\n</style>\n<table border=\"1\" class=\"dataframe\">\n  <thead>\n    <tr style=\"text-align: right;\">\n      <th></th>\n      <th>totalpositive</th>\n      <th>date</th>\n      <th>case_percent</th>\n      <th>deaths</th>\n      <th>deaths_percent</th>\n      <th>ca_percent</th>\n    </tr>\n    <tr>\n      <th>age_group</th>\n      <th></th>\n      <th></th>\n      <th></th>\n      <th></th>\n      <th></th>\n      <th></th>\n    </tr>\n  </thead>\n  <tbody>\n    <tr>\n      <th>0-17</th>\n      <td>855</td>\n      <td>4/22/2020</td>\n      <td>2.29</td>\n      <td>0.0</td>\n      <td>0.00</td>\n      <td>22.49</td>\n    </tr>\n    <tr>\n      <th>18-49</th>\n      <td>18004</td>\n      <td>4/22/2020</td>\n      <td>48.18</td>\n      <td>99.0</td>\n      <td>7.09</td>\n      <td>43.52</td>\n    </tr>\n    <tr>\n      <th>50-64</th>\n      <td>10025</td>\n      <td>4/22/2020</td>\n      <td>26.83</td>\n      <td>223.0</td>\n      <td>15.97</td>\n      <td>18.42</td>\n    </tr>\n    <tr>\n      <th>65 and Older</th>\n      <td>8401</td>\n      <td>4/22/2020</td>\n      <td>22.48</td>\n      <td>1074.0</td>\n      <td>76.93</td>\n      <td>15.57</td>\n    </tr>\n    <tr>\n      <th>0-17</th>\n      <td>936</td>\n      <td>4/23/2020</td>\n      <td>2.38</td>\n      <td>0.0</td>\n      <td>0.00</td>\n      <td>22.49</td>\n    </tr>\n  </tbody>\n</table>\n</div>"
     },
     "metadata": {},
     "execution_count": 21
    }
   ],
   "source": [
    "df_age_group_index = df_age_clean.set_index([\"age_group\"])\n",
    "df_age_group_index.head()"
   ]
  },
  {
   "cell_type": "code",
   "execution_count": 22,
   "metadata": {},
   "outputs": [
    {
     "output_type": "execute_result",
     "data": {
      "text/plain": [
       "              totalpositive        date  case_percent   deaths  \\\n",
       "age_group                                                        \n",
       "0-17                    855   4/22/2020          2.29      0.0   \n",
       "18-49                 18004   4/22/2020         48.18     99.0   \n",
       "50-64                 10025   4/22/2020         26.83    223.0   \n",
       "65 and Older           8401   4/22/2020         22.48   1074.0   \n",
       "0-17                    936   4/23/2020          2.38      0.0   \n",
       "...                     ...         ...           ...      ...   \n",
       "65+                  106013  11/13/2020         10.50  13426.0   \n",
       "0-17                 111029  11/14/2020         10.90      2.0   \n",
       "18-49                608738  11/14/2020         59.70   1325.0   \n",
       "50-64                191565  11/14/2020         18.80   3498.0   \n",
       "65+                  107074  11/14/2020         10.50  13476.0   \n",
       "\n",
       "              deaths_percent  ca_percent  \n",
       "age_group                                 \n",
       "0-17                    0.00       22.49  \n",
       "18-49                   7.09       43.52  \n",
       "50-64                  15.97       18.42  \n",
       "65 and Older           76.93       15.57  \n",
       "0-17                    0.00       22.49  \n",
       "...                      ...         ...  \n",
       "65+                    73.60       15.60  \n",
       "0-17                    0.00       22.50  \n",
       "18-49                   7.20       43.50  \n",
       "50-64                  19.10       18.40  \n",
       "65+                    73.60       15.60  \n",
       "\n",
       "[828 rows x 6 columns]"
      ],
      "text/html": "<div>\n<style scoped>\n    .dataframe tbody tr th:only-of-type {\n        vertical-align: middle;\n    }\n\n    .dataframe tbody tr th {\n        vertical-align: top;\n    }\n\n    .dataframe thead th {\n        text-align: right;\n    }\n</style>\n<table border=\"1\" class=\"dataframe\">\n  <thead>\n    <tr style=\"text-align: right;\">\n      <th></th>\n      <th>totalpositive</th>\n      <th>date</th>\n      <th>case_percent</th>\n      <th>deaths</th>\n      <th>deaths_percent</th>\n      <th>ca_percent</th>\n    </tr>\n    <tr>\n      <th>age_group</th>\n      <th></th>\n      <th></th>\n      <th></th>\n      <th></th>\n      <th></th>\n      <th></th>\n    </tr>\n  </thead>\n  <tbody>\n    <tr>\n      <th>0-17</th>\n      <td>855</td>\n      <td>4/22/2020</td>\n      <td>2.29</td>\n      <td>0.0</td>\n      <td>0.00</td>\n      <td>22.49</td>\n    </tr>\n    <tr>\n      <th>18-49</th>\n      <td>18004</td>\n      <td>4/22/2020</td>\n      <td>48.18</td>\n      <td>99.0</td>\n      <td>7.09</td>\n      <td>43.52</td>\n    </tr>\n    <tr>\n      <th>50-64</th>\n      <td>10025</td>\n      <td>4/22/2020</td>\n      <td>26.83</td>\n      <td>223.0</td>\n      <td>15.97</td>\n      <td>18.42</td>\n    </tr>\n    <tr>\n      <th>65 and Older</th>\n      <td>8401</td>\n      <td>4/22/2020</td>\n      <td>22.48</td>\n      <td>1074.0</td>\n      <td>76.93</td>\n      <td>15.57</td>\n    </tr>\n    <tr>\n      <th>0-17</th>\n      <td>936</td>\n      <td>4/23/2020</td>\n      <td>2.38</td>\n      <td>0.0</td>\n      <td>0.00</td>\n      <td>22.49</td>\n    </tr>\n    <tr>\n      <th>...</th>\n      <td>...</td>\n      <td>...</td>\n      <td>...</td>\n      <td>...</td>\n      <td>...</td>\n      <td>...</td>\n    </tr>\n    <tr>\n      <th>65+</th>\n      <td>106013</td>\n      <td>11/13/2020</td>\n      <td>10.50</td>\n      <td>13426.0</td>\n      <td>73.60</td>\n      <td>15.60</td>\n    </tr>\n    <tr>\n      <th>0-17</th>\n      <td>111029</td>\n      <td>11/14/2020</td>\n      <td>10.90</td>\n      <td>2.0</td>\n      <td>0.00</td>\n      <td>22.50</td>\n    </tr>\n    <tr>\n      <th>18-49</th>\n      <td>608738</td>\n      <td>11/14/2020</td>\n      <td>59.70</td>\n      <td>1325.0</td>\n      <td>7.20</td>\n      <td>43.50</td>\n    </tr>\n    <tr>\n      <th>50-64</th>\n      <td>191565</td>\n      <td>11/14/2020</td>\n      <td>18.80</td>\n      <td>3498.0</td>\n      <td>19.10</td>\n      <td>18.40</td>\n    </tr>\n    <tr>\n      <th>65+</th>\n      <td>107074</td>\n      <td>11/14/2020</td>\n      <td>10.50</td>\n      <td>13476.0</td>\n      <td>73.60</td>\n      <td>15.60</td>\n    </tr>\n  </tbody>\n</table>\n<p>828 rows × 6 columns</p>\n</div>"
     },
     "metadata": {},
     "execution_count": 22
    }
   ],
   "source": [
    "df_age_clean2 = df_age_group_index.drop([\"Missing\", \"Unknown\"])\n",
    "df_age_clean2"
   ]
  },
  {
   "cell_type": "code",
   "execution_count": 23,
   "metadata": {},
   "outputs": [
    {
     "output_type": "execute_result",
     "data": {
      "text/plain": [
       "age_group\n",
       "0-17             9970423\n",
       "18-49           60425975\n",
       "50-64           19625640\n",
       "65 and Older       55911\n",
       "65+             11499683\n",
       "Missing           112405\n",
       "Unknown             3536\n",
       "Name: totalpositive, dtype: int64"
      ]
     },
     "metadata": {},
     "execution_count": 23
    }
   ],
   "source": [
    "df_age_total_positive=df_age_clean.groupby(\"age_group\")[\"totalpositive\"].sum()\n",
    "df_age_total_positive"
   ]
  },
  {
   "cell_type": "code",
   "execution_count": 24,
   "metadata": {},
   "outputs": [
    {
     "output_type": "execute_result",
     "data": {
      "text/plain": [
       "age_group\n",
       "0-17            207\n",
       "18-49           207\n",
       "50-64           207\n",
       "65 and Older      6\n",
       "65+             201\n",
       "Missing         167\n",
       "Unknown          30\n",
       "Name: deaths, dtype: int64"
      ]
     },
     "metadata": {},
     "execution_count": 24
    }
   ],
   "source": [
    "df_age_death=df_age_clean.groupby(\"age_group\")[\"deaths\"].count()\n",
    "df_age_death"
   ]
  },
  {
   "cell_type": "code",
   "execution_count": null,
   "metadata": {},
   "outputs": [],
   "source": []
  },
  {
   "cell_type": "code",
   "execution_count": 25,
   "metadata": {},
   "outputs": [
    {
     "output_type": "execute_result",
     "data": {
      "text/plain": [
       "         sex  totalpositive2        date  case_percent   deaths  \\\n",
       "0     Female            5015    4/2/2020           NaN      NaN   \n",
       "1       Male            5547    4/2/2020           NaN      NaN   \n",
       "2    Unknown             139    4/2/2020           NaN      NaN   \n",
       "3     Female            5674    4/3/2020           NaN      NaN   \n",
       "4       Male            6202    4/3/2020           NaN      NaN   \n",
       "..       ...             ...         ...           ...      ...   \n",
       "680     Male          490387  11/13/2020          48.6  10426.0   \n",
       "681  Unknown            7821  11/13/2020           0.8     31.0   \n",
       "682   Female          515924  11/14/2020          50.6   7804.0   \n",
       "683     Male          495550  11/14/2020          48.6  10466.0   \n",
       "684  Unknown            7871  11/14/2020           0.8     32.0   \n",
       "\n",
       "     deaths_percent  ca_percent  \n",
       "0               NaN         NaN  \n",
       "1               NaN         NaN  \n",
       "2               NaN         NaN  \n",
       "3               NaN         NaN  \n",
       "4               NaN         NaN  \n",
       "..              ...         ...  \n",
       "680            57.2        49.7  \n",
       "681             0.2         0.0  \n",
       "682            42.6        50.3  \n",
       "683            57.2        49.7  \n",
       "684             0.2         0.0  \n",
       "\n",
       "[685 rows x 7 columns]"
      ],
      "text/html": "<div>\n<style scoped>\n    .dataframe tbody tr th:only-of-type {\n        vertical-align: middle;\n    }\n\n    .dataframe tbody tr th {\n        vertical-align: top;\n    }\n\n    .dataframe thead th {\n        text-align: right;\n    }\n</style>\n<table border=\"1\" class=\"dataframe\">\n  <thead>\n    <tr style=\"text-align: right;\">\n      <th></th>\n      <th>sex</th>\n      <th>totalpositive2</th>\n      <th>date</th>\n      <th>case_percent</th>\n      <th>deaths</th>\n      <th>deaths_percent</th>\n      <th>ca_percent</th>\n    </tr>\n  </thead>\n  <tbody>\n    <tr>\n      <th>0</th>\n      <td>Female</td>\n      <td>5015</td>\n      <td>4/2/2020</td>\n      <td>NaN</td>\n      <td>NaN</td>\n      <td>NaN</td>\n      <td>NaN</td>\n    </tr>\n    <tr>\n      <th>1</th>\n      <td>Male</td>\n      <td>5547</td>\n      <td>4/2/2020</td>\n      <td>NaN</td>\n      <td>NaN</td>\n      <td>NaN</td>\n      <td>NaN</td>\n    </tr>\n    <tr>\n      <th>2</th>\n      <td>Unknown</td>\n      <td>139</td>\n      <td>4/2/2020</td>\n      <td>NaN</td>\n      <td>NaN</td>\n      <td>NaN</td>\n      <td>NaN</td>\n    </tr>\n    <tr>\n      <th>3</th>\n      <td>Female</td>\n      <td>5674</td>\n      <td>4/3/2020</td>\n      <td>NaN</td>\n      <td>NaN</td>\n      <td>NaN</td>\n      <td>NaN</td>\n    </tr>\n    <tr>\n      <th>4</th>\n      <td>Male</td>\n      <td>6202</td>\n      <td>4/3/2020</td>\n      <td>NaN</td>\n      <td>NaN</td>\n      <td>NaN</td>\n      <td>NaN</td>\n    </tr>\n    <tr>\n      <th>...</th>\n      <td>...</td>\n      <td>...</td>\n      <td>...</td>\n      <td>...</td>\n      <td>...</td>\n      <td>...</td>\n      <td>...</td>\n    </tr>\n    <tr>\n      <th>680</th>\n      <td>Male</td>\n      <td>490387</td>\n      <td>11/13/2020</td>\n      <td>48.6</td>\n      <td>10426.0</td>\n      <td>57.2</td>\n      <td>49.7</td>\n    </tr>\n    <tr>\n      <th>681</th>\n      <td>Unknown</td>\n      <td>7821</td>\n      <td>11/13/2020</td>\n      <td>0.8</td>\n      <td>31.0</td>\n      <td>0.2</td>\n      <td>0.0</td>\n    </tr>\n    <tr>\n      <th>682</th>\n      <td>Female</td>\n      <td>515924</td>\n      <td>11/14/2020</td>\n      <td>50.6</td>\n      <td>7804.0</td>\n      <td>42.6</td>\n      <td>50.3</td>\n    </tr>\n    <tr>\n      <th>683</th>\n      <td>Male</td>\n      <td>495550</td>\n      <td>11/14/2020</td>\n      <td>48.6</td>\n      <td>10466.0</td>\n      <td>57.2</td>\n      <td>49.7</td>\n    </tr>\n    <tr>\n      <th>684</th>\n      <td>Unknown</td>\n      <td>7871</td>\n      <td>11/14/2020</td>\n      <td>0.8</td>\n      <td>32.0</td>\n      <td>0.2</td>\n      <td>0.0</td>\n    </tr>\n  </tbody>\n</table>\n<p>685 rows × 7 columns</p>\n</div>"
     },
     "metadata": {},
     "execution_count": 25
    }
   ],
   "source": [
    "df_by_sex = pd.read_csv(\"case_demographics_sex.csv\")\n",
    "df_by_sex"
   ]
  },
  {
   "cell_type": "code",
   "execution_count": 26,
   "metadata": {},
   "outputs": [
    {
     "output_type": "error",
     "ename": "TypeError",
     "evalue": "'DataFrame' object is not callable",
     "traceback": [
      "\u001b[1;31m---------------------------------------------------------------------------\u001b[0m",
      "\u001b[1;31mTypeError\u001b[0m                                 Traceback (most recent call last)",
      "\u001b[1;32m<ipython-input-26-7b5f6cd31845>\u001b[0m in \u001b[0;36m<module>\u001b[1;34m\u001b[0m\n\u001b[1;32m----> 1\u001b[1;33m \u001b[0mdf_by_sex\u001b[0m\u001b[1;33m(\u001b[0m\u001b[1;34m\"sex\"\u001b[0m\u001b[1;33m)\u001b[0m\u001b[1;33m[\u001b[0m\u001b[1;34m\"Transgender\"\u001b[0m\u001b[1;33m]\u001b[0m\u001b[1;33m.\u001b[0m\u001b[0mvalue_counts\u001b[0m\u001b[1;33m(\u001b[0m\u001b[1;33m)\u001b[0m\u001b[1;33m\u001b[0m\u001b[1;33m\u001b[0m\u001b[0m\n\u001b[0m",
      "\u001b[1;31mTypeError\u001b[0m: 'DataFrame' object is not callable"
     ]
    }
   ],
   "source": [
    "df_by_sex(\"sex\")[\"Transgender\"].value_counts()"
   ]
  },
  {
   "cell_type": "code",
   "execution_count": 27,
   "metadata": {},
   "outputs": [
    {
     "output_type": "execute_result",
     "data": {
      "text/plain": [
       "         sex  totalpositive2        date  case_percent   deaths  \\\n",
       "477  Unknown            6555    9/6/2020          0.90     23.0   \n",
       "171  Unknown             539   5/27/2020          0.50      5.0   \n",
       "158     Male           46595   5/23/2020         50.30   2033.0   \n",
       "140     Male           40533   5/17/2020         50.40   1800.0   \n",
       "144  Unknown             476   5/18/2020          0.60      4.0   \n",
       "29      Male           10330   4/10/2020           NaN      NaN   \n",
       "631   Female          461383  10/28/2020         50.50   7475.0   \n",
       "155     Male           45580   5/22/2020         50.30   2000.0   \n",
       "26      Male           10330   4/10/2020           NaN      NaN   \n",
       "222  Unknown             672   6/13/2020          0.50      5.0   \n",
       "340   Female          212405   7/22/2020         49.90   3409.0   \n",
       "39   Unknown             214   4/13/2020           NaN      NaN   \n",
       "8    Unknown             213    4/4/2020           NaN      NaN   \n",
       "28    Female            9981   4/10/2020           NaN      NaN   \n",
       "111  Unknown             429    5/7/2020          0.70      5.0   \n",
       "554     Male          399431   10/2/2020         48.70   9106.0   \n",
       "642  Unknown            7260  10/31/2020          0.80     31.0   \n",
       "282  Unknown            1196    7/2/2020          0.50      8.0   \n",
       "175   Female           52561   5/29/2020         49.20   1759.0   \n",
       "391   Female          281543    8/9/2020         50.10   4363.0   \n",
       "681  Unknown            7821  11/13/2020          0.80     31.0   \n",
       "215     Male           71605   6/11/2020         50.40   2700.0   \n",
       "660  Unknown            7494   11/6/2020          0.80     31.0   \n",
       "248     Male           89690   6/21/2020         50.40   3047.0   \n",
       "285  Unknown            1268    7/3/2020          0.50      8.0   \n",
       "408  Unknown            6605   8/14/2020          1.10     17.0   \n",
       "260     Male          101070   6/25/2020         50.40   3210.0   \n",
       "469   Female          367462    9/4/2020         50.50   5699.0   \n",
       "416     Male          307821   8/17/2020         48.70   6402.0   \n",
       "1       Male            5547    4/2/2020           NaN      NaN   \n",
       "337   Female          206176   7/21/2020         49.90   3346.0   \n",
       "666  Unknown            7614   11/8/2020          0.80     31.0   \n",
       "70    Female           20395   4/24/2020         49.58    625.0   \n",
       "153  Unknown             638   5/21/2020          0.70      4.0   \n",
       "657  Unknown            7456   11/5/2020          0.80     31.0   \n",
       "517   Female          394632   9/20/2020         50.50   6329.0   \n",
       "208   Female           66889    6/9/2020         49.10   2047.0   \n",
       "669  Unknown            7635   11/9/2020          0.80     31.0   \n",
       "444  Unknown            6696   8/26/2020          1.00     21.0   \n",
       "600  Unknown            6907  10/17/2020          0.80     30.0   \n",
       "355   Female          233477   7/27/2020         50.00   3607.0   \n",
       "610   Female          444925  10/21/2020         50.50   7327.0   \n",
       "60   Unknown             257   4/20/2020           NaN      NaN   \n",
       "556   Female          415440   10/3/2020         50.40   6821.0   \n",
       "440     Male          330194   8/25/2020         48.60   6998.0   \n",
       "102  Unknown             379    5/4/2020          0.70      5.0   \n",
       "151   Female           43272   5/21/2020         48.90   1562.0   \n",
       "199   Female           63173    6/6/2020         49.00   1979.0   \n",
       "548     Male          396552   9/30/2020         48.70   8997.0   \n",
       "650     Male          457423   11/3/2020         48.70  10166.0   \n",
       "\n",
       "     deaths_percent  ca_percent  \n",
       "477            0.20        0.00  \n",
       "171            0.10        0.00  \n",
       "158           55.80       49.70  \n",
       "140           56.00       49.70  \n",
       "144            0.10        0.00  \n",
       "29              NaN         NaN  \n",
       "631           42.70       50.30  \n",
       "155           55.70       49.70  \n",
       "26              NaN         NaN  \n",
       "222            0.10        0.00  \n",
       "340           42.90       50.30  \n",
       "39              NaN         NaN  \n",
       "8               NaN         NaN  \n",
       "28              NaN         NaN  \n",
       "111            0.20        0.00  \n",
       "554           57.20       49.70  \n",
       "642            0.20        0.00  \n",
       "282            0.10        0.00  \n",
       "175           44.10       50.30  \n",
       "391           42.60       50.30  \n",
       "681            0.20        0.00  \n",
       "215           55.90       49.70  \n",
       "660            0.20        0.00  \n",
       "248           56.20       49.70  \n",
       "285            0.10        0.00  \n",
       "408            0.20        0.00  \n",
       "260           56.10       49.70  \n",
       "469           42.30       50.30  \n",
       "416           57.40       49.70  \n",
       "1               NaN         NaN  \n",
       "337           42.90       50.30  \n",
       "666            0.20        0.00  \n",
       "70            39.73       50.31  \n",
       "153            0.10        0.00  \n",
       "657            0.20        0.00  \n",
       "517           42.60       50.30  \n",
       "208           43.90       50.30  \n",
       "669            0.20        0.00  \n",
       "444            0.20        0.00  \n",
       "600            0.20        0.00  \n",
       "355           42.80       50.30  \n",
       "610           42.80       50.30  \n",
       "60              NaN         NaN  \n",
       "556           42.60       50.30  \n",
       "440           57.60       49.70  \n",
       "102            0.20        0.00  \n",
       "151           44.10       50.30  \n",
       "199           44.00       50.30  \n",
       "548           57.10       49.70  \n",
       "650           57.20       49.70  "
      ],
      "text/html": "<div>\n<style scoped>\n    .dataframe tbody tr th:only-of-type {\n        vertical-align: middle;\n    }\n\n    .dataframe tbody tr th {\n        vertical-align: top;\n    }\n\n    .dataframe thead th {\n        text-align: right;\n    }\n</style>\n<table border=\"1\" class=\"dataframe\">\n  <thead>\n    <tr style=\"text-align: right;\">\n      <th></th>\n      <th>sex</th>\n      <th>totalpositive2</th>\n      <th>date</th>\n      <th>case_percent</th>\n      <th>deaths</th>\n      <th>deaths_percent</th>\n      <th>ca_percent</th>\n    </tr>\n  </thead>\n  <tbody>\n    <tr>\n      <th>477</th>\n      <td>Unknown</td>\n      <td>6555</td>\n      <td>9/6/2020</td>\n      <td>0.90</td>\n      <td>23.0</td>\n      <td>0.20</td>\n      <td>0.00</td>\n    </tr>\n    <tr>\n      <th>171</th>\n      <td>Unknown</td>\n      <td>539</td>\n      <td>5/27/2020</td>\n      <td>0.50</td>\n      <td>5.0</td>\n      <td>0.10</td>\n      <td>0.00</td>\n    </tr>\n    <tr>\n      <th>158</th>\n      <td>Male</td>\n      <td>46595</td>\n      <td>5/23/2020</td>\n      <td>50.30</td>\n      <td>2033.0</td>\n      <td>55.80</td>\n      <td>49.70</td>\n    </tr>\n    <tr>\n      <th>140</th>\n      <td>Male</td>\n      <td>40533</td>\n      <td>5/17/2020</td>\n      <td>50.40</td>\n      <td>1800.0</td>\n      <td>56.00</td>\n      <td>49.70</td>\n    </tr>\n    <tr>\n      <th>144</th>\n      <td>Unknown</td>\n      <td>476</td>\n      <td>5/18/2020</td>\n      <td>0.60</td>\n      <td>4.0</td>\n      <td>0.10</td>\n      <td>0.00</td>\n    </tr>\n    <tr>\n      <th>29</th>\n      <td>Male</td>\n      <td>10330</td>\n      <td>4/10/2020</td>\n      <td>NaN</td>\n      <td>NaN</td>\n      <td>NaN</td>\n      <td>NaN</td>\n    </tr>\n    <tr>\n      <th>631</th>\n      <td>Female</td>\n      <td>461383</td>\n      <td>10/28/2020</td>\n      <td>50.50</td>\n      <td>7475.0</td>\n      <td>42.70</td>\n      <td>50.30</td>\n    </tr>\n    <tr>\n      <th>155</th>\n      <td>Male</td>\n      <td>45580</td>\n      <td>5/22/2020</td>\n      <td>50.30</td>\n      <td>2000.0</td>\n      <td>55.70</td>\n      <td>49.70</td>\n    </tr>\n    <tr>\n      <th>26</th>\n      <td>Male</td>\n      <td>10330</td>\n      <td>4/10/2020</td>\n      <td>NaN</td>\n      <td>NaN</td>\n      <td>NaN</td>\n      <td>NaN</td>\n    </tr>\n    <tr>\n      <th>222</th>\n      <td>Unknown</td>\n      <td>672</td>\n      <td>6/13/2020</td>\n      <td>0.50</td>\n      <td>5.0</td>\n      <td>0.10</td>\n      <td>0.00</td>\n    </tr>\n    <tr>\n      <th>340</th>\n      <td>Female</td>\n      <td>212405</td>\n      <td>7/22/2020</td>\n      <td>49.90</td>\n      <td>3409.0</td>\n      <td>42.90</td>\n      <td>50.30</td>\n    </tr>\n    <tr>\n      <th>39</th>\n      <td>Unknown</td>\n      <td>214</td>\n      <td>4/13/2020</td>\n      <td>NaN</td>\n      <td>NaN</td>\n      <td>NaN</td>\n      <td>NaN</td>\n    </tr>\n    <tr>\n      <th>8</th>\n      <td>Unknown</td>\n      <td>213</td>\n      <td>4/4/2020</td>\n      <td>NaN</td>\n      <td>NaN</td>\n      <td>NaN</td>\n      <td>NaN</td>\n    </tr>\n    <tr>\n      <th>28</th>\n      <td>Female</td>\n      <td>9981</td>\n      <td>4/10/2020</td>\n      <td>NaN</td>\n      <td>NaN</td>\n      <td>NaN</td>\n      <td>NaN</td>\n    </tr>\n    <tr>\n      <th>111</th>\n      <td>Unknown</td>\n      <td>429</td>\n      <td>5/7/2020</td>\n      <td>0.70</td>\n      <td>5.0</td>\n      <td>0.20</td>\n      <td>0.00</td>\n    </tr>\n    <tr>\n      <th>554</th>\n      <td>Male</td>\n      <td>399431</td>\n      <td>10/2/2020</td>\n      <td>48.70</td>\n      <td>9106.0</td>\n      <td>57.20</td>\n      <td>49.70</td>\n    </tr>\n    <tr>\n      <th>642</th>\n      <td>Unknown</td>\n      <td>7260</td>\n      <td>10/31/2020</td>\n      <td>0.80</td>\n      <td>31.0</td>\n      <td>0.20</td>\n      <td>0.00</td>\n    </tr>\n    <tr>\n      <th>282</th>\n      <td>Unknown</td>\n      <td>1196</td>\n      <td>7/2/2020</td>\n      <td>0.50</td>\n      <td>8.0</td>\n      <td>0.10</td>\n      <td>0.00</td>\n    </tr>\n    <tr>\n      <th>175</th>\n      <td>Female</td>\n      <td>52561</td>\n      <td>5/29/2020</td>\n      <td>49.20</td>\n      <td>1759.0</td>\n      <td>44.10</td>\n      <td>50.30</td>\n    </tr>\n    <tr>\n      <th>391</th>\n      <td>Female</td>\n      <td>281543</td>\n      <td>8/9/2020</td>\n      <td>50.10</td>\n      <td>4363.0</td>\n      <td>42.60</td>\n      <td>50.30</td>\n    </tr>\n    <tr>\n      <th>681</th>\n      <td>Unknown</td>\n      <td>7821</td>\n      <td>11/13/2020</td>\n      <td>0.80</td>\n      <td>31.0</td>\n      <td>0.20</td>\n      <td>0.00</td>\n    </tr>\n    <tr>\n      <th>215</th>\n      <td>Male</td>\n      <td>71605</td>\n      <td>6/11/2020</td>\n      <td>50.40</td>\n      <td>2700.0</td>\n      <td>55.90</td>\n      <td>49.70</td>\n    </tr>\n    <tr>\n      <th>660</th>\n      <td>Unknown</td>\n      <td>7494</td>\n      <td>11/6/2020</td>\n      <td>0.80</td>\n      <td>31.0</td>\n      <td>0.20</td>\n      <td>0.00</td>\n    </tr>\n    <tr>\n      <th>248</th>\n      <td>Male</td>\n      <td>89690</td>\n      <td>6/21/2020</td>\n      <td>50.40</td>\n      <td>3047.0</td>\n      <td>56.20</td>\n      <td>49.70</td>\n    </tr>\n    <tr>\n      <th>285</th>\n      <td>Unknown</td>\n      <td>1268</td>\n      <td>7/3/2020</td>\n      <td>0.50</td>\n      <td>8.0</td>\n      <td>0.10</td>\n      <td>0.00</td>\n    </tr>\n    <tr>\n      <th>408</th>\n      <td>Unknown</td>\n      <td>6605</td>\n      <td>8/14/2020</td>\n      <td>1.10</td>\n      <td>17.0</td>\n      <td>0.20</td>\n      <td>0.00</td>\n    </tr>\n    <tr>\n      <th>260</th>\n      <td>Male</td>\n      <td>101070</td>\n      <td>6/25/2020</td>\n      <td>50.40</td>\n      <td>3210.0</td>\n      <td>56.10</td>\n      <td>49.70</td>\n    </tr>\n    <tr>\n      <th>469</th>\n      <td>Female</td>\n      <td>367462</td>\n      <td>9/4/2020</td>\n      <td>50.50</td>\n      <td>5699.0</td>\n      <td>42.30</td>\n      <td>50.30</td>\n    </tr>\n    <tr>\n      <th>416</th>\n      <td>Male</td>\n      <td>307821</td>\n      <td>8/17/2020</td>\n      <td>48.70</td>\n      <td>6402.0</td>\n      <td>57.40</td>\n      <td>49.70</td>\n    </tr>\n    <tr>\n      <th>1</th>\n      <td>Male</td>\n      <td>5547</td>\n      <td>4/2/2020</td>\n      <td>NaN</td>\n      <td>NaN</td>\n      <td>NaN</td>\n      <td>NaN</td>\n    </tr>\n    <tr>\n      <th>337</th>\n      <td>Female</td>\n      <td>206176</td>\n      <td>7/21/2020</td>\n      <td>49.90</td>\n      <td>3346.0</td>\n      <td>42.90</td>\n      <td>50.30</td>\n    </tr>\n    <tr>\n      <th>666</th>\n      <td>Unknown</td>\n      <td>7614</td>\n      <td>11/8/2020</td>\n      <td>0.80</td>\n      <td>31.0</td>\n      <td>0.20</td>\n      <td>0.00</td>\n    </tr>\n    <tr>\n      <th>70</th>\n      <td>Female</td>\n      <td>20395</td>\n      <td>4/24/2020</td>\n      <td>49.58</td>\n      <td>625.0</td>\n      <td>39.73</td>\n      <td>50.31</td>\n    </tr>\n    <tr>\n      <th>153</th>\n      <td>Unknown</td>\n      <td>638</td>\n      <td>5/21/2020</td>\n      <td>0.70</td>\n      <td>4.0</td>\n      <td>0.10</td>\n      <td>0.00</td>\n    </tr>\n    <tr>\n      <th>657</th>\n      <td>Unknown</td>\n      <td>7456</td>\n      <td>11/5/2020</td>\n      <td>0.80</td>\n      <td>31.0</td>\n      <td>0.20</td>\n      <td>0.00</td>\n    </tr>\n    <tr>\n      <th>517</th>\n      <td>Female</td>\n      <td>394632</td>\n      <td>9/20/2020</td>\n      <td>50.50</td>\n      <td>6329.0</td>\n      <td>42.60</td>\n      <td>50.30</td>\n    </tr>\n    <tr>\n      <th>208</th>\n      <td>Female</td>\n      <td>66889</td>\n      <td>6/9/2020</td>\n      <td>49.10</td>\n      <td>2047.0</td>\n      <td>43.90</td>\n      <td>50.30</td>\n    </tr>\n    <tr>\n      <th>669</th>\n      <td>Unknown</td>\n      <td>7635</td>\n      <td>11/9/2020</td>\n      <td>0.80</td>\n      <td>31.0</td>\n      <td>0.20</td>\n      <td>0.00</td>\n    </tr>\n    <tr>\n      <th>444</th>\n      <td>Unknown</td>\n      <td>6696</td>\n      <td>8/26/2020</td>\n      <td>1.00</td>\n      <td>21.0</td>\n      <td>0.20</td>\n      <td>0.00</td>\n    </tr>\n    <tr>\n      <th>600</th>\n      <td>Unknown</td>\n      <td>6907</td>\n      <td>10/17/2020</td>\n      <td>0.80</td>\n      <td>30.0</td>\n      <td>0.20</td>\n      <td>0.00</td>\n    </tr>\n    <tr>\n      <th>355</th>\n      <td>Female</td>\n      <td>233477</td>\n      <td>7/27/2020</td>\n      <td>50.00</td>\n      <td>3607.0</td>\n      <td>42.80</td>\n      <td>50.30</td>\n    </tr>\n    <tr>\n      <th>610</th>\n      <td>Female</td>\n      <td>444925</td>\n      <td>10/21/2020</td>\n      <td>50.50</td>\n      <td>7327.0</td>\n      <td>42.80</td>\n      <td>50.30</td>\n    </tr>\n    <tr>\n      <th>60</th>\n      <td>Unknown</td>\n      <td>257</td>\n      <td>4/20/2020</td>\n      <td>NaN</td>\n      <td>NaN</td>\n      <td>NaN</td>\n      <td>NaN</td>\n    </tr>\n    <tr>\n      <th>556</th>\n      <td>Female</td>\n      <td>415440</td>\n      <td>10/3/2020</td>\n      <td>50.40</td>\n      <td>6821.0</td>\n      <td>42.60</td>\n      <td>50.30</td>\n    </tr>\n    <tr>\n      <th>440</th>\n      <td>Male</td>\n      <td>330194</td>\n      <td>8/25/2020</td>\n      <td>48.60</td>\n      <td>6998.0</td>\n      <td>57.60</td>\n      <td>49.70</td>\n    </tr>\n    <tr>\n      <th>102</th>\n      <td>Unknown</td>\n      <td>379</td>\n      <td>5/4/2020</td>\n      <td>0.70</td>\n      <td>5.0</td>\n      <td>0.20</td>\n      <td>0.00</td>\n    </tr>\n    <tr>\n      <th>151</th>\n      <td>Female</td>\n      <td>43272</td>\n      <td>5/21/2020</td>\n      <td>48.90</td>\n      <td>1562.0</td>\n      <td>44.10</td>\n      <td>50.30</td>\n    </tr>\n    <tr>\n      <th>199</th>\n      <td>Female</td>\n      <td>63173</td>\n      <td>6/6/2020</td>\n      <td>49.00</td>\n      <td>1979.0</td>\n      <td>44.00</td>\n      <td>50.30</td>\n    </tr>\n    <tr>\n      <th>548</th>\n      <td>Male</td>\n      <td>396552</td>\n      <td>9/30/2020</td>\n      <td>48.70</td>\n      <td>8997.0</td>\n      <td>57.10</td>\n      <td>49.70</td>\n    </tr>\n    <tr>\n      <th>650</th>\n      <td>Male</td>\n      <td>457423</td>\n      <td>11/3/2020</td>\n      <td>48.70</td>\n      <td>10166.0</td>\n      <td>57.20</td>\n      <td>49.70</td>\n    </tr>\n  </tbody>\n</table>\n</div>"
     },
     "metadata": {},
     "execution_count": 27
    }
   ],
   "source": [
    "df_by_sex.sample(50)"
   ]
  },
  {
   "cell_type": "code",
   "execution_count": 28,
   "metadata": {},
   "outputs": [
    {
     "output_type": "execute_result",
     "data": {
      "text/plain": [
       "         sex  totalpositive2        date  case_percent   deaths  \\\n",
       "64    Female           18395   4/22/2020         49.23    552.0   \n",
       "65      Male           18690   4/22/2020         50.01    839.0   \n",
       "67    Female           19394   4/23/2020         49.41    593.0   \n",
       "68      Male           19577   4/23/2020         49.87    891.0   \n",
       "70    Female           20395   4/24/2020         49.58    625.0   \n",
       "..       ...             ...         ...           ...      ...   \n",
       "680     Male          490387  11/13/2020         48.60  10426.0   \n",
       "681  Unknown            7821  11/13/2020          0.80     31.0   \n",
       "682   Female          515924  11/14/2020         50.60   7804.0   \n",
       "683     Male          495550  11/14/2020         48.60  10466.0   \n",
       "684  Unknown            7871  11/14/2020          0.80     32.0   \n",
       "\n",
       "     deaths_percent  ca_percent  \n",
       "64            39.54       50.31  \n",
       "65            60.10       49.69  \n",
       "67            39.82       50.31  \n",
       "68            59.84       49.69  \n",
       "70            39.73       50.31  \n",
       "..              ...         ...  \n",
       "680           57.20       49.70  \n",
       "681            0.20        0.00  \n",
       "682           42.60       50.30  \n",
       "683           57.20       49.70  \n",
       "684            0.20        0.00  \n",
       "\n",
       "[611 rows x 7 columns]"
      ],
      "text/html": "<div>\n<style scoped>\n    .dataframe tbody tr th:only-of-type {\n        vertical-align: middle;\n    }\n\n    .dataframe tbody tr th {\n        vertical-align: top;\n    }\n\n    .dataframe thead th {\n        text-align: right;\n    }\n</style>\n<table border=\"1\" class=\"dataframe\">\n  <thead>\n    <tr style=\"text-align: right;\">\n      <th></th>\n      <th>sex</th>\n      <th>totalpositive2</th>\n      <th>date</th>\n      <th>case_percent</th>\n      <th>deaths</th>\n      <th>deaths_percent</th>\n      <th>ca_percent</th>\n    </tr>\n  </thead>\n  <tbody>\n    <tr>\n      <th>64</th>\n      <td>Female</td>\n      <td>18395</td>\n      <td>4/22/2020</td>\n      <td>49.23</td>\n      <td>552.0</td>\n      <td>39.54</td>\n      <td>50.31</td>\n    </tr>\n    <tr>\n      <th>65</th>\n      <td>Male</td>\n      <td>18690</td>\n      <td>4/22/2020</td>\n      <td>50.01</td>\n      <td>839.0</td>\n      <td>60.10</td>\n      <td>49.69</td>\n    </tr>\n    <tr>\n      <th>67</th>\n      <td>Female</td>\n      <td>19394</td>\n      <td>4/23/2020</td>\n      <td>49.41</td>\n      <td>593.0</td>\n      <td>39.82</td>\n      <td>50.31</td>\n    </tr>\n    <tr>\n      <th>68</th>\n      <td>Male</td>\n      <td>19577</td>\n      <td>4/23/2020</td>\n      <td>49.87</td>\n      <td>891.0</td>\n      <td>59.84</td>\n      <td>49.69</td>\n    </tr>\n    <tr>\n      <th>70</th>\n      <td>Female</td>\n      <td>20395</td>\n      <td>4/24/2020</td>\n      <td>49.58</td>\n      <td>625.0</td>\n      <td>39.73</td>\n      <td>50.31</td>\n    </tr>\n    <tr>\n      <th>...</th>\n      <td>...</td>\n      <td>...</td>\n      <td>...</td>\n      <td>...</td>\n      <td>...</td>\n      <td>...</td>\n      <td>...</td>\n    </tr>\n    <tr>\n      <th>680</th>\n      <td>Male</td>\n      <td>490387</td>\n      <td>11/13/2020</td>\n      <td>48.60</td>\n      <td>10426.0</td>\n      <td>57.20</td>\n      <td>49.70</td>\n    </tr>\n    <tr>\n      <th>681</th>\n      <td>Unknown</td>\n      <td>7821</td>\n      <td>11/13/2020</td>\n      <td>0.80</td>\n      <td>31.0</td>\n      <td>0.20</td>\n      <td>0.00</td>\n    </tr>\n    <tr>\n      <th>682</th>\n      <td>Female</td>\n      <td>515924</td>\n      <td>11/14/2020</td>\n      <td>50.60</td>\n      <td>7804.0</td>\n      <td>42.60</td>\n      <td>50.30</td>\n    </tr>\n    <tr>\n      <th>683</th>\n      <td>Male</td>\n      <td>495550</td>\n      <td>11/14/2020</td>\n      <td>48.60</td>\n      <td>10466.0</td>\n      <td>57.20</td>\n      <td>49.70</td>\n    </tr>\n    <tr>\n      <th>684</th>\n      <td>Unknown</td>\n      <td>7871</td>\n      <td>11/14/2020</td>\n      <td>0.80</td>\n      <td>32.0</td>\n      <td>0.20</td>\n      <td>0.00</td>\n    </tr>\n  </tbody>\n</table>\n<p>611 rows × 7 columns</p>\n</div>"
     },
     "metadata": {},
     "execution_count": 28
    }
   ],
   "source": [
    "clean_sex_df = df_by_sex.dropna()\n",
    "clean_sex_df"
   ]
  },
  {
   "cell_type": "code",
   "execution_count": null,
   "metadata": {},
   "outputs": [],
   "source": []
  },
  {
   "cell_type": "code",
   "execution_count": 44,
   "metadata": {},
   "outputs": [
    {
     "output_type": "execute_result",
     "data": {
      "text/plain": [
       "sex\n",
       "Female     515924\n",
       "Male       495550\n",
       "Unknown      7871\n",
       "Name: totalpositive2, dtype: int64"
      ]
     },
     "metadata": {},
     "execution_count": 44
    }
   ],
   "source": [
    "value_counts_sex_df = clean_sex_df.groupby(\"sex\")[\"totalpositive2\"].max()\n",
    "value_counts_sex_df"
   ]
  },
  {
   "cell_type": "code",
   "execution_count": 60,
   "metadata": {},
   "outputs": [
    {
     "output_type": "execute_result",
     "data": {
      "text/plain": [
       "         totalpositive2\n",
       "sex                    \n",
       "Female           515924\n",
       "Male             495550\n",
       "Unknown            7871"
      ],
      "text/html": "<div>\n<style scoped>\n    .dataframe tbody tr th:only-of-type {\n        vertical-align: middle;\n    }\n\n    .dataframe tbody tr th {\n        vertical-align: top;\n    }\n\n    .dataframe thead th {\n        text-align: right;\n    }\n</style>\n<table border=\"1\" class=\"dataframe\">\n  <thead>\n    <tr style=\"text-align: right;\">\n      <th></th>\n      <th>totalpositive2</th>\n    </tr>\n    <tr>\n      <th>sex</th>\n      <th></th>\n    </tr>\n  </thead>\n  <tbody>\n    <tr>\n      <th>Female</th>\n      <td>515924</td>\n    </tr>\n    <tr>\n      <th>Male</th>\n      <td>495550</td>\n    </tr>\n    <tr>\n      <th>Unknown</th>\n      <td>7871</td>\n    </tr>\n  </tbody>\n</table>\n</div>"
     },
     "metadata": {},
     "execution_count": 60
    }
   ],
   "source": [
    "Sex_values_df = pd.DataFrame({\"totalpositive2\": value_counts_sex_df})\n",
    "Sex_values_df"
   ]
  },
  {
   "cell_type": "code",
   "execution_count": 67,
   "metadata": {},
   "outputs": [
    {
     "output_type": "error",
     "ename": "ValueError",
     "evalue": "Can only compare identically-labeled DataFrame objects",
     "traceback": [
      "\u001b[1;31m---------------------------------------------------------------------------\u001b[0m",
      "\u001b[1;31mValueError\u001b[0m                                Traceback (most recent call last)",
      "\u001b[1;32m<ipython-input-67-b0b534e58e81>\u001b[0m in \u001b[0;36m<module>\u001b[1;34m\u001b[0m\n\u001b[1;32m----> 1\u001b[1;33m \u001b[0mlastest_total_df\u001b[0m\u001b[1;33m=\u001b[0m \u001b[0mclean_sex_df\u001b[0m\u001b[1;33m.\u001b[0m\u001b[0mloc\u001b[0m\u001b[1;33m[\u001b[0m\u001b[1;33m(\u001b[0m\u001b[0mclean_sex_df\u001b[0m \u001b[1;33m==\u001b[0m \u001b[0mSex_values_df\u001b[0m\u001b[1;33m)\u001b[0m\u001b[1;33m]\u001b[0m\u001b[1;33m\u001b[0m\u001b[1;33m\u001b[0m\u001b[0m\n\u001b[0m\u001b[0;32m      2\u001b[0m \u001b[0mlastest_total_df\u001b[0m\u001b[1;33m\u001b[0m\u001b[1;33m\u001b[0m\u001b[0m\n",
      "\u001b[1;32m~\\anaconda3\\envs\\projects\\lib\\site-packages\\pandas\\core\\ops\\__init__.py\u001b[0m in \u001b[0;36mf\u001b[1;34m(self, other)\u001b[0m\n\u001b[0;32m    836\u001b[0m             \u001b[1;31m# Another DataFrame\u001b[0m\u001b[1;33m\u001b[0m\u001b[1;33m\u001b[0m\u001b[1;33m\u001b[0m\u001b[0m\n\u001b[0;32m    837\u001b[0m             \u001b[1;32mif\u001b[0m \u001b[1;32mnot\u001b[0m \u001b[0mself\u001b[0m\u001b[1;33m.\u001b[0m\u001b[0m_indexed_same\u001b[0m\u001b[1;33m(\u001b[0m\u001b[0mother\u001b[0m\u001b[1;33m)\u001b[0m\u001b[1;33m:\u001b[0m\u001b[1;33m\u001b[0m\u001b[1;33m\u001b[0m\u001b[0m\n\u001b[1;32m--> 838\u001b[1;33m                 raise ValueError(\n\u001b[0m\u001b[0;32m    839\u001b[0m                     \u001b[1;34m\"Can only compare identically-labeled DataFrame objects\"\u001b[0m\u001b[1;33m\u001b[0m\u001b[1;33m\u001b[0m\u001b[0m\n\u001b[0;32m    840\u001b[0m                 )\n",
      "\u001b[1;31mValueError\u001b[0m: Can only compare identically-labeled DataFrame objects"
     ]
    }
   ],
   "source": [
    "lastest_total_df= clean_sex_df.loc[(clean_sex_df['sex'] == Sex_values_df['totalpositive2'])]\n",
    "lastest_total_df"
   ]
  },
  {
   "cell_type": "code",
   "execution_count": null,
   "metadata": {},
   "outputs": [],
   "source": [
    "clean_sex_df[\"sex\"].value_counts()"
   ]
  },
  {
   "cell_type": "code",
   "execution_count": null,
   "metadata": {},
   "outputs": [],
   "source": [
    "df_by_ethnic = pd.read_csv(\"case_demographics_ethnicity.csv\")\n",
    "df_by_ethnic"
   ]
  },
  {
   "cell_type": "code",
   "execution_count": null,
   "metadata": {},
   "outputs": [],
   "source": [
    "df_by_ethnic.sample(50)"
   ]
  },
  {
   "cell_type": "code",
   "execution_count": null,
   "metadata": {},
   "outputs": [],
   "source": [
    "df_by_ethnic.dropna()"
   ]
  },
  {
   "cell_type": "code",
   "execution_count": null,
   "metadata": {},
   "outputs": [],
   "source": []
  },
  {
   "cell_type": "code",
   "execution_count": null,
   "metadata": {},
   "outputs": [],
   "source": [
    "df_unemployment = pd.read_csv(\"Unemployment_Rate_by_Age_Groups.csv\")\n",
    "df_unemployment"
   ]
  },
  {
   "cell_type": "code",
   "execution_count": null,
   "metadata": {},
   "outputs": [],
   "source": [
    "df_unemployment.sample(50)"
   ]
  },
  {
   "cell_type": "code",
   "execution_count": null,
   "metadata": {},
   "outputs": [],
   "source": [
    "df_unemployment.dropna()"
   ]
  },
  {
   "cell_type": "code",
   "execution_count": null,
   "metadata": {},
   "outputs": [],
   "source": [
    "df_homeless = pd.read_csv(\"homeless_impact.csv\")\n",
    "df_homeless"
   ]
  },
  {
   "cell_type": "code",
   "execution_count": null,
   "metadata": {},
   "outputs": [],
   "source": [
    "df_homeless.sample(50)"
   ]
  },
  {
   "cell_type": "code",
   "execution_count": null,
   "metadata": {},
   "outputs": [],
   "source": [
    "df_juvenile_facilities = pd.read_csv('juvenile_facilities_covid19.csv')\n",
    "df_juvenile_facilities"
   ]
  },
  {
   "cell_type": "code",
   "execution_count": null,
   "metadata": {},
   "outputs": [],
   "source": [
    "df_juvenile_facilities.sample(50)\n",
    "#elimanate optional column "
   ]
  },
  {
   "cell_type": "code",
   "execution_count": null,
   "metadata": {},
   "outputs": [],
   "source": [
    "df_adult_facilities = pd.read_csv('adult_facilities_covid19.csv')\n",
    "df_adult_facilities"
   ]
  },
  {
   "cell_type": "code",
   "execution_count": null,
   "metadata": {},
   "outputs": [],
   "source": [
    "df_adult_facilities.sample(50)"
   ]
  },
  {
   "cell_type": "code",
   "execution_count": null,
   "metadata": {},
   "outputs": [],
   "source": []
  }
 ]
}