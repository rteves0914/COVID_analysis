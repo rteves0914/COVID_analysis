{
 "cells": [
  {
   "cell_type": "code",
   "execution_count": 1,
   "metadata": {},
   "outputs": [],
   "source": [
    "#import\n",
    "import pandas as pd\n",
    "import matplotlib.pyplot as plt\n",
    "import scipy.stats as sts\n",
    "import numpy as np\n",
    "import requests\n",
    "import json"
   ]
  },
  {
   "cell_type": "code",
   "execution_count": 2,
   "metadata": {},
   "outputs": [
    {
     "data": {
      "text/html": [
       "<div>\n",
       "<style scoped>\n",
       "    .dataframe tbody tr th:only-of-type {\n",
       "        vertical-align: middle;\n",
       "    }\n",
       "\n",
       "    .dataframe tbody tr th {\n",
       "        vertical-align: top;\n",
       "    }\n",
       "\n",
       "    .dataframe thead th {\n",
       "        text-align: right;\n",
       "    }\n",
       "</style>\n",
       "<table border=\"1\" class=\"dataframe\">\n",
       "  <thead>\n",
       "    <tr style=\"text-align: right;\">\n",
       "      <th></th>\n",
       "      <th>sex</th>\n",
       "      <th>totalpositive2</th>\n",
       "      <th>date</th>\n",
       "      <th>case_percent</th>\n",
       "      <th>deaths</th>\n",
       "      <th>deaths_percent</th>\n",
       "      <th>ca_percent</th>\n",
       "    </tr>\n",
       "  </thead>\n",
       "  <tbody>\n",
       "    <tr>\n",
       "      <th>0</th>\n",
       "      <td>Female</td>\n",
       "      <td>5015</td>\n",
       "      <td>2020-04-02</td>\n",
       "      <td>NaN</td>\n",
       "      <td>NaN</td>\n",
       "      <td>NaN</td>\n",
       "      <td>NaN</td>\n",
       "    </tr>\n",
       "    <tr>\n",
       "      <th>1</th>\n",
       "      <td>Male</td>\n",
       "      <td>5547</td>\n",
       "      <td>2020-04-02</td>\n",
       "      <td>NaN</td>\n",
       "      <td>NaN</td>\n",
       "      <td>NaN</td>\n",
       "      <td>NaN</td>\n",
       "    </tr>\n",
       "    <tr>\n",
       "      <th>2</th>\n",
       "      <td>Unknown</td>\n",
       "      <td>139</td>\n",
       "      <td>2020-04-02</td>\n",
       "      <td>NaN</td>\n",
       "      <td>NaN</td>\n",
       "      <td>NaN</td>\n",
       "      <td>NaN</td>\n",
       "    </tr>\n",
       "    <tr>\n",
       "      <th>3</th>\n",
       "      <td>Female</td>\n",
       "      <td>5674</td>\n",
       "      <td>2020-04-03</td>\n",
       "      <td>NaN</td>\n",
       "      <td>NaN</td>\n",
       "      <td>NaN</td>\n",
       "      <td>NaN</td>\n",
       "    </tr>\n",
       "    <tr>\n",
       "      <th>4</th>\n",
       "      <td>Male</td>\n",
       "      <td>6202</td>\n",
       "      <td>2020-04-03</td>\n",
       "      <td>NaN</td>\n",
       "      <td>NaN</td>\n",
       "      <td>NaN</td>\n",
       "      <td>NaN</td>\n",
       "    </tr>\n",
       "    <tr>\n",
       "      <th>...</th>\n",
       "      <td>...</td>\n",
       "      <td>...</td>\n",
       "      <td>...</td>\n",
       "      <td>...</td>\n",
       "      <td>...</td>\n",
       "      <td>...</td>\n",
       "      <td>...</td>\n",
       "    </tr>\n",
       "    <tr>\n",
       "      <th>677</th>\n",
       "      <td>Male</td>\n",
       "      <td>485678</td>\n",
       "      <td>2020-11-12</td>\n",
       "      <td>48.6</td>\n",
       "      <td>10379.0</td>\n",
       "      <td>57.1</td>\n",
       "      <td>49.7</td>\n",
       "    </tr>\n",
       "    <tr>\n",
       "      <th>678</th>\n",
       "      <td>Unknown</td>\n",
       "      <td>7773</td>\n",
       "      <td>2020-11-12</td>\n",
       "      <td>0.8</td>\n",
       "      <td>31.0</td>\n",
       "      <td>0.2</td>\n",
       "      <td>0.0</td>\n",
       "    </tr>\n",
       "    <tr>\n",
       "      <th>679</th>\n",
       "      <td>Female</td>\n",
       "      <td>510169</td>\n",
       "      <td>2020-11-13</td>\n",
       "      <td>50.6</td>\n",
       "      <td>7780.0</td>\n",
       "      <td>42.7</td>\n",
       "      <td>50.3</td>\n",
       "    </tr>\n",
       "    <tr>\n",
       "      <th>680</th>\n",
       "      <td>Male</td>\n",
       "      <td>490387</td>\n",
       "      <td>2020-11-13</td>\n",
       "      <td>48.6</td>\n",
       "      <td>10426.0</td>\n",
       "      <td>57.2</td>\n",
       "      <td>49.7</td>\n",
       "    </tr>\n",
       "    <tr>\n",
       "      <th>681</th>\n",
       "      <td>Unknown</td>\n",
       "      <td>7821</td>\n",
       "      <td>2020-11-13</td>\n",
       "      <td>0.8</td>\n",
       "      <td>31.0</td>\n",
       "      <td>0.2</td>\n",
       "      <td>0.0</td>\n",
       "    </tr>\n",
       "  </tbody>\n",
       "</table>\n",
       "<p>682 rows × 7 columns</p>\n",
       "</div>"
      ],
      "text/plain": [
       "         sex  totalpositive2        date  case_percent   deaths  \\\n",
       "0     Female            5015  2020-04-02           NaN      NaN   \n",
       "1       Male            5547  2020-04-02           NaN      NaN   \n",
       "2    Unknown             139  2020-04-02           NaN      NaN   \n",
       "3     Female            5674  2020-04-03           NaN      NaN   \n",
       "4       Male            6202  2020-04-03           NaN      NaN   \n",
       "..       ...             ...         ...           ...      ...   \n",
       "677     Male          485678  2020-11-12          48.6  10379.0   \n",
       "678  Unknown            7773  2020-11-12           0.8     31.0   \n",
       "679   Female          510169  2020-11-13          50.6   7780.0   \n",
       "680     Male          490387  2020-11-13          48.6  10426.0   \n",
       "681  Unknown            7821  2020-11-13           0.8     31.0   \n",
       "\n",
       "     deaths_percent  ca_percent  \n",
       "0               NaN         NaN  \n",
       "1               NaN         NaN  \n",
       "2               NaN         NaN  \n",
       "3               NaN         NaN  \n",
       "4               NaN         NaN  \n",
       "..              ...         ...  \n",
       "677            57.1        49.7  \n",
       "678             0.2         0.0  \n",
       "679            42.7        50.3  \n",
       "680            57.2        49.7  \n",
       "681             0.2         0.0  \n",
       "\n",
       "[682 rows x 7 columns]"
      ]
     },
     "execution_count": 2,
     "metadata": {},
     "output_type": "execute_result"
    }
   ],
   "source": [
    "#import and create csv path\n",
    "#print dataframe\n",
    "df_by_sex = pd.read_csv(\"case_demographics_sex.csv\")\n",
    "df_by_sex"
   ]
  },
  {
   "cell_type": "code",
   "execution_count": 3,
   "metadata": {},
   "outputs": [
    {
     "data": {
      "text/html": [
       "<div>\n",
       "<style scoped>\n",
       "    .dataframe tbody tr th:only-of-type {\n",
       "        vertical-align: middle;\n",
       "    }\n",
       "\n",
       "    .dataframe tbody tr th {\n",
       "        vertical-align: top;\n",
       "    }\n",
       "\n",
       "    .dataframe thead th {\n",
       "        text-align: right;\n",
       "    }\n",
       "</style>\n",
       "<table border=\"1\" class=\"dataframe\">\n",
       "  <thead>\n",
       "    <tr style=\"text-align: right;\">\n",
       "      <th></th>\n",
       "      <th>sex</th>\n",
       "      <th>totalpositive2</th>\n",
       "      <th>date</th>\n",
       "      <th>case_percent</th>\n",
       "      <th>deaths</th>\n",
       "      <th>deaths_percent</th>\n",
       "      <th>ca_percent</th>\n",
       "    </tr>\n",
       "  </thead>\n",
       "  <tbody>\n",
       "    <tr>\n",
       "      <th>0</th>\n",
       "      <td>Female</td>\n",
       "      <td>24973</td>\n",
       "      <td>2020-04-30</td>\n",
       "      <td>49.5</td>\n",
       "      <td>812.0</td>\n",
       "      <td>40.8</td>\n",
       "      <td>50.31</td>\n",
       "    </tr>\n",
       "    <tr>\n",
       "      <th>1</th>\n",
       "      <td>Male</td>\n",
       "      <td>25167</td>\n",
       "      <td>2020-04-30</td>\n",
       "      <td>49.9</td>\n",
       "      <td>1171.0</td>\n",
       "      <td>58.9</td>\n",
       "      <td>49.69</td>\n",
       "    </tr>\n",
       "    <tr>\n",
       "      <th>2</th>\n",
       "      <td>Unknown</td>\n",
       "      <td>302</td>\n",
       "      <td>2020-04-30</td>\n",
       "      <td>0.6</td>\n",
       "      <td>5.0</td>\n",
       "      <td>0.3</td>\n",
       "      <td>0.00</td>\n",
       "    </tr>\n",
       "    <tr>\n",
       "      <th>3</th>\n",
       "      <td>Female</td>\n",
       "      <td>55605</td>\n",
       "      <td>2020-05-31</td>\n",
       "      <td>49.2</td>\n",
       "      <td>1797.0</td>\n",
       "      <td>44.0</td>\n",
       "      <td>50.30</td>\n",
       "    </tr>\n",
       "    <tr>\n",
       "      <th>4</th>\n",
       "      <td>Male</td>\n",
       "      <td>56841</td>\n",
       "      <td>2020-05-31</td>\n",
       "      <td>50.3</td>\n",
       "      <td>2277.0</td>\n",
       "      <td>55.8</td>\n",
       "      <td>49.70</td>\n",
       "    </tr>\n",
       "    <tr>\n",
       "      <th>5</th>\n",
       "      <td>Unknown</td>\n",
       "      <td>560</td>\n",
       "      <td>2020-05-31</td>\n",
       "      <td>0.5</td>\n",
       "      <td>6.0</td>\n",
       "      <td>0.1</td>\n",
       "      <td>0.00</td>\n",
       "    </tr>\n",
       "    <tr>\n",
       "      <th>6</th>\n",
       "      <td>Female</td>\n",
       "      <td>114626</td>\n",
       "      <td>2020-06-30</td>\n",
       "      <td>49.3</td>\n",
       "      <td>2607.0</td>\n",
       "      <td>43.6</td>\n",
       "      <td>50.30</td>\n",
       "    </tr>\n",
       "    <tr>\n",
       "      <th>7</th>\n",
       "      <td>Male</td>\n",
       "      <td>116952</td>\n",
       "      <td>2020-06-30</td>\n",
       "      <td>50.3</td>\n",
       "      <td>3363.0</td>\n",
       "      <td>56.3</td>\n",
       "      <td>49.70</td>\n",
       "    </tr>\n",
       "    <tr>\n",
       "      <th>8</th>\n",
       "      <td>Unknown</td>\n",
       "      <td>1079</td>\n",
       "      <td>2020-06-30</td>\n",
       "      <td>0.5</td>\n",
       "      <td>8.0</td>\n",
       "      <td>0.1</td>\n",
       "      <td>0.00</td>\n",
       "    </tr>\n",
       "    <tr>\n",
       "      <th>9</th>\n",
       "      <td>Female</td>\n",
       "      <td>249479</td>\n",
       "      <td>2020-07-31</td>\n",
       "      <td>49.9</td>\n",
       "      <td>3904.0</td>\n",
       "      <td>42.9</td>\n",
       "      <td>50.30</td>\n",
       "    </tr>\n",
       "    <tr>\n",
       "      <th>10</th>\n",
       "      <td>Male</td>\n",
       "      <td>245247</td>\n",
       "      <td>2020-07-31</td>\n",
       "      <td>49.0</td>\n",
       "      <td>5178.0</td>\n",
       "      <td>56.9</td>\n",
       "      <td>49.70</td>\n",
       "    </tr>\n",
       "    <tr>\n",
       "      <th>11</th>\n",
       "      <td>Unknown</td>\n",
       "      <td>5404</td>\n",
       "      <td>2020-07-31</td>\n",
       "      <td>1.1</td>\n",
       "      <td>13.0</td>\n",
       "      <td>0.1</td>\n",
       "      <td>0.00</td>\n",
       "    </tr>\n",
       "    <tr>\n",
       "      <th>12</th>\n",
       "      <td>Female</td>\n",
       "      <td>357162</td>\n",
       "      <td>2020-08-31</td>\n",
       "      <td>50.5</td>\n",
       "      <td>5409.0</td>\n",
       "      <td>42.3</td>\n",
       "      <td>50.30</td>\n",
       "    </tr>\n",
       "    <tr>\n",
       "      <th>13</th>\n",
       "      <td>Male</td>\n",
       "      <td>344006</td>\n",
       "      <td>2020-08-31</td>\n",
       "      <td>48.6</td>\n",
       "      <td>7364.0</td>\n",
       "      <td>57.6</td>\n",
       "      <td>49.70</td>\n",
       "    </tr>\n",
       "    <tr>\n",
       "      <th>14</th>\n",
       "      <td>Unknown</td>\n",
       "      <td>6629</td>\n",
       "      <td>2020-08-31</td>\n",
       "      <td>0.9</td>\n",
       "      <td>22.0</td>\n",
       "      <td>0.2</td>\n",
       "      <td>0.00</td>\n",
       "    </tr>\n",
       "    <tr>\n",
       "      <th>15</th>\n",
       "      <td>Female</td>\n",
       "      <td>410433</td>\n",
       "      <td>2020-09-30</td>\n",
       "      <td>50.4</td>\n",
       "      <td>6729.0</td>\n",
       "      <td>42.7</td>\n",
       "      <td>50.30</td>\n",
       "    </tr>\n",
       "    <tr>\n",
       "      <th>16</th>\n",
       "      <td>Male</td>\n",
       "      <td>396552</td>\n",
       "      <td>2020-09-30</td>\n",
       "      <td>48.7</td>\n",
       "      <td>8997.0</td>\n",
       "      <td>57.1</td>\n",
       "      <td>49.70</td>\n",
       "    </tr>\n",
       "    <tr>\n",
       "      <th>17</th>\n",
       "      <td>Unknown</td>\n",
       "      <td>6702</td>\n",
       "      <td>2020-09-30</td>\n",
       "      <td>0.8</td>\n",
       "      <td>31.0</td>\n",
       "      <td>0.2</td>\n",
       "      <td>0.00</td>\n",
       "    </tr>\n",
       "    <tr>\n",
       "      <th>18</th>\n",
       "      <td>Female</td>\n",
       "      <td>468321</td>\n",
       "      <td>2020-10-31</td>\n",
       "      <td>50.5</td>\n",
       "      <td>7533.0</td>\n",
       "      <td>42.7</td>\n",
       "      <td>50.30</td>\n",
       "    </tr>\n",
       "    <tr>\n",
       "      <th>19</th>\n",
       "      <td>Male</td>\n",
       "      <td>450953</td>\n",
       "      <td>2020-10-31</td>\n",
       "      <td>48.7</td>\n",
       "      <td>10098.0</td>\n",
       "      <td>57.2</td>\n",
       "      <td>49.70</td>\n",
       "    </tr>\n",
       "    <tr>\n",
       "      <th>20</th>\n",
       "      <td>Unknown</td>\n",
       "      <td>7260</td>\n",
       "      <td>2020-10-31</td>\n",
       "      <td>0.8</td>\n",
       "      <td>31.0</td>\n",
       "      <td>0.2</td>\n",
       "      <td>0.00</td>\n",
       "    </tr>\n",
       "  </tbody>\n",
       "</table>\n",
       "</div>"
      ],
      "text/plain": [
       "        sex  totalpositive2        date  case_percent   deaths  \\\n",
       "0    Female           24973  2020-04-30          49.5    812.0   \n",
       "1      Male           25167  2020-04-30          49.9   1171.0   \n",
       "2   Unknown             302  2020-04-30           0.6      5.0   \n",
       "3    Female           55605  2020-05-31          49.2   1797.0   \n",
       "4      Male           56841  2020-05-31          50.3   2277.0   \n",
       "5   Unknown             560  2020-05-31           0.5      6.0   \n",
       "6    Female          114626  2020-06-30          49.3   2607.0   \n",
       "7      Male          116952  2020-06-30          50.3   3363.0   \n",
       "8   Unknown            1079  2020-06-30           0.5      8.0   \n",
       "9    Female          249479  2020-07-31          49.9   3904.0   \n",
       "10     Male          245247  2020-07-31          49.0   5178.0   \n",
       "11  Unknown            5404  2020-07-31           1.1     13.0   \n",
       "12   Female          357162  2020-08-31          50.5   5409.0   \n",
       "13     Male          344006  2020-08-31          48.6   7364.0   \n",
       "14  Unknown            6629  2020-08-31           0.9     22.0   \n",
       "15   Female          410433  2020-09-30          50.4   6729.0   \n",
       "16     Male          396552  2020-09-30          48.7   8997.0   \n",
       "17  Unknown            6702  2020-09-30           0.8     31.0   \n",
       "18   Female          468321  2020-10-31          50.5   7533.0   \n",
       "19     Male          450953  2020-10-31          48.7  10098.0   \n",
       "20  Unknown            7260  2020-10-31           0.8     31.0   \n",
       "\n",
       "    deaths_percent  ca_percent  \n",
       "0             40.8       50.31  \n",
       "1             58.9       49.69  \n",
       "2              0.3        0.00  \n",
       "3             44.0       50.30  \n",
       "4             55.8       49.70  \n",
       "5              0.1        0.00  \n",
       "6             43.6       50.30  \n",
       "7             56.3       49.70  \n",
       "8              0.1        0.00  \n",
       "9             42.9       50.30  \n",
       "10            56.9       49.70  \n",
       "11             0.1        0.00  \n",
       "12            42.3       50.30  \n",
       "13            57.6       49.70  \n",
       "14             0.2        0.00  \n",
       "15            42.7       50.30  \n",
       "16            57.1       49.70  \n",
       "17             0.2        0.00  \n",
       "18            42.7       50.30  \n",
       "19            57.2       49.70  \n",
       "20             0.2        0.00  "
      ]
     },
     "execution_count": 3,
     "metadata": {},
     "output_type": "execute_result"
    }
   ],
   "source": [
    "#create for loop to pull last day of each month\n",
    "#print dataframe\n",
    "Last_date_of_the_month=[\"2020-04-30\", \"2020-05-31\", \"2020-06-30\", \"2020-07-31\", \"2020-08-31\", \"2020-09-30\", \"2020-10-31\"]\n",
    "Gender_date_empty_df = pd.DataFrame(columns=['sex', 'totalpositive2', 'date', 'case_percent', 'deaths', 'deaths_percent', 'ca_percent'])\n",
    "for x in Last_date_of_the_month:\n",
    "    Date_gender_df=df_by_sex.loc[df_by_sex['date'] == x]\n",
    "    Gender_date_empty_df = Gender_date_empty_df.append(Date_gender_df, ignore_index=True)\n",
    "Gender_date_empty_df.fillna(value = 0, inplace=True)\n",
    "Gender_date_empty_df"
   ]
  },
  {
   "cell_type": "code",
   "execution_count": 4,
   "metadata": {},
   "outputs": [],
   "source": [
    "#perform loc to pull date fpr 2020-04-30\n",
    "#groupby gender and total positives\n",
    "Date_gender_april_df=Gender_date_empty_df.loc[Gender_date_empty_df[\"date\"]==\"2020-04-30\"]\n",
    "April_gender_positive_count=Date_gender_april_df.groupby(\"sex\")[\"totalpositive2\"].sum()"
   ]
  },
  {
   "cell_type": "code",
   "execution_count": 5,
   "metadata": {},
   "outputs": [],
   "source": [
    "#perform loc to pull date fpr 2020-05-31\n",
    "#groupby gender and total positives\n",
    "Date_gender_may_df=Gender_date_empty_df.loc[Gender_date_empty_df[\"date\"]==\"2020-05-31\"]\n",
    "May_gender_positive_count=Date_gender_may_df.groupby(\"sex\")[\"totalpositive2\"].sum()"
   ]
  },
  {
   "cell_type": "code",
   "execution_count": 6,
   "metadata": {},
   "outputs": [],
   "source": [
    "#perform loc to pull date for 2020-06-30\n",
    "#groupby gender and total positives\n",
    "Date_gender_june_df=Gender_date_empty_df.loc[Gender_date_empty_df[\"date\"]==\"2020-06-30\"]\n",
    "June_gender_positive_count=Date_gender_june_df.groupby(\"sex\")[\"totalpositive2\"].sum()"
   ]
  },
  {
   "cell_type": "code",
   "execution_count": 7,
   "metadata": {},
   "outputs": [],
   "source": [
    "#perform loc to pull date for 2020-07-31\n",
    "#groupby gender and total positives\n",
    "Date_gender_july_df=Gender_date_empty_df.loc[Gender_date_empty_df[\"date\"]==\"2020-07-31\"]\n",
    "July_gender_positive_count=Date_gender_july_df.groupby(\"sex\")[\"totalpositive2\"].sum()"
   ]
  },
  {
   "cell_type": "code",
   "execution_count": 8,
   "metadata": {},
   "outputs": [],
   "source": [
    "#perform loc to pull date for 2020-08-31\n",
    "#groupby gender and total positives\n",
    "Date_gender_august_df=Gender_date_empty_df.loc[Gender_date_empty_df[\"date\"]==\"2020-08-31\"]\n",
    "August_gender_positive_count=Date_gender_august_df.groupby(\"sex\")[\"totalpositive2\"].sum()"
   ]
  },
  {
   "cell_type": "code",
   "execution_count": 9,
   "metadata": {},
   "outputs": [],
   "source": [
    "#perform loc to pull date for 2020-09-30\n",
    "#groupby gender and total positives\n",
    "Date_gender_september_df=Gender_date_empty_df.loc[Gender_date_empty_df[\"date\"]==\"2020-09-30\"]\n",
    "September_gender_positive_count=Date_gender_september_df.groupby(\"sex\")[\"totalpositive2\"].sum()"
   ]
  },
  {
   "cell_type": "code",
   "execution_count": 10,
   "metadata": {},
   "outputs": [],
   "source": [
    "#perform loc to pull date for 2020-10-31\n",
    "#groupby gender and total positives\n",
    "Date_gender_october_df=Gender_date_empty_df.loc[Gender_date_empty_df[\"date\"]==\"2020-10-31\"]\n",
    "October_gender_positive_count=Date_gender_october_df.groupby(\"sex\")[\"totalpositive2\"].sum()"
   ]
  },
  {
   "cell_type": "code",
   "execution_count": 11,
   "metadata": {},
   "outputs": [],
   "source": [
    "#perform percent change for May and April\n",
    "April_May_gender_positive_count = ((May_gender_positive_count - April_gender_positive_count) / April_gender_positive_count) *100 \n"
   ]
  },
  {
   "cell_type": "code",
   "execution_count": 12,
   "metadata": {},
   "outputs": [],
   "source": [
    "#perform percent change for June and May\n",
    "May_June_gender_positive_count = ((June_gender_positive_count - May_gender_positive_count) / May_gender_positive_count) *100"
   ]
  },
  {
   "cell_type": "code",
   "execution_count": 13,
   "metadata": {},
   "outputs": [],
   "source": [
    "#perform percent change for July and June\n",
    "June_July_gender_positive_count = ((July_gender_positive_count - June_gender_positive_count) / June_gender_positive_count) *100"
   ]
  },
  {
   "cell_type": "code",
   "execution_count": 14,
   "metadata": {},
   "outputs": [],
   "source": [
    "#perform percent change for August and July\n",
    "July_August_gender_positive_count = ((August_gender_positive_count - July_gender_positive_count) / July_gender_positive_count) *100"
   ]
  },
  {
   "cell_type": "code",
   "execution_count": 15,
   "metadata": {},
   "outputs": [],
   "source": [
    "#perform percent change for Septemnber and August\n",
    "August_September_gender_positive_count = ((September_gender_positive_count - August_gender_positive_count) / August_gender_positive_count) *100"
   ]
  },
  {
   "cell_type": "code",
   "execution_count": 16,
   "metadata": {},
   "outputs": [],
   "source": [
    "#perform percent change for October and September\n",
    "September_October_gender_positive_count = ((October_gender_positive_count - September_gender_positive_count) / September_gender_positive_count) *100"
   ]
  },
  {
   "cell_type": "code",
   "execution_count": 17,
   "metadata": {},
   "outputs": [
    {
     "data": {
      "text/html": [
       "<div>\n",
       "<style scoped>\n",
       "    .dataframe tbody tr th:only-of-type {\n",
       "        vertical-align: middle;\n",
       "    }\n",
       "\n",
       "    .dataframe tbody tr th {\n",
       "        vertical-align: top;\n",
       "    }\n",
       "\n",
       "    .dataframe thead th {\n",
       "        text-align: right;\n",
       "    }\n",
       "</style>\n",
       "<table border=\"1\" class=\"dataframe\">\n",
       "  <thead>\n",
       "    <tr style=\"text-align: right;\">\n",
       "      <th></th>\n",
       "      <th>Apr-May Positive % Increase</th>\n",
       "      <th>May-Jun Positive % Increase</th>\n",
       "      <th>Jun-Jul Positive % Increase</th>\n",
       "      <th>Jul-Aug Positive % Increase</th>\n",
       "      <th>Aug-Sep Positive % Increase</th>\n",
       "      <th>Sep-Oct Positive % Increase</th>\n",
       "    </tr>\n",
       "    <tr>\n",
       "      <th>sex</th>\n",
       "      <th></th>\n",
       "      <th></th>\n",
       "      <th></th>\n",
       "      <th></th>\n",
       "      <th></th>\n",
       "      <th></th>\n",
       "    </tr>\n",
       "  </thead>\n",
       "  <tbody>\n",
       "    <tr>\n",
       "      <th>Female</th>\n",
       "      <td>122.66%</td>\n",
       "      <td>106.14%</td>\n",
       "      <td>117.65%</td>\n",
       "      <td>43.16%</td>\n",
       "      <td>14.92%</td>\n",
       "      <td>14.10%</td>\n",
       "    </tr>\n",
       "    <tr>\n",
       "      <th>Male</th>\n",
       "      <td>125.86%</td>\n",
       "      <td>105.75%</td>\n",
       "      <td>109.70%</td>\n",
       "      <td>40.27%</td>\n",
       "      <td>15.27%</td>\n",
       "      <td>13.72%</td>\n",
       "    </tr>\n",
       "    <tr>\n",
       "      <th>Unknown</th>\n",
       "      <td>85.43%</td>\n",
       "      <td>92.68%</td>\n",
       "      <td>400.83%</td>\n",
       "      <td>22.67%</td>\n",
       "      <td>1.10%</td>\n",
       "      <td>8.33%</td>\n",
       "    </tr>\n",
       "  </tbody>\n",
       "</table>\n",
       "</div>"
      ],
      "text/plain": [
       "        Apr-May Positive % Increase May-Jun Positive % Increase  \\\n",
       "sex                                                               \n",
       "Female                      122.66%                     106.14%   \n",
       "Male                        125.86%                     105.75%   \n",
       "Unknown                      85.43%                      92.68%   \n",
       "\n",
       "        Jun-Jul Positive % Increase Jul-Aug Positive % Increase  \\\n",
       "sex                                                               \n",
       "Female                      117.65%                      43.16%   \n",
       "Male                        109.70%                      40.27%   \n",
       "Unknown                     400.83%                      22.67%   \n",
       "\n",
       "        Aug-Sep Positive % Increase Sep-Oct Positive % Increase  \n",
       "sex                                                              \n",
       "Female                       14.92%                      14.10%  \n",
       "Male                         15.27%                      13.72%  \n",
       "Unknown                       1.10%                       8.33%  "
      ]
     },
     "execution_count": 17,
     "metadata": {},
     "output_type": "execute_result"
    }
   ],
   "source": [
    "#create new dataframe and format with percentage \n",
    "Complete_percentages_df = pd.DataFrame({'Apr-May Positive % Increase': April_May_gender_positive_count, 'May-Jun Positive % Increase': May_June_gender_positive_count, \n",
    "                                        'Jun-Jul Positive % Increase': June_July_gender_positive_count,'Jul-Aug Positive % Increase': July_August_gender_positive_count, \n",
    "                                        'Aug-Sep Positive % Increase': August_September_gender_positive_count, 'Sep-Oct Positive % Increase': September_October_gender_positive_count})\n",
    "Complete_percentages_df['Apr-May Positive % Increase'] = Complete_percentages_df['Apr-May Positive % Increase'].map(\"{:.2f}%\".format)\n",
    "Complete_percentages_df['May-Jun Positive % Increase'] = Complete_percentages_df['May-Jun Positive % Increase'].map(\"{:.2f}%\".format)\n",
    "Complete_percentages_df['Jun-Jul Positive % Increase'] = Complete_percentages_df['Jun-Jul Positive % Increase'].map(\"{:.2f}%\".format)\n",
    "Complete_percentages_df['Jul-Aug Positive % Increase'] = Complete_percentages_df['Jul-Aug Positive % Increase'].map(\"{:.2f}%\".format)\n",
    "Complete_percentages_df['Aug-Sep Positive % Increase'] = Complete_percentages_df['Aug-Sep Positive % Increase'].map(\"{:.2f}%\".format)\n",
    "Complete_percentages_df['Sep-Oct Positive % Increase'] = Complete_percentages_df['Sep-Oct Positive % Increase'].map(\"{:.2f}%\".format)\n",
    "\n",
    "Complete_percentages_df"
   ]
  },
  {
   "cell_type": "code",
   "execution_count": 18,
   "metadata": {},
   "outputs": [
    {
     "data": {
      "image/png": "[encoded data removed]",
      "text/plain": [
       "<Figure size 432x288 with 1 Axes>"
      ]
     },
     "metadata": {
      "needs_background": "light"
     },
     "output_type": "display_data"
    },
    {
     "data": {
      "text/plain": [
       "<Figure size 432x288 with 0 Axes>"
      ]
     },
     "metadata": {},
     "output_type": "display_data"
    }
   ],
   "source": [
    "# set width of bar\n",
    "barWidth = 0.25\n",
    " \n",
    "# set height of bar\n",
    "bars1 = [122.66, 106.14, 117.65, 43.16, 14.92, 14.10]\n",
    "bars2 = [125.86, 105.75, 109.70, 40.27, 15.27, 13.72]\n",
    "bars3 = [85.43, 92.68, 400.83, 22.67, 1.10, 8.33]\n",
    " \n",
    "# Set position of bar on X axis\n",
    "r1 = np.arange(len(bars1))\n",
    "r2 = [x + barWidth for x in r1]\n",
    "r3 = [x + barWidth for x in r2]\n",
    " \n",
    "# Make the plot\n",
    "plt.bar(r1, bars1, color='#7f6d5f', width=barWidth, edgecolor='white', label='Female')\n",
    "plt.bar(r2, bars2, color='#557f2d', width=barWidth, edgecolor='white', label='Male')\n",
    "plt.bar(r3, bars3, color='#2d7f5e', width=barWidth, edgecolor='white', label='Unknown')\n",
    " \n",
    "# Add xticks on the middle of the group bars\n",
    "plt.xlabel('cases total', fontweight='bold')\n",
    "plt.ylabel('percent change in %', fontweight='bold')\n",
    "plt.xticks([r + barWidth for r in range(len(bars1))], ['Apr-May', 'May-Jun', 'Jun-Jul ', 'Jul-Aug ', 'Aug-Sep', 'Sep-Oct'])\n",
    "plt.title('Cases Percent Change Between Months')\n",
    "#save fig\n",
    "plt.savefig('Cases Percent Change Between Months.png')\n",
    "# Create legend & Show graphic\n",
    "plt.legend()\n",
    "plt.show()\n"
   ]
  },
  {
   "cell_type": "code",
   "execution_count": 19,
   "metadata": {},
   "outputs": [],
   "source": [
    "#perform loc to pull date for 2020-04-30\n",
    "#groupby gender and total death\n",
    "Date_gender_april_df=Gender_date_empty_df.loc[Gender_date_empty_df[\"date\"]==\"2020-04-30\"]\n",
    "April_gender_deaths_count=Date_gender_april_df.groupby(\"sex\")[\"deaths\"].sum()"
   ]
  },
  {
   "cell_type": "code",
   "execution_count": 20,
   "metadata": {},
   "outputs": [],
   "source": [
    "#perform loc to pull date for 2020-05-31\n",
    "#groupby gender and total death\n",
    "Date_gender_may_df=Gender_date_empty_df.loc[Gender_date_empty_df[\"date\"]==\"2020-05-31\"]\n",
    "May_gender_deaths_count=Date_gender_may_df.groupby(\"sex\")[\"deaths\"].sum()"
   ]
  },
  {
   "cell_type": "code",
   "execution_count": 21,
   "metadata": {},
   "outputs": [],
   "source": [
    "#perform loc to pull date for 2020-06-30\n",
    "#groupby gender and total death\n",
    "Date_gender_june_df=Gender_date_empty_df.loc[Gender_date_empty_df[\"date\"]==\"2020-06-30\"]\n",
    "June_gender_deaths_count=Date_gender_june_df.groupby(\"sex\")[\"deaths\"].sum()"
   ]
  },
  {
   "cell_type": "code",
   "execution_count": 22,
   "metadata": {},
   "outputs": [],
   "source": [
    "#perform loc to pull date for 2020-07-31\n",
    "#groupby gender and total death\n",
    "Date_gender_july_df=Gender_date_empty_df.loc[Gender_date_empty_df[\"date\"]==\"2020-07-31\"]\n",
    "July_gender_deaths_count=Date_gender_july_df.groupby(\"sex\")[\"deaths\"].sum()"
   ]
  },
  {
   "cell_type": "code",
   "execution_count": 23,
   "metadata": {},
   "outputs": [],
   "source": [
    "#perform loc to pull date for 2020-08-31\n",
    "#groupby gender and total death\n",
    "Date_gender_august_df=Gender_date_empty_df.loc[Gender_date_empty_df[\"date\"]==\"2020-08-31\"]\n",
    "August_gender_deaths_count=Date_gender_august_df.groupby(\"sex\")[\"deaths\"].sum()"
   ]
  },
  {
   "cell_type": "code",
   "execution_count": 24,
   "metadata": {},
   "outputs": [],
   "source": [
    "#perform loc to pull date for 2020-09-30\n",
    "#groupby gender and total death\n",
    "Date_gender_september_df=Gender_date_empty_df.loc[Gender_date_empty_df[\"date\"]==\"2020-09-30\"]\n",
    "September_gender_deaths_count=Date_gender_september_df.groupby(\"sex\")[\"deaths\"].sum()"
   ]
  },
  {
   "cell_type": "code",
   "execution_count": 25,
   "metadata": {},
   "outputs": [],
   "source": [
    "#perform loc to pull date for 2020-10-31\n",
    "#groupby gender and total death\n",
    "Date_gender_october_df=Gender_date_empty_df.loc[Gender_date_empty_df[\"date\"]==\"2020-10-31\"]\n",
    "October_gender_deaths_count=Date_gender_october_df.groupby(\"sex\")[\"deaths\"].sum()"
   ]
  },
  {
   "cell_type": "code",
   "execution_count": 26,
   "metadata": {},
   "outputs": [],
   "source": [
    "#perform percent death change for May and April\n",
    "April_May_gender_deaths_count = ((May_gender_deaths_count - April_gender_deaths_count) / April_gender_deaths_count) *100"
   ]
  },
  {
   "cell_type": "code",
   "execution_count": 27,
   "metadata": {},
   "outputs": [],
   "source": [
    "#perform percent death change for June and May\n",
    "May_June_gender_deaths_count = ((June_gender_deaths_count - May_gender_deaths_count) / May_gender_deaths_count) *100"
   ]
  },
  {
   "cell_type": "code",
   "execution_count": 28,
   "metadata": {},
   "outputs": [],
   "source": [
    "#perform percent death change for July and June\n",
    "June_July_gender_deaths_count = ((July_gender_deaths_count - June_gender_deaths_count) / June_gender_deaths_count) *100"
   ]
  },
  {
   "cell_type": "code",
   "execution_count": 29,
   "metadata": {},
   "outputs": [],
   "source": [
    "#perform percent death change for August and July\n",
    "July_August_gender_deaths_count = ((August_gender_deaths_count - July_gender_deaths_count) / July_gender_deaths_count) *100"
   ]
  },
  {
   "cell_type": "code",
   "execution_count": 30,
   "metadata": {},
   "outputs": [],
   "source": [
    "#perform percent death change for September and August\n",
    "August_September_gender_deaths_count = ((September_gender_deaths_count - August_gender_deaths_count) / August_gender_deaths_count) *100"
   ]
  },
  {
   "cell_type": "code",
   "execution_count": 31,
   "metadata": {},
   "outputs": [],
   "source": [
    "#perform percent death change for October and September\n",
    "September_October_gender_deaths_count = ((October_gender_deaths_count - September_gender_deaths_count) / September_gender_deaths_count) *100"
   ]
  },
  {
   "cell_type": "code",
   "execution_count": 32,
   "metadata": {},
   "outputs": [
    {
     "data": {
      "text/html": [
       "<div>\n",
       "<style scoped>\n",
       "    .dataframe tbody tr th:only-of-type {\n",
       "        vertical-align: middle;\n",
       "    }\n",
       "\n",
       "    .dataframe tbody tr th {\n",
       "        vertical-align: top;\n",
       "    }\n",
       "\n",
       "    .dataframe thead th {\n",
       "        text-align: right;\n",
       "    }\n",
       "</style>\n",
       "<table border=\"1\" class=\"dataframe\">\n",
       "  <thead>\n",
       "    <tr style=\"text-align: right;\">\n",
       "      <th></th>\n",
       "      <th>Apr-May Death % Increase</th>\n",
       "      <th>May-Jun Death % Increase</th>\n",
       "      <th>Jun-Jul Death % Increase</th>\n",
       "      <th>Jul-Aug Death % Increase</th>\n",
       "      <th>Aug-Sep Death % Increase</th>\n",
       "      <th>Sep-Oct Death % Increase</th>\n",
       "    </tr>\n",
       "    <tr>\n",
       "      <th>sex</th>\n",
       "      <th></th>\n",
       "      <th></th>\n",
       "      <th></th>\n",
       "      <th></th>\n",
       "      <th></th>\n",
       "      <th></th>\n",
       "    </tr>\n",
       "  </thead>\n",
       "  <tbody>\n",
       "    <tr>\n",
       "      <th>Female</th>\n",
       "      <td>121.31%</td>\n",
       "      <td>45.08%</td>\n",
       "      <td>49.75%</td>\n",
       "      <td>38.55%</td>\n",
       "      <td>24.40%</td>\n",
       "      <td>11.95%</td>\n",
       "    </tr>\n",
       "    <tr>\n",
       "      <th>Male</th>\n",
       "      <td>94.45%</td>\n",
       "      <td>47.69%</td>\n",
       "      <td>53.97%</td>\n",
       "      <td>42.22%</td>\n",
       "      <td>22.18%</td>\n",
       "      <td>12.24%</td>\n",
       "    </tr>\n",
       "    <tr>\n",
       "      <th>Unknown</th>\n",
       "      <td>20.00%</td>\n",
       "      <td>33.33%</td>\n",
       "      <td>62.50%</td>\n",
       "      <td>69.23%</td>\n",
       "      <td>40.91%</td>\n",
       "      <td>0.00%</td>\n",
       "    </tr>\n",
       "  </tbody>\n",
       "</table>\n",
       "</div>"
      ],
      "text/plain": [
       "        Apr-May Death % Increase May-Jun Death % Increase  \\\n",
       "sex                                                         \n",
       "Female                   121.31%                   45.08%   \n",
       "Male                      94.45%                   47.69%   \n",
       "Unknown                   20.00%                   33.33%   \n",
       "\n",
       "        Jun-Jul Death % Increase Jul-Aug Death % Increase  \\\n",
       "sex                                                         \n",
       "Female                    49.75%                   38.55%   \n",
       "Male                      53.97%                   42.22%   \n",
       "Unknown                   62.50%                   69.23%   \n",
       "\n",
       "        Aug-Sep Death % Increase Sep-Oct Death % Increase  \n",
       "sex                                                        \n",
       "Female                    24.40%                   11.95%  \n",
       "Male                      22.18%                   12.24%  \n",
       "Unknown                   40.91%                    0.00%  "
      ]
     },
     "execution_count": 32,
     "metadata": {},
     "output_type": "execute_result"
    }
   ],
   "source": [
    "#create new dataframe and format with percentage \n",
    "Complete_deaths_df = pd.DataFrame({'Apr-May Death % Increase': April_May_gender_deaths_count, 'May-Jun Death % Increase': May_June_gender_deaths_count, \n",
    "                                        'Jun-Jul Death % Increase': June_July_gender_deaths_count,'Jul-Aug Death % Increase': July_August_gender_deaths_count, \n",
    "                                        'Aug-Sep Death % Increase': August_September_gender_deaths_count, 'Sep-Oct Death % Increase': September_October_gender_deaths_count})\n",
    "Complete_deaths_df.fillna(value = 0, inplace=True)\n",
    "Complete_deaths_df['Apr-May Death % Increase'] = Complete_deaths_df['Apr-May Death % Increase'].map(\"{:.2f}%\".format)\n",
    "Complete_deaths_df['May-Jun Death % Increase'] = Complete_deaths_df['May-Jun Death % Increase'].map(\"{:.2f}%\".format)\n",
    "Complete_deaths_df['Jun-Jul Death % Increase'] = Complete_deaths_df['Jun-Jul Death % Increase'].map(\"{:.2f}%\".format)\n",
    "Complete_deaths_df['Jul-Aug Death % Increase'] = Complete_deaths_df['Jul-Aug Death % Increase'].map(\"{:.2f}%\".format)\n",
    "Complete_deaths_df['Aug-Sep Death % Increase'] = Complete_deaths_df['Aug-Sep Death % Increase'].map(\"{:.2f}%\".format)\n",
    "Complete_deaths_df['Sep-Oct Death % Increase'] = Complete_deaths_df['Sep-Oct Death % Increase'].map(\"{:.2f}%\".format)\n",
    "Complete_deaths_df"
   ]
  },
  {
   "cell_type": "code",
   "execution_count": 33,
   "metadata": {},
   "outputs": [
    {
     "data": {
      "image/png": "[encoded data removed]",
      "text/plain": [
       "<Figure size 432x288 with 1 Axes>"
      ]
     },
     "metadata": {
      "needs_background": "light"
     },
     "output_type": "display_data"
    },
    {
     "data": {
      "text/plain": [
       "<Figure size 432x288 with 0 Axes>"
      ]
     },
     "metadata": {},
     "output_type": "display_data"
    }
   ],
   "source": [
    "# set width of bar\n",
    "barWidth = 0.25\n",
    " \n",
    "# set height of bar\n",
    "bars1 = [121.31, 45.08, 49.75, 38.55, 24.40, 11.95]\n",
    "bars2 = [94.45, 47.69, 53.97, 42.22, 22.18, 12.24]\n",
    "bars3 = [20.00, 33.33, 62.50, 69.23, 40.91, 0.00]\n",
    " \n",
    "# Set position of bar on X axis\n",
    "r1 = np.arange(len(bars1))\n",
    "r2 = [x + barWidth for x in r1]\n",
    "r3 = [x + barWidth for x in r2]\n",
    " \n",
    "# Make the plot\n",
    "plt.bar(r1, bars1, color='#7f6d5f', width=barWidth, edgecolor='white', label='Female')\n",
    "plt.bar(r2, bars2, color='#557f2d', width=barWidth, edgecolor='white', label='Male')\n",
    "plt.bar(r3, bars3, color='#2d7f5e', width=barWidth, edgecolor='white', label='Unknown')\n",
    " \n",
    "# Add xticks on the middle of the group bars\n",
    "plt.xlabel('group', fontweight='bold')\n",
    "plt.ylabel('percent change in %', fontweight='bold')\n",
    "plt.title('Deaths Percent Change Between Months')\n",
    "plt.xticks([r + barWidth for r in range(len(bars1))], ['Apr-May', 'May-Jun', 'Jun-Jul ', 'Jul-Aug ', 'Aug-Sep', 'Sep-Oct'])\n",
    "#Save Figure\n",
    "plt.savefig('Deaths Percent Change Between Months.png')\n",
    "# Create legend & Show graphic\n",
    "plt.legend()\n",
    "plt.show()\n",
    "\n"
   ]
  },
  {
   "cell_type": "code",
   "execution_count": 34,
   "metadata": {},
   "outputs": [
    {
     "data": {
      "text/html": [
       "<div>\n",
       "<style scoped>\n",
       "    .dataframe tbody tr th:only-of-type {\n",
       "        vertical-align: middle;\n",
       "    }\n",
       "\n",
       "    .dataframe tbody tr th {\n",
       "        vertical-align: top;\n",
       "    }\n",
       "\n",
       "    .dataframe thead th {\n",
       "        text-align: right;\n",
       "    }\n",
       "</style>\n",
       "<table border=\"1\" class=\"dataframe\">\n",
       "  <thead>\n",
       "    <tr style=\"text-align: right;\">\n",
       "      <th></th>\n",
       "      <th>sex</th>\n",
       "      <th>totalpositive2</th>\n",
       "      <th>date</th>\n",
       "      <th>case_percent</th>\n",
       "      <th>deaths</th>\n",
       "      <th>deaths_percent</th>\n",
       "      <th>ca_percent</th>\n",
       "    </tr>\n",
       "  </thead>\n",
       "  <tbody>\n",
       "    <tr>\n",
       "      <th>0</th>\n",
       "      <td>Female</td>\n",
       "      <td>18395</td>\n",
       "      <td>2020-04-22</td>\n",
       "      <td>49.23</td>\n",
       "      <td>552.0</td>\n",
       "      <td>39.54</td>\n",
       "      <td>50.31</td>\n",
       "    </tr>\n",
       "    <tr>\n",
       "      <th>1</th>\n",
       "      <td>Male</td>\n",
       "      <td>18690</td>\n",
       "      <td>2020-04-22</td>\n",
       "      <td>50.01</td>\n",
       "      <td>839.0</td>\n",
       "      <td>60.10</td>\n",
       "      <td>49.69</td>\n",
       "    </tr>\n",
       "    <tr>\n",
       "      <th>2</th>\n",
       "      <td>Unknown</td>\n",
       "      <td>284</td>\n",
       "      <td>2020-04-22</td>\n",
       "      <td>0.76</td>\n",
       "      <td>5.0</td>\n",
       "      <td>0.36</td>\n",
       "      <td>0.00</td>\n",
       "    </tr>\n",
       "  </tbody>\n",
       "</table>\n",
       "</div>"
      ],
      "text/plain": [
       "       sex  totalpositive2        date  case_percent  deaths  deaths_percent  \\\n",
       "0   Female           18395  2020-04-22         49.23   552.0           39.54   \n",
       "1     Male           18690  2020-04-22         50.01   839.0           60.10   \n",
       "2  Unknown             284  2020-04-22          0.76     5.0            0.36   \n",
       "\n",
       "   ca_percent  \n",
       "0       50.31  \n",
       "1       49.69  \n",
       "2        0.00  "
      ]
     },
     "execution_count": 34,
     "metadata": {},
     "output_type": "execute_result"
    }
   ],
   "source": [
    "#create for loop to pull first date of full reporting \n",
    "#print dataframe\n",
    "Beginning_date=[\"2020-04-22\"]\n",
    "Gender_beginning_date_empty_df = pd.DataFrame(columns=['sex', 'totalpositive2', 'date', 'case_percent', 'deaths', 'deaths_percent', 'ca_percent'])\n",
    "for x in Beginning_date:\n",
    "    Date_beginning_gender_df=df_by_sex.loc[df_by_sex['date'] == x]\n",
    "    Gender_beginning_date_empty_df = Gender_beginning_date_empty_df.append(Date_beginning_gender_df, ignore_index=True)\n",
    "Gender_beginning_date_empty_df.fillna(value = 0, inplace=True)\n",
    "Gender_beginning_date_empty_df"
   ]
  },
  {
   "cell_type": "code",
   "execution_count": 35,
   "metadata": {
    "scrolled": true
   },
   "outputs": [
    {
     "data": {
      "text/html": [
       "<div>\n",
       "<style scoped>\n",
       "    .dataframe tbody tr th:only-of-type {\n",
       "        vertical-align: middle;\n",
       "    }\n",
       "\n",
       "    .dataframe tbody tr th {\n",
       "        vertical-align: top;\n",
       "    }\n",
       "\n",
       "    .dataframe thead th {\n",
       "        text-align: right;\n",
       "    }\n",
       "</style>\n",
       "<table border=\"1\" class=\"dataframe\">\n",
       "  <thead>\n",
       "    <tr style=\"text-align: right;\">\n",
       "      <th></th>\n",
       "      <th>sex</th>\n",
       "      <th>totalpositive2</th>\n",
       "      <th>date</th>\n",
       "      <th>case_percent</th>\n",
       "      <th>deaths</th>\n",
       "      <th>deaths_percent</th>\n",
       "      <th>ca_percent</th>\n",
       "    </tr>\n",
       "  </thead>\n",
       "  <tbody>\n",
       "    <tr>\n",
       "      <th>0</th>\n",
       "      <td>Female</td>\n",
       "      <td>510169</td>\n",
       "      <td>2020-11-13</td>\n",
       "      <td>50.6</td>\n",
       "      <td>7780.0</td>\n",
       "      <td>42.7</td>\n",
       "      <td>50.3</td>\n",
       "    </tr>\n",
       "    <tr>\n",
       "      <th>1</th>\n",
       "      <td>Male</td>\n",
       "      <td>490387</td>\n",
       "      <td>2020-11-13</td>\n",
       "      <td>48.6</td>\n",
       "      <td>10426.0</td>\n",
       "      <td>57.2</td>\n",
       "      <td>49.7</td>\n",
       "    </tr>\n",
       "    <tr>\n",
       "      <th>2</th>\n",
       "      <td>Unknown</td>\n",
       "      <td>7821</td>\n",
       "      <td>2020-11-13</td>\n",
       "      <td>0.8</td>\n",
       "      <td>31.0</td>\n",
       "      <td>0.2</td>\n",
       "      <td>0.0</td>\n",
       "    </tr>\n",
       "  </tbody>\n",
       "</table>\n",
       "</div>"
      ],
      "text/plain": [
       "       sex  totalpositive2        date  case_percent   deaths  deaths_percent  \\\n",
       "0   Female          510169  2020-11-13          50.6   7780.0            42.7   \n",
       "1     Male          490387  2020-11-13          48.6  10426.0            57.2   \n",
       "2  Unknown            7821  2020-11-13           0.8     31.0             0.2   \n",
       "\n",
       "   ca_percent  \n",
       "0        50.3  \n",
       "1        49.7  \n",
       "2         0.0  "
      ]
     },
     "execution_count": 35,
     "metadata": {},
     "output_type": "execute_result"
    }
   ],
   "source": [
    "#create for loop to pull most recent reporting date\n",
    "#print dataframe\n",
    "Ending_date=[\"2020-11-13\"]\n",
    "Gender_ending_date_empty_df = pd.DataFrame(columns=['sex', 'totalpositive2', 'date', 'case_percent', 'deaths', 'deaths_percent', 'ca_percent'])\n",
    "for x in Ending_date:\n",
    "    Date_ending_gender_df=df_by_sex.loc[df_by_sex['date'] == x]\n",
    "    Gender_ending_date_empty_df = Gender_ending_date_empty_df.append(Date_ending_gender_df, ignore_index=True)\n",
    "Gender_ending_date_empty_df.fillna(value = 0, inplace=True)\n",
    "Gender_ending_date_empty_df"
   ]
  },
  {
   "cell_type": "code",
   "execution_count": 36,
   "metadata": {},
   "outputs": [
    {
     "data": {
      "image/png": "[encoded data removed]",
      "text/plain": [
       "<Figure size 720x504 with 1 Axes>"
      ]
     },
     "metadata": {},
     "output_type": "display_data"
    },
    {
     "data": {
      "text/plain": [
       "<Figure size 432x288 with 0 Axes>"
      ]
     },
     "metadata": {},
     "output_type": "display_data"
    }
   ],
   "source": [
    "#Create pie chart for total beginning cases\n",
    "genders = ['Female', 'Male', 'Unknown']\n",
    "total_positives = [18395, 18690, 284 ]\n",
    "colors= [\"yellow\", \"green\", \"red\"]\n",
    "explode = (0,0,0.05)\n",
    "fig = plt.figure(figsize =(10,7))\n",
    "plt.title(\"Earliest Positives %\")\n",
    "plt.pie(total_positives, explode=explode, labels=genders, colors=colors, autopct=\"%1.1f%%\", shadow=True, startangle=270)\n",
    "plt.axis(\"equal\")\n",
    "#save figure\n",
    "plt.savefig('Earliest Positives %.png')\n",
    "plt.show()\n",
    "\n"
   ]
  },
  {
   "cell_type": "code",
   "execution_count": 37,
   "metadata": {},
   "outputs": [
    {
     "data": {
      "image/png": "[encoded data removed]",
      "text/plain": [
       "<Figure size 720x504 with 1 Axes>"
      ]
     },
     "metadata": {},
     "output_type": "display_data"
    },
    {
     "data": {
      "text/plain": [
       "<Figure size 432x288 with 0 Axes>"
      ]
     },
     "metadata": {},
     "output_type": "display_data"
    }
   ],
   "source": [
    "#Create pie chart for total last cases\n",
    "genders = ['Female', 'Male', 'Unknown']\n",
    "total_positives = [510169, 490387, 7821 ]\n",
    "colors= [\"yellow\", \"green\", \"red\"]\n",
    "explode = (0,0,0.05)\n",
    "fig = plt.figure(figsize =(10,7))\n",
    "plt.title(\"Last Positives %\")\n",
    "plt.pie(total_positives, explode=explode, labels=genders, colors=colors, autopct=\"%1.1f%%\", shadow=True, startangle=270)\n",
    "plt.axis(\"equal\")\n",
    "#save figure\n",
    "plt.savefig('Last Positives %.png')\n",
    "plt.show()\n",
    "\n"
   ]
  },
  {
   "cell_type": "code",
   "execution_count": 38,
   "metadata": {
    "scrolled": true
   },
   "outputs": [
    {
     "data": {
      "image/png": "[encoded data removed]",
      "text/plain": [
       "<Figure size 720x504 with 1 Axes>"
      ]
     },
     "metadata": {},
     "output_type": "display_data"
    },
    {
     "data": {
      "text/plain": [
       "<Figure size 432x288 with 0 Axes>"
      ]
     },
     "metadata": {},
     "output_type": "display_data"
    }
   ],
   "source": [
    "#Create pie chart for total beginning deaths\n",
    "genders = ['Female', 'Male', 'Unknown']\n",
    "total_positives = [552.0, 839.0, 5.0 ]\n",
    "colors= [\"yellow\", \"green\", \"red\"]\n",
    "explode = (0,0,0.05)\n",
    "fig = plt.figure(figsize =(10,7))\n",
    "plt.title(\"Earliest Death %\")\n",
    "plt.pie(total_positives, explode=explode, labels=genders, colors=colors, autopct=\"%1.1f%%\", shadow=True, startangle=270)\n",
    "plt.axis(\"equal\")\n",
    "#save figure\n",
    "plt.savefig('Earliest Death %.png')\n",
    "plt.show()\n",
    "\n"
   ]
  },
  {
   "cell_type": "code",
   "execution_count": 39,
   "metadata": {},
   "outputs": [
    {
     "data": {
      "image/png": "[encoded data removed]",
      "text/plain": [
       "<Figure size 720x504 with 1 Axes>"
      ]
     },
     "metadata": {},
     "output_type": "display_data"
    },
    {
     "data": {
      "text/plain": [
       "<Figure size 432x288 with 0 Axes>"
      ]
     },
     "metadata": {},
     "output_type": "display_data"
    }
   ],
   "source": [
    "#Create pie chart for total last deaths\n",
    "genders = ['Female', 'Male', 'Unknown']\n",
    "total_positives = [7780.0, 10426.0, 31.0 ]\n",
    "colors= [\"yellow\", \"green\", \"red\"]\n",
    "explode = (0,0,0.05)\n",
    "fig = plt.figure(figsize =(10,7))\n",
    "plt.title(\"Latest Death %\")\n",
    "plt.pie(total_positives, explode=explode, labels=genders, colors=colors, autopct=\"%1.1f%%\", shadow=True, startangle=270)\n",
    "plt.axis(\"equal\")\n",
    "plt.savefig('Latest Death %.png')\n",
    "plt.show()\n"
   ]
  }
 ],
 "metadata": {
  "kernelspec": {
   "display_name": "Python [conda env:projects] *",
   "language": "python",
   "name": "conda-env-projects-py"
  },
  "language_info": {
   "codemirror_mode": {
    "name": "ipython",
    "version": 3
   },
   "file_extension": ".py",
   "mimetype": "text/x-python",
   "name": "python",
   "nbconvert_exporter": "python",
   "pygments_lexer": "ipython3",
   "version": "3.8.3"
  }
 },
 "nbformat": 4,
 "nbformat_minor": 2
}
